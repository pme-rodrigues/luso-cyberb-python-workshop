{
 "cells": [
  {
   "cell_type": "markdown",
   "id": "7bba1add",
   "metadata": {},
   "source": [
    "# 🖥️ Python Laboratory 5️⃣: Conditionals and Loops\n",
    "<br>\n",
    "\n",
    "In this session, we’ll explore two foundational concepts in Python: **Conditionals** and **Loops**. These structures are essential tools for controlling the flow of a program, enabling it to make decisions, handle repetitive tasks, and respond dynamically to different inputs or conditions.\n",
    "\n",
    "### Why are Conditionals and Loops Important? 🔍\n",
    "\n",
    "- **Conditionals** allow your program to make decisions based on specific conditions, using statements like `if`, `elif`, and `else`. This capability enables your code to follow multiple pathways, adapting its behavior according to different scenarios.\n",
    "\n",
    "\n",
    "- **Loops** provide a way to automate repetitive tasks, which is critical in data processing, analysis, and countless other applications. With **`for` loops**, you can iterate through data structures like lists, and with **`while` loops**, you can repeat tasks until certain conditions are met.\n",
    "\n",
    "These structures are the backbone of any programming pipeline, allowing you to build solutions that are flexible, efficient, and scalable. By mastering conditionals and loops, you’ll unlock the ability to handle complex workflows and create more intelligent, adaptive programs. \n",
    "\n",
    "Let’s dive in! 🚀"
   ]
  },
  {
   "cell_type": "markdown",
   "id": "f6ca0887",
   "metadata": {},
   "source": [
    "## Python Conditions and If statements\n",
    "\n",
    "<br>\n",
    "\n",
    "![Python If](https://img.freepik.com/free-vector/checklist-background-flat-design_23-2147613035.jpg?semt=ais_hybrid)\n",
    "\n",
    "### What are Python If Statements? 🤔\n",
    "\n",
    "Python **if statements** allow your code to make decisions based on conditions. This means you can write programs that react to specific situations or inputs, making them flexible and dynamic.\n",
    "\n",
    "An **if statement** checks if a condition is true. If it is, Python executes the indented block of code right below the `if` line. If the condition is false, Python skips over that block, moving on to the next part of the code.\n",
    "\n",
    "\n",
    "For example: "
   ]
  },
  {
   "cell_type": "code",
   "execution_count": null,
   "id": "aca6cbe1",
   "metadata": {},
   "outputs": [],
   "source": [
    "age = 18\n",
    "if age >= 18:\n",
    "    print(\"You are eligible to vote.\")\n",
    "    \n",
    "print(f\"Age: {age}\")"
   ]
  },
  {
   "cell_type": "markdown",
   "id": "1c504821",
   "metadata": {},
   "source": [
    "In this case, Python checks if `age` is 18 or higher. If true, it prints the message. If not, it skips the `print` line.\n",
    "\n",
    "![Python If](https://www.programiz.com/sites/tutorial2program/files/python-if.png)\n",
    "Source: https://www.programiz.com/python-programming/if-elif-else"
   ]
  },
  {
   "cell_type": "markdown",
   "id": "257252bb",
   "metadata": {},
   "source": [
    "<div style=\"border: 2px solid #84bd7b; padding: 10px; background-color: #d8f5d3; border-radius: 5px;\">\n",
    "\n",
    "### Infobox ℹ️\n",
    "\n",
    "**Indentation**:\n",
    "\n",
    "- In Python, **indentation** is not just for readability—it’s essential for defining blocks of code. Proper indentation indicates that a set of statements belongs to a particular control structure (e.g., `if` statements, loops).\n",
    "    \n",
    "    \n",
    "- Each block of code under an `if` statement, loop, or function must be indented consistently (typically by 4 spaces).\n",
    "    \n",
    "    \n",
    "- Failing to use proper indentation will result in an `IndentationError`, which means Python is unable to recognize where a code block begins or ends.\n",
    "\n",
    "**Example**:\n",
    "```python\n",
    "if age >= 18:\n",
    "    print(\"You are eligible to vote.\")  # This line is indented correctly\n",
    "print(\"This runs regardless of the if statement.\")  # This line is outside the block\n",
    "```\n",
    "\n",
    "</div>\n",
    "<br>"
   ]
  },
  {
   "cell_type": "markdown",
   "id": "07ad6fff",
   "metadata": {},
   "source": [
    "###  Python if…else Statement"
   ]
  },
  {
   "cell_type": "markdown",
   "id": "7073e287",
   "metadata": {},
   "source": [
    "With `if` statements, you can use additional clauses to handle more complex decision-making:\n",
    "\n",
    "- **`elif`** (\"else if\") 📝: This allows you to check multiple conditions after the initial `if`. If the first `if` condition is false, Python moves to the `elif` clause.\n",
    "\n",
    "\n",
    "- **`else`** ➡️: This clause is executed when all preceding `if` and `elif` conditions are false. It acts as a fallback or default action.\n",
    "\n",
    "#### Let's see an example to understand this better:"
   ]
  },
  {
   "cell_type": "code",
   "execution_count": null,
   "id": "28607215",
   "metadata": {},
   "outputs": [],
   "source": [
    "age = 16\n",
    "\n",
    "if age >= 18:\n",
    "    print(\"You are eligible to vote!\")\n",
    "elif age >= 16:\n",
    "    print(\"You are almost there! A bit more time!\")\n",
    "else:\n",
    "    print(\"You are not old enough to vote yet!\")"
   ]
  },
  {
   "cell_type": "markdown",
   "id": "ddbe7471",
   "metadata": {},
   "source": [
    "- If `age` is 18 or higher, Python prints the first message. 🗳️\n",
    "\n",
    "\n",
    "- If `age` is 16 or 17, it prints the `elif` message. ⏳\n",
    "\n",
    "\n",
    "- If `age` doens't rescpect any of the previous conditions, it prints the `else` message.🚫"
   ]
  },
  {
   "cell_type": "markdown",
   "id": "53998ace",
   "metadata": {},
   "source": [
    "### 🤹 Wrangling with Logical Operators and Statements\n",
    "\n",
    "In the earlier sessions, you were introduced to logical and conditional operators like `and`, `or`, and `not` 🔄. Now, we’ll take that knowledge a step further by combining these operators with `if` clauses. This combination gives you more control and flexibility over your program’s behavior, allowing it to handle complex decision-making scenarios with ease. Let’s see how these concepts come together! 🚀\n",
    "\n",
    "To better understand how logical operators work with `if` statements, let's expand the voting example 🗳️. We’ll use `and`, `or`, and `not` to build more complex decision-making logic."
   ]
  },
  {
   "cell_type": "code",
   "execution_count": null,
   "id": "ab5f922b",
   "metadata": {},
   "outputs": [],
   "source": [
    "age = 17\n",
    "citizenship = True\n",
    "\n",
    "\n",
    "if age >= 18 and citizenship:\n",
    "    print(\"You are eligible to vote.\")\n",
    "else:\n",
    "    print(\"You are not eligible to vote.\")\n",
    "\n",
    "\n",
    "if age >= 18 or citizenship:\n",
    "    print(\"You meet at least one requirement for voting.\")\n",
    "else:\n",
    "    print(\"You meet neither of the requirements for voting.\")\n",
    "\n",
    "\n",
    "if not citizenship:\n",
    "    print(\"You are not a citizen, so you cannot vote.\")\n",
    "else:\n",
    "    print(\"You are a citizen.\")"
   ]
  },
  {
   "cell_type": "markdown",
   "id": "c6a5e945",
   "metadata": {},
   "source": [
    "#### Explanation:\n",
    "- **`and`**: Both conditions must be `True` for the `if` block to execute. In this case, the person needs to be 18 or older *and* be a citizen to be eligible to vote.\n",
    "\n",
    "\n",
    "- **`or`**: At least one condition must be `True` for the `if` block to execute. This checks if the person meets at least one voting criterion.\n",
    "\n",
    "\n",
    "- **`not`**: Reverses the condition. Here, it checks if the person is *not* a citizen.\n",
    "\n",
    "Try modifying the variables and conditions to see how the behavior changes! 🚀\n"
   ]
  },
  {
   "cell_type": "markdown",
   "id": "7a4f1685",
   "metadata": {},
   "source": [
    "### 🌀 Introducing Nested `If` Statements\n",
    "\n",
    "Sometimes, you need to evaluate multiple conditions that depend on one another. This is where **nested `if` statements** come into play. A nested `if` is an `if` statement placed inside another `if` statement, allowing you to make decisions within decisions.\n",
    "\n",
    "#### Why Use Nested `If` Statements? 🤔\n",
    "Nested `if` statements are useful when you want to check additional conditions only if a previous condition is true. This adds another layer of logic to your programs, enabling them to handle complex decision-making scenarios.\n",
    "\n",
    "Let's extend our voting example 🗳️ once again, to include more specific conditions:"
   ]
  },
  {
   "cell_type": "code",
   "execution_count": null,
   "id": "4783ed5a",
   "metadata": {},
   "outputs": [],
   "source": [
    "age = 19\n",
    "citizenship = True\n",
    "registered = True\n",
    "\n",
    "# First level of check: age and citizenship\n",
    "if age >= 18:\n",
    "    if citizenship:  # Nested if statement\n",
    "        if registered:\n",
    "            print(\"You are eligible to vote.\")\n",
    "        else:\n",
    "            print(\"You need to register to vote.\")\n",
    "    else:\n",
    "        print(\"You must be a citizen to vote.\")\n",
    "else:\n",
    "    print(\"You are not old enough to vote.\")"
   ]
  },
  {
   "cell_type": "markdown",
   "id": "bc9e5481",
   "metadata": {},
   "source": [
    "### Explanation:\n",
    "- The **first `if`** checks if the person is 18 or older.\n",
    "\n",
    "\n",
    "- If `age >= 18` is `True`, it moves to the **nested `if`** to check citizenship.\n",
    "\n",
    "\n",
    "- If both `age >= 18` and `citizenship` are `True`, it checks if the person is registered to vote.\n",
    "\n",
    "\n",
    "- If any of these conditions fail, the corresponding `else` block executes to provide feedback.\n",
    "\n",
    "Nested `if` statements can make your logic more precise but should be used carefully to keep the code readable. 😊"
   ]
  },
  {
   "cell_type": "markdown",
   "id": "9f16421e",
   "metadata": {},
   "source": [
    "<div style=\"border: 2px solid #84bd7b; padding: 10px; background-color: #d8f5d3; border-radius: 5px;\">\n",
    "\n",
    "### Infobox ℹ️\n",
    "\n",
    "**Shorthand `If ... Else`**:\n",
    "\n",
    "In Python, you can write a simple `if ... else` statement in a single line for more concise code. This is known as a **ternary conditional operator**.\n",
    "\n",
    "**Syntax**:\n",
    "```python\n",
    "variable = value_if_true if condition else value_if_false\n",
    "```\n",
    "\n",
    "**Example**:\n",
    "```python\n",
    "age = 20\n",
    "status = \"Eligible to vote 🗳️\" if age >= 18 else \"Not eligible to vote 🚫\"\n",
    "print(status)  # Output: Eligible to vote 🗳️\n",
    "```\n",
    "\n",
    "Use shorthand `if ... else` statements to make your code more readable for simple conditional assignments. However, avoid using them for complex logic to maintain code clarity. 😊\n",
    "\n",
    "</div>\n",
    "\n",
    "<br>"
   ]
  },
  {
   "cell_type": "markdown",
   "id": "e977b11a",
   "metadata": {},
   "source": [
    "<div style=\"border: 2px solid #ababab; padding: 10px; background-color: #ebedeb; border-radius: 5px;\">\n",
    "\n",
    "# Exercises 🏃\n",
    "\n",
    "</div>"
   ]
  },
  {
   "cell_type": "markdown",
   "id": "7967f24b",
   "metadata": {},
   "source": [
    "### Exercise 1: **Which is Greater?** 🔍\n",
    "\n",
    "Given two random variables, write a program to check which one is greater and print the result."
   ]
  },
  {
   "cell_type": "code",
   "execution_count": 1,
   "id": "507fb767",
   "metadata": {},
   "outputs": [
    {
     "name": "stdout",
     "output_type": "stream",
     "text": [
      "Y is greater!\n"
     ]
    }
   ],
   "source": [
    "import exercises\n",
    "\n",
    "magic_x, magic_y = exercises.mistery_numbers(2)\n",
    "\n",
    "if magic_x > magic_y:\n",
    "    print(\"X is greater!\")\n",
    "elif magic_x < magic_y:\n",
    "    print(\"Y is greater!\")\n",
    "else:\n",
    "    print(\"X and Y are equal!\")"
   ]
  },
  {
   "cell_type": "markdown",
   "id": "ca3ccb09",
   "metadata": {},
   "source": [
    "### Exercise 2: **Salary Bonus Calculator** 💰\n",
    "\n",
    "Given a dictionary of employees with their roles and number of sales, calculate their salary bonus based on predefined bonus percentages for sales ranges. The bonus structure is as follows:\n",
    "\n",
    "- **0–50 sales**: 5% of the base salary.\n",
    "\n",
    "\n",
    "- **51–100 sales**: 10% of the base salary.\n",
    "\n",
    "\n",
    "- **101–150 sales**: 15% of the base salary.\n",
    "\n",
    "\n",
    "- **151+ sales**: 20% of the base salary.\n",
    "\n",
    "Remenber that the **bonus** is calculated by multiplying the base salary by the determined bonus percentage"
   ]
  },
  {
   "cell_type": "code",
   "execution_count": 2,
   "id": "39158b62",
   "metadata": {},
   "outputs": [
    {
     "name": "stdout",
     "output_type": "stream",
     "text": [
      "{'base_salary': 80000, 'sales': 45}\n"
     ]
    }
   ],
   "source": [
    "# Dictionary of employees with their base salaries, and number of sales\n",
    "employee = exercises.mistery_employee()\n",
    "print(employee)"
   ]
  },
  {
   "cell_type": "code",
   "execution_count": 8,
   "id": "0b3f1722",
   "metadata": {},
   "outputs": [],
   "source": [
    "sales = employee[\"sales\"] # Access the number of sales\n",
    "\n",
    "bonus_percentage = 0\n",
    "\n",
    "# Determine the bonus percentage based on sales\n",
    "if 0 <= sales <= 50:\n",
    "    bonus_percentage = 0.05\n",
    "elif 51 <= sales <= 100:\n",
    "    bonus_percentage = 0.10\n",
    "elif 101 <= sales <= 150:\n",
    "    bonus_percentage = 0.15\n",
    "elif sales > 150:\n",
    "    bonus_percentage = 0.20\n",
    "    \n",
    "total_bonus = bonus_percentage * employee[\"base_salary\"]"
   ]
  },
  {
   "cell_type": "code",
   "execution_count": 9,
   "id": "1522dc9b",
   "metadata": {},
   "outputs": [
    {
     "name": "stdout",
     "output_type": "stream",
     "text": [
      "✅ Correct Solution\n"
     ]
    }
   ],
   "source": [
    "exercises.check_solution_n1_lab5(employee, bonus_percentage, total_bonus)"
   ]
  },
  {
   "cell_type": "markdown",
   "id": "9cd9e7b9",
   "metadata": {},
   "source": [
    "### Exercise 3: Mood Checker \n",
    "\n",
    "In this exercise, you'll implement a short decision tree to check a user's mood based on a set of inputs. The program will print a response based on the mood detected.  \n",
    "\n",
    "```\n",
    "                                  Start\n",
    "                                    |\n",
    "            ---------------------------------------------------\n",
    "            |                                                 |\n",
    "         Is Smiling?                                      Is Crying?\n",
    "            |                                                 |\n",
    "    -------------------------------                           ---------------------\n",
    "    |                             |                           |                   |\n",
    "   Yes                            No                         Yes                 No\n",
    "    |                             |                           |                   |\n",
    "   ----------------           ----------------               Print:               |\n",
    "   |              |           |              |              \"You might be         |\n",
    "Energy Level    Energy Level  Energy Level  Energy Level     feeling sad. 😟\"   Energy Level\n",
    " is \"High\"      is \"Low\"      is \"Medium\"   is \"Low\"                                |\n",
    "    |              |               |            |                             ------------------\n",
    "Print:           Print:         Print:       Print:                           |                |\n",
    "\"You seem       \"You seem      \"Your mood   \"You might                        Energy Level  Energy Level\n",
    "very happy      content but    seems        be feeling                        is \"Low\"      is \"Medium\" or \"High\"\n",
    "and energetic!  not very       neutral or   tired or down.                    |                |\n",
    "🌟😊\"          energetic.😊\"   mixed. 🤔\"    💤😕\"                          Print:          Print:\n",
    "                                                                              \"You might      \"Your mood seems\n",
    "                                                                               be feeling      neutral or mixed.\n",
    "                                                                              tired or down.  🤔\"\n",
    "                                                                               💤😕\"\n",
    "\n",
    "```"
   ]
  },
  {
   "cell_type": "code",
   "execution_count": 11,
   "id": "8fdb8635",
   "metadata": {},
   "outputs": [
    {
     "name": "stdout",
     "output_type": "stream",
     "text": [
      "You seem content but not very energetic. 😊\n"
     ]
    }
   ],
   "source": [
    "# User inputs for mood check\n",
    "is_smiling = True\n",
    "is_crying = False\n",
    "energy_level = \"low\" \n",
    "\n",
    "# Decision tree for checking mood\n",
    "if is_smiling and energy_level == \"high\":\n",
    "    print(\"You seem very happy and energetic! 🌟😊\")\n",
    "elif is_smiling and energy_level in [\"medium\", \"low\"]:\n",
    "    print(\"You seem content but not very energetic. 😊\")\n",
    "elif is_crying:\n",
    "    print(\"It looks like you might be feeling sad. 😟\")\n",
    "elif not is_smiling and energy_level == \"low\":\n",
    "    print(\"You might be feeling tired or down. 💤😕\")\n",
    "else:\n",
    "    print(\"Your mood seems neutral or mixed. 🤔\")"
   ]
  },
  {
   "cell_type": "markdown",
   "id": "a42fffe3",
   "metadata": {},
   "source": [
    "<br>\n",
    "\n",
    "## 🔄 Python Loops\n",
    "\n",
    "Loops are essential programming structures that allow you to repeat a block of code multiple times. They are powerful tools that help automate repetitive tasks, making your code efficient and concise. In Python, there are two primary types of loops:\n",
    "\n",
    "1. **`for` loops**: Used for iterating over a sequence (like a list, tuple, dictionary, or string) and executing a block of code for each item in the sequence.\n",
    "2. **`while` loops**: Used for repeating a block of code as long as a specified condition is `True`.\n",
    "\n",
    "### Why Are Loops Important? 🤔\n",
    "Loops are crucial when you need to:\n",
    "- Process all items in a list or dictionary.\n",
    "- Perform an action repeatedly until a condition changes.\n",
    "- Simplify code that would otherwise involve repetitive statements.\n",
    "\n",
    "Using loops, you can handle tasks like processing data, creating tables, building interactive programs, and more. Let's explore how `for` and `while` loops work in Python! 🚀\n",
    "\n"
   ]
  },
  {
   "cell_type": "markdown",
   "id": "236ac700",
   "metadata": {},
   "source": [
    "### 🔄 `for` Loops in Python\n",
    "\n",
    "#### What is a `for` Loop? 🤔\n",
    "A **`for` loop** is used to iterate over a sequence (like a list, tuple, string, or range) and execute a block of code for each item in the sequence.\n",
    "\n",
    "This is the basic structure of a `for` Loop:\n",
    "\n",
    "```python\n",
    "for item in sequence:\n",
    "    # Code block to execute\n",
    "    print(item)\n",
    "```\n",
    "\n",
    "- **`item`**: A variable that takes the value of each element in the sequence during the loop.\n",
    "\n",
    "- **`sequence`**: The collection of items (e.g., a list, string, or range) that the loop iterates over.\n",
    "\n",
    "\n",
    "Lets' see a real example using a `list` of books."
   ]
  },
  {
   "cell_type": "code",
   "execution_count": null,
   "id": "188a6dbe",
   "metadata": {},
   "outputs": [],
   "source": [
    "books = [\"The Great Gatsby\", \"1984\", \"To Kill a Mockingbird\", \"Pride and Prejudice\"]\n",
    "\n",
    "for book in books:\n",
    "    print(book)"
   ]
  },
  {
   "cell_type": "markdown",
   "id": "bd1c45fd",
   "metadata": {},
   "source": [
    "**How it works**:\n",
    "\n",
    "- The `for` loop iterates over each element in the `books` list.\n",
    "\n",
    "\n",
    "- The variable `book` takes the value of each title in the list, one by one.\n",
    "\n",
    "\n",
    "- The `print()` statement prints each title.\n",
    "\n",
    "\n",
    "Notice that a `for` loop directly iterates over the items in a sequence, so you don't need to set an indexing variable or manually increment it. The loop variable automatically takes the value of each item in the sequence one at a time."
   ]
  },
  {
   "cell_type": "markdown",
   "id": "7982d567",
   "metadata": {},
   "source": [
    "#### But What If We Want to Index Instead? 🔢\n",
    "\n",
    "If you instead want to access the **elements** of a list by **index** while iterating, you can use Python's `range()` function combined with `len()`. This approach allows you to create a loop that iterates using an index. \n",
    "\n",
    "We already seen what `len()`, but what about the `range()` ❓"
   ]
  },
  {
   "cell_type": "markdown",
   "id": "1699a69a",
   "metadata": {},
   "source": [
    "**Introducing the `range()` Function**: The `range()` function generates a sequence of numbers, which is perfect for creating loops that run a specific number of times or for iterating over the indices of a list. Lets see a simple example:"
   ]
  },
  {
   "cell_type": "code",
   "execution_count": null,
   "id": "f85c6a36",
   "metadata": {},
   "outputs": [],
   "source": [
    "for i in range(5):\n",
    "    print(f\"Hello, World! (iteration -> {i + 1})\")"
   ]
  },
  {
   "cell_type": "markdown",
   "id": "3be92777",
   "metadata": {},
   "source": [
    "You can think of a `range()` as a sequence generator that behaves like a list of numbers. How can we use this for indexing? 🔢"
   ]
  },
  {
   "cell_type": "code",
   "execution_count": null,
   "id": "8dc18b93",
   "metadata": {},
   "outputs": [],
   "source": [
    "for i in range(len(books)):\n",
    "    print(f\"Book {i}: {books[i]}\")"
   ]
  },
  {
   "cell_type": "markdown",
   "id": "e34bfcfc",
   "metadata": {},
   "source": [
    "- **`range(len(books))`**: This creates a sequence of numbers from `0` to `len(books) - 1`, corresponding to the indices of the `books` list.\n",
    "\n",
    "\n",
    "- **`books[i]`**: The loop variable `i` is used to access each element of the `books` list by its index.\n"
   ]
  },
  {
   "cell_type": "markdown",
   "id": "d75fa00a",
   "metadata": {},
   "source": [
    "#### Why Use `range()`?\n",
    "- **Accessing indices**: It’s helpful when you need to know or display the index of each element.\n",
    "\n",
    "\n",
    "- **Looping a set number of times**: You can use `range()` to loop a specific number of times even without a list, such as repeating an action multiple times.\n",
    "\n",
    "- **Modifying elements directly**: Using `range()` allows you to access and modify elements in a list based on their index.\n",
    "\n",
    "\n",
    "##### Example: Modifying Book Prices 📚💰"
   ]
  },
  {
   "cell_type": "code",
   "execution_count": null,
   "id": "4ea85a12",
   "metadata": {},
   "outputs": [],
   "source": [
    "# List of book prices\n",
    "book_prices = [10.00, 15.50, 20.00, 25.75, 30.00]\n",
    "\n",
    "# Use range() to iterate over the indices of the list and modify prices\n",
    "for i in range(len(book_prices)):\n",
    "    book_prices[i] = round(book_prices[i] * 1.10, 2)  # Increase price by 10% and round to 2 decimal places\n",
    "\n",
    "print(\"Updated book prices:\", book_prices)"
   ]
  },
  {
   "cell_type": "markdown",
   "id": "1685e004",
   "metadata": {},
   "source": [
    "### Combining Conditionals with `for` Loops\n",
    "In Python, you can include `if` statements inside `for` loops to perform conditional checks during each iteration. This allows your loop to make decisions based on the current item or index it is processing.\n",
    "\n",
    "##### Example: Filtering Book Prices Based on a Condition 📚💰\n",
    "Suppose you have a list of book prices, and you want to only print the prices that are higher than $20."
   ]
  },
  {
   "cell_type": "code",
   "execution_count": null,
   "id": "004ca72b",
   "metadata": {},
   "outputs": [],
   "source": [
    "# List of book prices\n",
    "book_prices = [10.00, 15.50, 22.00, 25.75, 18.00, 30.00]\n",
    "\n",
    "# Using a for loop with a conditional statement\n",
    "for price in book_prices:\n",
    "    if price > 20:\n",
    "        print(f\"High-priced book: ${price}\")"
   ]
  },
  {
   "cell_type": "markdown",
   "id": "09dd71b8",
   "metadata": {},
   "source": [
    "### Using `break` to Stop a Loop Early 🛑\n",
    "\n",
    "Now, suppose you want to check if there is a book priced above $25 in your list of book prices. Once you find one, you don’t need to continue checking the rest - you already have your answer. In this case, the `break` statement is the perfect tool to stop the loop as soon as the condition is met."
   ]
  },
  {
   "cell_type": "code",
   "execution_count": null,
   "id": "4c0ffdb0",
   "metadata": {},
   "outputs": [],
   "source": [
    "book_prices = [10.00, 15.50, 22.00, 25.75, 18.00, 30.00]\n",
    "\n",
    "for price in book_prices:\n",
    "    if price > 25:\n",
    "        print(f\"Book priced above $25 found: ${price}\")\n",
    "        break  # Exit the loop as soon as we find a match"
   ]
  },
  {
   "cell_type": "markdown",
   "id": "4377f211",
   "metadata": {},
   "source": [
    "- The `for` loop iterates over the `book_prices` list.\n",
    "\n",
    "\n",
    "- The `if` statement checks if the current price is greater than $25.\n",
    "\n",
    "\n",
    "- **`break`**: When the condition is met (e.g., a book priced at $25.75), the `break` statement immediately stops the loop.\n",
    "\n",
    "Using `break` in a loop helps make your program more efficient, because in this case you don't need to iterate over **all** elements to get your answer, but note that this isn't always true for all conditions."
   ]
  },
  {
   "cell_type": "markdown",
   "id": "749dc430",
   "metadata": {},
   "source": [
    "### Introducing the `continue` Statement 🔄\n",
    "\n",
    "Ocasionally, you might also come across the `continue` statement, which is used to **skip the current iteration** of a loop and move directly to the next iteration. This is useful when you want to ignore specific conditions while still continuing with the rest of the loop.\n",
    "\n",
    "Suppose you only want to print book prices that are $20 or higher and skip those that don’t meet this condition."
   ]
  },
  {
   "cell_type": "code",
   "execution_count": null,
   "id": "43121800",
   "metadata": {},
   "outputs": [],
   "source": [
    "book_prices = [10.00, 15.50, 22.00, 25.75, 18.00, 30.00]\n",
    "\n",
    "for price in book_prices:\n",
    "    if price < 20:\n",
    "        continue  # Skip this iteration if the price is below $20\n",
    "    print(f\"High-priced book: ${price}\")"
   ]
  },
  {
   "cell_type": "markdown",
   "id": "b7e8f8a9",
   "metadata": {},
   "source": [
    "- The `for` loop iterates over each `price` in the `book_prices` list.\n",
    "\n",
    "\n",
    "- The `if` statement checks if the `price` is less than $20.\n",
    "\n",
    "\n",
    "- **`continue`**: When the condition is met (price < $20), the `continue` statement skips the rest of that iteration and moves to the next item in the list.\n",
    "\n",
    "\n",
    "- If the `price` is $20 or higher, the `print()` statement runs as expected."
   ]
  },
  {
   "cell_type": "markdown",
   "id": "dd7f3515",
   "metadata": {},
   "source": [
    "### Nested `for` Loops 🔁🔁\n",
    "\n",
    "Nested `for` loops are loops inside another `for` loop. They are useful when you need to iterate over multiple sequences or perform operations that require examining elements in pairs or combinations. Nested loops allow you to process data in a more complex, multi-dimensional way.\n",
    "\n",
    "##### Example: Finding Common Words Between Two Lists of Books 📚\n",
    "\n",
    "Suppose you have two lists of book titles and you want to find and print the common titles between them."
   ]
  },
  {
   "cell_type": "code",
   "execution_count": null,
   "id": "68f02e37",
   "metadata": {},
   "outputs": [],
   "source": [
    "list_1 = [\"The Great Gatsby\", \"1984\", \"Moby Dick\", \"Pride and Prejudice\", \"War and Peace\"]\n",
    "list_2 = [\"Moby Dick\", \"The Catcher in the Rye\", \"1984\", \"Jane Eyre\", \"War and Peace\"]\n",
    "\n",
    "# Using nested for loops to find common titles\n",
    "for book_1 in list_1:\n",
    "    for book_2 in list_2:\n",
    "        if book_1 == book_2:\n",
    "            print(f\"Common book found: {book_1}\")"
   ]
  },
  {
   "cell_type": "markdown",
   "id": "cf221d4c",
   "metadata": {},
   "source": [
    "- The **outer loop** iterates over each book title in `list_1`.\n",
    "\n",
    "\n",
    "- The **inner loop** iterates over each book title in `list_2` for every single book in `list_1`.\n",
    "\n",
    "\n",
    "- The `if` statement checks if the current book from `list_1` matches any book in `list_2`.\n",
    "\n",
    "\n",
    "- If a match is found, the common book is printed."
   ]
  },
  {
   "cell_type": "markdown",
   "id": "ede7c28b",
   "metadata": {},
   "source": [
    "### Introduction to `while` Loops 🔄\n",
    "\n",
    "A **`while` loop** is a control flow statement in Python that repeatedly executes a block of code as long as a specified condition is `True`. Unlike `for` loops, which iterate over a sequence of items or a specified number of times, `while` loops are used when you don’t know in advance how many times you’ll need to repeat the code block.\n",
    "\n",
    "This is the basi structure of a `while` Loop:\n",
    "\n",
    "```python\n",
    "while condition:\n",
    "    # Code block to execute\n",
    "    print(\"This will repeat as long as the condition is True\")\n",
    "```\n",
    "\n",
    "- **`condition`**: An expression that is evaluated before each iteration. If `True`, the code block runs. If `False`, the loop stops.\n",
    "\n",
    "Lets see a simple `countdown` example: "
   ]
  },
  {
   "cell_type": "code",
   "execution_count": null,
   "id": "9637c5cf",
   "metadata": {
    "scrolled": true
   },
   "outputs": [],
   "source": [
    "count = 5\n",
    "while count > 0:\n",
    "    print(f\"Counting down: {count}\")\n",
    "    count -= 1  # Decrease the count by 1\n",
    "\n",
    "print(\"Liftoff! 🚀\")"
   ]
  },
  {
   "cell_type": "markdown",
   "id": "a7f1ee51",
   "metadata": {},
   "source": [
    "#### When Are `while` Loops Useful Compared to `for` Loops? 🤔\n",
    "\n",
    "`while` loops shine in scenarios where you need flexibility and don’t know the number of iterations beforehand. Here are some typical use cases:\n",
    "\n",
    "- **User Interactions**: Continuously prompt a user until they provide valid input or meet a specific condition.\n",
    "\n",
    "\n",
    "- **Simulations**: Run processes repeatedly until a certain state is reached or a condition is satisfied.\n",
    "\n",
    "\n",
    "- **Monitoring**: Keep checking a condition, such as monitoring a sensor or data stream, until the desired outcome is achieved.\n",
    "\n",
    "Lets see an example. A `while` loop can be useful for situations where you need to repeat an action until a specific condition is met, like prompting a user for a valid input."
   ]
  },
  {
   "cell_type": "code",
   "execution_count": null,
   "id": "d7382199",
   "metadata": {},
   "outputs": [],
   "source": [
    "# Ask for user input until they type \"exit\"\n",
    "user_input = \"\"\n",
    "while user_input.lower() != \"exit\":\n",
    "    user_input = input(\"Type 'exit' to stop the loop: \")\n",
    "    print(user_input)\n",
    "\n",
    "print(\"You've exited the loop. Goodbye! 👋\")"
   ]
  },
  {
   "cell_type": "markdown",
   "id": "0e3f8ce4",
   "metadata": {},
   "source": [
    "- The loop continues running as long as the user input is not `\"exit\"`. \n",
    "\n",
    "\n",
    "- The `input()` function captures the user’s input during each iteration.\n",
    "\n",
    "\n",
    "- Once the user types `\"exit\"` (case-insensitive due to `.lower()`), the loop condition fails, and the loop ends.\n",
    "\n",
    "##### Why Choose `while` Loops for This?\n",
    "`while` loops are ideal for situations where the number of repetitions depends on dynamic conditions or user actions. Unlike `for` loops, which iterate a set number of times, `while` loops offer the flexibility needed for real-time checks and unpredictable interactions.\n"
   ]
  },
  {
   "cell_type": "markdown",
   "id": "c6477b69",
   "metadata": {},
   "source": [
    "<div style=\"border: 2px solid #F44336; padding: 10px; background-color: #FDE8E6; border-radius: 5px;\">\n",
    "\n",
    "### Attention ⚠️\n",
    "\n",
    "**Potential Issues with `while` Loops`**:\n",
    "\n",
    "While `while` loops are powerful, they come with potential pitfalls that you should be aware of. One common issue is the risk of creating **infinite loops**, which occur when the loop condition never becomes `False`.\n",
    "\n",
    "#### Example of an Infinite Loop:\n",
    "```python\n",
    "count = 1\n",
    "while count > 0:\n",
    "    print(\"This loop will run forever!\")  # Condition is always True, creating an infinite loop\n",
    "```\n",
    "\n",
    "</div>\n",
    "\n",
    "<br>"
   ]
  },
  {
   "cell_type": "markdown",
   "id": "4a731998",
   "metadata": {},
   "source": [
    "#### Using `break` and `continue` in `while` Loops 🔄🛑\n",
    "\n",
    "Just like in `for` loops, `break` and `continue` are used in `while` loops to control the flow of the loop:\n",
    "\n",
    "- **`break`**: Exits the loop immediately when a specified condition is met.\n",
    "\n",
    "\n",
    "- **`continue`**: Skips the current iteration and moves to the next iteration when a condition is met.\n",
    "\n",
    "##### Example of `break` in a `while` Loop:\n",
    "Suppose you're prompting the user for a password and want to stop asking after they enter the correct one."
   ]
  },
  {
   "cell_type": "code",
   "execution_count": null,
   "id": "56f8b03a",
   "metadata": {},
   "outputs": [],
   "source": [
    "n_attempts = 0\n",
    "\n",
    "while n_attempts < 3:\n",
    "    password = input(\"Enter your password: \")\n",
    "    if password == \"secure123\":\n",
    "        print(\"Access granted! 🔓\")\n",
    "        break  # Exit the loop when the correct password is entered\n",
    "    print(\"Incorrect password. Try again.\")\n",
    "    n_attempts += 1"
   ]
  },
  {
   "cell_type": "markdown",
   "id": "c9a47962",
   "metadata": {},
   "source": [
    "##### Example of `continue` in a `while` Loop:\n",
    "Imagine you're processing numbers from user input but want to skip any negative numbers and only display positive ones."
   ]
  },
  {
   "cell_type": "code",
   "execution_count": null,
   "id": "416e00b4",
   "metadata": {},
   "outputs": [],
   "source": [
    "count = 0\n",
    "\n",
    "while count < 5:\n",
    "    number = int(input(\"Enter a number (negative to stop): \"))\n",
    "    if number < 0:\n",
    "        continue  # Skip printing if the number is negative\n",
    "    print(f\"Positive number: {number}\")\n",
    "    count += 1 "
   ]
  },
  {
   "cell_type": "markdown",
   "id": "ed07d589",
   "metadata": {},
   "source": [
    "<div style=\"border: 2px solid #ababab; padding: 10px; background-color: #ebedeb; border-radius: 5px;\">\n",
    "\n",
    "# Exercises 🏃\n",
    "\n",
    "</div>"
   ]
  },
  {
   "cell_type": "markdown",
   "id": "cc426722",
   "metadata": {},
   "source": [
    "### Exercise 1: Sum of Even Numbers Using for Loop"
   ]
  },
  {
   "cell_type": "markdown",
   "id": "26d53c23",
   "metadata": {},
   "source": [
    "Write a `for` loop that calculates and prints the sum of all even numbers from 0 to 50.\n",
    "\n",
    "**Hint**: Use the modulus operator (%) to check if a number is even."
   ]
  },
  {
   "cell_type": "code",
   "execution_count": 1,
   "id": "5ea0806e",
   "metadata": {},
   "outputs": [
    {
     "name": "stdout",
     "output_type": "stream",
     "text": [
      "Sum of even numbers from 1 to 50: 650\n"
     ]
    }
   ],
   "source": [
    "import exercises\n",
    "\n",
    "even_sum = 0\n",
    "\n",
    "for num in range(51):\n",
    "    if num % 2 == 0:\n",
    "        even_sum += num\n",
    "print(\"Sum of even numbers from 1 to 50:\", even_sum)"
   ]
  },
  {
   "cell_type": "code",
   "execution_count": 2,
   "id": "eacd0f7d",
   "metadata": {},
   "outputs": [
    {
     "name": "stdout",
     "output_type": "stream",
     "text": [
      "✅ Correct Solution\n"
     ]
    }
   ],
   "source": [
    "exercises.check_solution_n2_lab5(even_sum)"
   ]
  },
  {
   "cell_type": "markdown",
   "id": "a4363a08",
   "metadata": {},
   "source": [
    "### Exercise 2: Reverse a List Using while Loop\n",
    "\n",
    "Create a `while` loop that reverses a given list and prints the result."
   ]
  },
  {
   "cell_type": "code",
   "execution_count": 3,
   "id": "5e480126",
   "metadata": {},
   "outputs": [
    {
     "name": "stdout",
     "output_type": "stream",
     "text": [
      "Reversed list: [[], 3.14, 'apple', True, 1]\n"
     ]
    }
   ],
   "source": [
    "items = [1, True, \"apple\", 3.14, []] # list to reverse\n",
    "\n",
    "reversed_list = [] # use this list to store the reversed items list\n",
    "\n",
    "i = len(items) - 1\n",
    "\n",
    "while i >= 0:\n",
    "    reversed_list.append(items[i])\n",
    "    i -= 1\n",
    "\n",
    "print(\"Reversed list:\", reversed_list)"
   ]
  },
  {
   "cell_type": "code",
   "execution_count": 4,
   "id": "30fa03ea",
   "metadata": {},
   "outputs": [
    {
     "name": "stdout",
     "output_type": "stream",
     "text": [
      "✅ Correct Solution\n"
     ]
    }
   ],
   "source": [
    "exercises.check_solution_n3_lab5(items, reversed_list)"
   ]
  },
  {
   "cell_type": "markdown",
   "id": "8968edd5",
   "metadata": {},
   "source": [
    "### Exercise 3: Automating Bookstore Order Processing 📚\n",
    "\n",
    "Your task is to automate the bookstore ordering system. Given a list of ordered books, determine which books are available in the bookstore's inventory, calculate the total price of the books in stock, and give an time estimate for the delivery.\n",
    "\n",
    "#### Task 1: Check Book Availability\n",
    "\n",
    "Your task is to go through the `ordered_books` list and identify which books are available in the `full_inventory`. Create two separate lists:\n",
    "- One list should include the books that are found in the `full_inventory`.\n",
    "- Another list should contain the books that are missing from the `full_inventory`."
   ]
  },
  {
   "cell_type": "code",
   "execution_count": 5,
   "id": "adf0716d",
   "metadata": {
    "scrolled": false
   },
   "outputs": [
    {
     "data": {
      "text/plain": [
       "{'Brave New World': {'author': 'Aldous Huxley',\n",
       "  'publisher': 'Chatto & Windus',\n",
       "  'price': 9.49},\n",
       " 'War and Peace': {'author': 'Leo Tolstoy',\n",
       "  'publisher': 'The Russian Messenger',\n",
       "  'price': 14.99},\n",
       " 'Ulysses': {'author': 'James Joyce',\n",
       "  'publisher': 'Sylvia Beach',\n",
       "  'price': 13.49},\n",
       " 'The Odyssey': {'author': 'Homer',\n",
       "  'publisher': 'Ancient Greek Publication',\n",
       "  'price': 11.99},\n",
       " 'Crime and Punishment': {'author': 'Fyodor Dostoevsky',\n",
       "  'publisher': 'The Russian Messenger',\n",
       "  'price': 10.49},\n",
       " 'The Catcher in the Rye': {'author': 'J.D. Salinger',\n",
       "  'publisher': 'Little, Brown and Company',\n",
       "  'price': 8.79},\n",
       " 'The Lord of the Rings': {'author': 'J.R.R. Tolkien',\n",
       "  'publisher': 'Allen & Unwin',\n",
       "  'price': 20.99},\n",
       " 'The Hobbit': {'author': 'J.R.R. Tolkien',\n",
       "  'publisher': 'Allen & Unwin',\n",
       "  'price': 7.49},\n",
       " \"Harry Potter and the Philosopher's Stone\": {'author': 'J.K. Rowling',\n",
       "  'publisher': 'Bloomsbury',\n",
       "  'price': 6.99},\n",
       " 'Harry Potter and the Chamber of Secrets': {'author': 'J.K. Rowling',\n",
       "  'publisher': 'Bloomsbury',\n",
       "  'price': 7.99},\n",
       " 'Frankenstein': {'author': 'Mary Shelley',\n",
       "  'publisher': 'Lackington, Hughes, Harding, Mavor & Jones',\n",
       "  'price': 8.29},\n",
       " 'Dracula': {'author': 'Bram Stoker',\n",
       "  'publisher': 'Archibald Constable and Company',\n",
       "  'price': 9.79},\n",
       " 'The Brothers Karamazov': {'author': 'Fyodor Dostoevsky',\n",
       "  'publisher': 'The Russian Messenger',\n",
       "  'price': 15.49},\n",
       " 'Anna Karenina': {'author': 'Leo Tolstoy',\n",
       "  'publisher': 'The Russian Messenger',\n",
       "  'price': 12.49},\n",
       " 'The Picture of Dorian Gray': {'author': 'Oscar Wilde',\n",
       "  'publisher': 'Ward, Lock & Co.',\n",
       "  'price': 8.59},\n",
       " 'Les Misérables': {'author': 'Victor Hugo',\n",
       "  'publisher': 'A. Lacroix, Verboeckhoven & Cie',\n",
       "  'price': 18.99},\n",
       " 'Don Quixote': {'author': 'Miguel de Cervantes',\n",
       "  'publisher': 'Francisco de Robles',\n",
       "  'price': 11.49},\n",
       " 'Jane Eyre': {'author': 'Charlotte Brontë',\n",
       "  'publisher': 'Smith, Elder & Co.',\n",
       "  'price': 7.89},\n",
       " 'Wuthering Heights': {'author': 'Emily Brontë',\n",
       "  'publisher': 'Thomas Cautley Newby',\n",
       "  'price': 9.19},\n",
       " 'Fahrenheit 451': {'author': 'Ray Bradbury',\n",
       "  'publisher': 'Ballantine Books',\n",
       "  'price': 10.29}}"
      ]
     },
     "execution_count": 5,
     "metadata": {},
     "output_type": "execute_result"
    }
   ],
   "source": [
    "full_inventory = exercises.get_bookstore_inventory() # load inventory\n",
    " \n",
    "full_inventory"
   ]
  },
  {
   "cell_type": "code",
   "execution_count": 6,
   "id": "527bcae1",
   "metadata": {},
   "outputs": [
    {
     "name": "stdout",
     "output_type": "stream",
     "text": [
      "Available books in inventory: ['War and Peace', 'The Odyssey', 'Ulysses']\n",
      "Missing books: ['The Idiot']\n"
     ]
    }
   ],
   "source": [
    "# List of ordered books\n",
    "ordered_books = ['War and Peace', 'The Odyssey', 'Ulysses', 'The Idiot']\n",
    "\n",
    "# Lists to store available and missing books\n",
    "available_books = []\n",
    "missing_books = []\n",
    "\n",
    "for book in ordered_books:\n",
    "    if book in full_inventory:\n",
    "        available_books.append(book)\n",
    "    else:\n",
    "        missing_books.append(book)\n",
    "        \n",
    "# Print the results\n",
    "print(\"Available books in inventory:\", available_books)\n",
    "print(\"Missing books:\", missing_books)"
   ]
  },
  {
   "cell_type": "code",
   "execution_count": 7,
   "id": "1c255a15",
   "metadata": {},
   "outputs": [
    {
     "name": "stdout",
     "output_type": "stream",
     "text": [
      "✅ Correct Solution\n"
     ]
    }
   ],
   "source": [
    "exercises.check_solution_n4_lab5(available_books, missing_books)"
   ]
  },
  {
   "cell_type": "markdown",
   "id": "03599fe1",
   "metadata": {},
   "source": [
    "### Task 2: Calculate Total Price and Apply Discount\n",
    "\n",
    "Your task is to iterate through the `available_books` list and calculate the total price based on the `price` attribute from the `full_inventory`. After calculating the total price, apply a discount based on the number of books in the `available_books` list:\n",
    "\n",
    "- **2 to 3 books**: Apply a 5% discount.\n",
    "- **4 or more books**: Apply a 10% discount.\n",
    "- **1 or fewer books**: No discount."
   ]
  },
  {
   "cell_type": "code",
   "execution_count": 8,
   "id": "aed5f9ac",
   "metadata": {},
   "outputs": [
    {
     "name": "stdout",
     "output_type": "stream",
     "text": [
      "Total price after discount: $38.45\n"
     ]
    }
   ],
   "source": [
    "# Calculate the total price of the available books\n",
    "total_price = 0\n",
    "\n",
    "for book in available_books:\n",
    "    total_price += full_inventory[book]['price']\n",
    "\n",
    "# Apply discount based on the number of available books\n",
    "if 2 <= len(available_books) <= 3:\n",
    "    total_price *= 0.95  # Apply 5% discount\n",
    "elif len(available_books) >= 4:\n",
    "    total_price *= 0.90  # Apply 10% discount\n",
    "\n",
    "# Round the total price to 2 decimal places\n",
    "total_price = round(total_price, 2)\n",
    "    \n",
    "# Print the total price after discount\n",
    "print(f\"Total price after discount: ${total_price:.2f}\")"
   ]
  },
  {
   "cell_type": "code",
   "execution_count": 9,
   "id": "0a7542df",
   "metadata": {},
   "outputs": [
    {
     "name": "stdout",
     "output_type": "stream",
     "text": [
      "✅ Correct Solution\n"
     ]
    }
   ],
   "source": [
    "exercises.check_solution_n5_lab5(total_price)"
   ]
  },
  {
   "cell_type": "markdown",
   "id": "6b3460ea",
   "metadata": {},
   "source": [
    "### Task 3: Estimate Delivery Time Based on the Number of Books 📦\n",
    "\n",
    "Your task is to calculate an estimated delivery time based on the number of books in the `available_books` list. Use the following delivery estimates:\n",
    "\n",
    "- **1–2 books**: Estimated delivery time is **3 days**.\n",
    "- **3–4 books**: Estimated delivery time is **5 days**.\n",
    "- **5 or more books**: Estimated delivery time is **7 days**.\n",
    "\n",
    "**Hint**: You can use a simple loop or `if-else` conditions to determine the delivery estimate and store the result."
   ]
  },
  {
   "cell_type": "code",
   "execution_count": 10,
   "id": "37a9e157",
   "metadata": {},
   "outputs": [
    {
     "name": "stdout",
     "output_type": "stream",
     "text": [
      "5\n"
     ]
    }
   ],
   "source": [
    "# Delivery time in days\n",
    "time = 0\n",
    "\n",
    "if  1 <= len(available_books) <= 2:\n",
    "    time = 3\n",
    "elif 3 <= len(available_books) <= 4:\n",
    "    time = 5\n",
    "else:\n",
    "    time = 7\n",
    "    \n",
    "print(time)"
   ]
  },
  {
   "cell_type": "code",
   "execution_count": 11,
   "id": "d023fe6a",
   "metadata": {},
   "outputs": [
    {
     "name": "stdout",
     "output_type": "stream",
     "text": [
      "✅ Correct Solution\n"
     ]
    }
   ],
   "source": [
    "exercises.check_solution_n6_lab5(time)"
   ]
  },
  {
   "cell_type": "markdown",
   "id": "b2ba6e2f",
   "metadata": {},
   "source": [
    "### Task 4: Recommend Other Books 📚\n",
    "\n",
    "Your task is to recommend additional books to the user based on the publishers of the books in the `available_books` list. If a user attempted to order a book from a specific publisher and only one or a few books from that publisher are available, suggest other books from the same publisher in the `full_inventory`.\n",
    "\n",
    "**Steps**:\n",
    "1. Iterate through the `available_books` list to collect the publishers of these books.\n",
    "\n",
    "\n",
    "2. For each publisher, search the `full_inventory` for other books from the same publisher that are not already in the `available_books` list.\n",
    "\n",
    "\n",
    "3. Create a list of recommendations and print the titles."
   ]
  },
  {
   "cell_type": "code",
   "execution_count": 12,
   "id": "6409f88d",
   "metadata": {},
   "outputs": [
    {
     "name": "stdout",
     "output_type": "stream",
     "text": [
      "['The Russian Messenger', 'Ancient Greek Publication', 'Sylvia Beach']\n"
     ]
    }
   ],
   "source": [
    "# Collect publishers from the available books\n",
    "publishers = []\n",
    "\n",
    "for book in available_books:\n",
    "    publishers.append(full_inventory[book]['publisher'])\n",
    "    \n",
    "print(publishers)"
   ]
  },
  {
   "cell_type": "code",
   "execution_count": 13,
   "id": "d8bd8f4f",
   "metadata": {},
   "outputs": [
    {
     "name": "stdout",
     "output_type": "stream",
     "text": [
      "['Crime and Punishment', 'The Brothers Karamazov', 'Anna Karenina']\n"
     ]
    }
   ],
   "source": [
    "# Find books by the same publishers not already in the available list and store them in the recommendations list\n",
    "\n",
    "recommendations = []\n",
    "\n",
    "for book in full_inventory:\n",
    "    if book not in available_books and full_inventory[book]['publisher'] in publishers:\n",
    "        recommendations.append(book)\n",
    "\n",
    "print(recommendations)"
   ]
  },
  {
   "cell_type": "code",
   "execution_count": 14,
   "id": "3d230c1d",
   "metadata": {},
   "outputs": [
    {
     "name": "stdout",
     "output_type": "stream",
     "text": [
      "✅ Correct Solution\n"
     ]
    }
   ],
   "source": [
    "exercises.check_solution_n7_lab5(publishers, recommendations)"
   ]
  }
 ],
 "metadata": {
  "kernelspec": {
   "display_name": "python_workshop",
   "language": "python",
   "name": "python_workshop"
  },
  "language_info": {
   "codemirror_mode": {
    "name": "ipython",
    "version": 3
   },
   "file_extension": ".py",
   "mimetype": "text/x-python",
   "name": "python",
   "nbconvert_exporter": "python",
   "pygments_lexer": "ipython3",
   "version": "3.13.0"
  }
 },
 "nbformat": 4,
 "nbformat_minor": 5
}
