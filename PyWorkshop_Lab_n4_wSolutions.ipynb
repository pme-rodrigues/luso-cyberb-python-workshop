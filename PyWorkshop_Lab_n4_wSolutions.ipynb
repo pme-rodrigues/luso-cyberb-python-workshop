{
 "cells": [
  {
   "cell_type": "markdown",
   "metadata": {},
   "source": [
    "\n",
    "# 🖥️ Python Laboratory 4️⃣: Data Structures\n",
    "<br>\n",
    "\n",
    "In this session, we'll dive into **Python data structures**, focusing on **lists** and **dictionaries**. We’ll also give you a general overview of two additional structures called **tuples** and **sets**. Each of these structures has its own unique qualities, making them suitable for different scenarios.\n",
    "\n",
    "Let’s explore why mastering these topics is important. 🔍\n",
    "<br>\n",
    "\n"
   ]
  },
  {
   "cell_type": "markdown",
   "metadata": {},
   "source": [
    "## Python Lists 📋\n",
    "\n",
    "<br>\n",
    "\n",
    "![Python Lists](https://external-content.duckduckgo.com/iu/?u=https%3A%2F%2Fd1rluokkqqu56n.cloudfront.net%2Fwpapp%2Fuploads%2F2020%2F12%2F19100145%2Fto-do-list.jpeg&f=1&nofb=1&ipt=6ebf3988758c0bc0dc8721ff8bf09a62a27483f6ec753d74275a6917500c81b5&ipo=images)\n",
    "\n",
    "### What are Python Lists? 🤔\n",
    "\n",
    "Lists are one of 4️⃣ built-in data types in Python used to store collections of data. The other 3️⃣ are **Tuples**, **Sets**, and **Dictionaries**, all with different qualities and use cases.\n",
    "\n",
    "To create a list, we use **square brackets** `[]`, and list elements are separated by commas `,`, like so:"
   ]
  },
  {
   "cell_type": "code",
   "execution_count": null,
   "metadata": {},
   "outputs": [],
   "source": [
    "groceries_list = [\"eggs\", \"milk\", \"apples\", \"bacon\"] # create a list of groceries\n",
    "\n",
    "print(groceries_list)\n",
    "\n",
    "print(type(groceries_list))"
   ]
  },
  {
   "cell_type": "markdown",
   "metadata": {},
   "source": [
    "Lists are incredibly versatile because they allow us to store multiple values in a single variable. Let’s explore some key characteristics of lists:\n",
    "\n",
    "- **Ordered**: Items in a list are stored in a defined order and can be accessed by their **index** 🔢.\n",
    "\n",
    "\n",
    "- **Changeable**: You can **modify**, **add**, or **remove** items after a list has been created 🔄.\n",
    "\n",
    "\n",
    "- **Allow Duplicates**: Lists can contain **duplicate** values 🗂️.\n",
    "\n",
    "Let's see some examples:"
   ]
  },
  {
   "cell_type": "markdown",
   "metadata": {},
   "source": [
    "1. **Accessing Items**: Use an index to access an item in the list. Indexing starts from **0**."
   ]
  },
  {
   "cell_type": "code",
   "execution_count": null,
   "metadata": {},
   "outputs": [],
   "source": [
    "print(groceries_list[1])"
   ]
  },
  {
   "cell_type": "markdown",
   "metadata": {},
   "source": [
    "2. **Slicing Lists**: You can access a range of items by specifying a slice `[start:end]`. Slicing helps retrieve a subset of the list."
   ]
  },
  {
   "cell_type": "code",
   "execution_count": null,
   "metadata": {},
   "outputs": [],
   "source": [
    "# Get the first two items from the list\n",
    "sliced_list = groceries_list[:2]\n",
    "print(sliced_list)  \n",
    "\n",
    "# Get the last two items from the list\n",
    "last_items = groceries_list[-2:]\n",
    "print(last_items) "
   ]
  },
  {
   "cell_type": "markdown",
   "metadata": {},
   "source": [
    "3. **Changing Items**: Lists are mutable, so you can easily update items."
   ]
  },
  {
   "cell_type": "code",
   "execution_count": null,
   "metadata": {},
   "outputs": [],
   "source": [
    "groceries_list[1] = \"juice\" # change milk to juice\n",
    "\n",
    "print(groceries_list)"
   ]
  },
  {
   "cell_type": "markdown",
   "metadata": {},
   "source": [
    "4. **Adding Items Using Concatenation**: You can **concatenate** two lists using the `+` operator."
   ]
  },
  {
   "cell_type": "code",
   "execution_count": null,
   "metadata": {
    "scrolled": true
   },
   "outputs": [],
   "source": [
    "groceries_list = groceries_list + [\"bread\"] # add a new item to the list\n",
    "\n",
    "print(groceries_list)"
   ]
  },
  {
   "cell_type": "markdown",
   "metadata": {},
   "source": [
    "One of the powerful features of lists in Python is their ability to store **different data types** in the same list. This flexibility allows you to combine strings, integers, floats, and even other lists! 🎨"
   ]
  },
  {
   "cell_type": "code",
   "execution_count": null,
   "metadata": {},
   "outputs": [],
   "source": [
    "mixed_list = [\"apple\", 3.14, 42, True]\n",
    "\n",
    "print(mixed_list)"
   ]
  },
  {
   "cell_type": "markdown",
   "metadata": {},
   "source": [
    "As you can see, the list contains a string (`\"apple\"`), a float (`3.14`), an integer (`42`), and a boolean (`True`). Python handles this with ease! You can access, modify, or operate on each item just as you would with any other list."
   ]
  },
  {
   "cell_type": "markdown",
   "metadata": {},
   "source": [
    "<div style=\"border: 2px solid #84bd7b; padding: 10px; background-color: #d8f5d3; border-radius: 5px;\">\n",
    "\n",
    "### Infobox ℹ️\n",
    "\n",
    "**Length of a List**:\n",
    "\n",
    "- In Python, when we want to inspect the **length** of a list (i.e., how many elements it contains), we can use the built-in `len()` function.\n",
    "- This command returns the total number of elements in the list.\n",
    "\n",
    "#### Example:\n",
    "\n",
    "```python\n",
    "groceries_list = [\"bread\", \"milk\", \"apples\"]\n",
    "print(len(groceries_list))  # Output: 3\n",
    "```\n",
    "\n",
    "The `len()` function is a simple way to quickly check how many items are in your list!\n",
    "\n",
    "</div>\n",
    "<br>\n"
   ]
  },
  {
   "cell_type": "markdown",
   "metadata": {},
   "source": [
    "## Working with List Methods 🛠️\n",
    "\n",
    "Python provides a wide variety of **built-in methods** to manipulate lists efficiently. Let’s explore some of the most commonly used list methods:"
   ]
  },
  {
   "cell_type": "markdown",
   "metadata": {},
   "source": [
    "### Common List Methods\n",
    "\n",
    "- **.copy()**: Creates a new list that is a copy of the original list."
   ]
  },
  {
   "cell_type": "code",
   "execution_count": null,
   "metadata": {},
   "outputs": [],
   "source": [
    "new_groceries_list = groceries_list.copy()\n",
    "\n",
    "print(new_groceries_list)"
   ]
  },
  {
   "cell_type": "markdown",
   "metadata": {},
   "source": [
    "- **`.append(item)`**: Adds an item to the end of the list."
   ]
  },
  {
   "cell_type": "code",
   "execution_count": null,
   "metadata": {
    "scrolled": true
   },
   "outputs": [],
   "source": [
    "new_groceries_list.append(\"eggs\") # add a new item to the list\n",
    "\n",
    "print(new_groceries_list) "
   ]
  },
  {
   "cell_type": "markdown",
   "metadata": {},
   "source": [
    "- **`.remove(item)`**: Removes the first occurrence of an item from the list."
   ]
  },
  {
   "cell_type": "code",
   "execution_count": null,
   "metadata": {},
   "outputs": [],
   "source": [
    "new_groceries_list.remove(\"eggs\")  # remove the first ocurrence of eggs\n",
    "\n",
    "print(new_groceries_list) "
   ]
  },
  {
   "cell_type": "markdown",
   "metadata": {},
   "source": [
    "- **`.insert(index, item)`**: Inserts an item at a specific position."
   ]
  },
  {
   "cell_type": "code",
   "execution_count": null,
   "metadata": {},
   "outputs": [],
   "source": [
    "new_groceries_list.insert(3, \"cheese\")\n",
    "print(new_groceries_list)"
   ]
  },
  {
   "cell_type": "markdown",
   "metadata": {},
   "source": [
    "- **`.pop(index)`**: Removes the item at the specified position and returns it. If no index is specified, it removes and returns the last item."
   ]
  },
  {
   "cell_type": "code",
   "execution_count": null,
   "metadata": {},
   "outputs": [],
   "source": [
    "last_item = new_groceries_list.pop()\n",
    "print(last_item)  # Output: \"cheese\"\n",
    "print(new_groceries_list)  # Output: [\"bread\", \"milk\", \"eggs\", \"banana\"]"
   ]
  },
  {
   "cell_type": "markdown",
   "metadata": {},
   "source": [
    "- **`.sort()`**: Sorts the list in ascending/descending order."
   ]
  },
  {
   "cell_type": "code",
   "execution_count": null,
   "metadata": {},
   "outputs": [],
   "source": [
    "new_groceries_list.sort() # sort in ascending order (alphabetically)\n",
    "print(new_groceries_list) \n",
    "\n",
    "new_groceries_list.sort(reverse=True) # sort in descending order\n",
    "print(new_groceries_list) "
   ]
  },
  {
   "cell_type": "markdown",
   "metadata": {},
   "source": [
    "- **`.index(item)`**: Returns the index of the first occurrence of the specified item. If the item is not found, it raises a `ValueError`."
   ]
  },
  {
   "cell_type": "code",
   "execution_count": null,
   "metadata": {},
   "outputs": [],
   "source": [
    "index_of_banana = new_groceries_list.index(\"juice\") # look for the index of \"juice\"\n",
    "print(index_of_banana)  \n",
    "\n",
    "index_of_banana = new_groceries_list.index(\"banana\") # look for the index of \"banana\"\n",
    "print(index_of_banana) "
   ]
  },
  {
   "cell_type": "markdown",
   "metadata": {},
   "source": [
    "- **`.count(item)`**: Returns the number of times the specified item appears in the list."
   ]
  },
  {
   "cell_type": "code",
   "execution_count": null,
   "metadata": {},
   "outputs": [],
   "source": [
    "eggs_count = new_groceries_list.count(\"bread\")\n",
    "print(eggs_count)  "
   ]
  },
  {
   "cell_type": "markdown",
   "metadata": {},
   "source": [
    "<div style=\"border: 2px solid #84bd7b; padding: 10px; background-color: #d8f5d3; border-radius: 5px;\">\n",
    "\n",
    "### Infobox ℹ️\n",
    "\n",
    "**Looking for elements in a list**:\n",
    "\n",
    "- Similar to what we did with **strings**, where we looked for **substrings** or **occurrences** using the `in` operator, we can also look for specific elements in a **list** using the same approach.\n",
    "\n",
    "The `in` operator checks whether an element exists in a list, and returns `True` if it does, and `False` if it doesn't.\n",
    "\n",
    "#### Example:\n",
    "\n",
    "```python\n",
    "groceries_list = [\"bread\", \"milk\", \"apples\", \"bananas\"]\n",
    "\n",
    "# Check if \"milk\" is in the list\n",
    "is_milk_in_list = \"milk\" in groceries_list\n",
    "print(is_milk_in_list)  # Output: True \n",
    "\n",
    "# Check if \"cheese\" is in the list\n",
    "is_cheese_in_list = \"cheese\" in groceries_list\n",
    "print(is_cheese_in_list)  # Output: False \n",
    "```\n",
    "\n",
    "In this example, the `in` operator quickly tells us whether `\"milk\"` or `\"cheese\"` is present in the list. This is very useful when checking for the existence of an element in large lists!\n",
    "\n",
    "</div>"
   ]
  },
  {
   "cell_type": "markdown",
   "metadata": {},
   "source": [
    "<div style=\"border: 2px solid #ababab; padding: 10px; background-color: #ebedeb; border-radius: 5px;\">\n",
    "\n",
    "# Exercises 🏃\n",
    "\n",
    "</div>"
   ]
  },
  {
   "cell_type": "markdown",
   "metadata": {},
   "source": []
  },
  {
   "cell_type": "markdown",
   "metadata": {},
   "source": []
  },
  {
   "cell_type": "markdown",
   "metadata": {},
   "source": []
  },
  {
   "cell_type": "markdown",
   "metadata": {},
   "source": [
    "<br>\n",
    "\n",
    "\n",
    "## Python Dictionaries 📖🔑"
   ]
  },
  {
   "cell_type": "markdown",
   "metadata": {},
   "source": [
    "Dictionaries in Python are powerful data structures that store **key-value pairs**. Unlike lists, where the data is stored in a sequence, dictionaries allow you to organize data by associating each **key** with a specific **value**. This makes them perfect for storing related information in an easy-to-access manner.\n",
    "\n",
    "You create a dictionary using **curly braces** `{}`, like so:"
   ]
  },
  {
   "cell_type": "code",
   "execution_count": null,
   "metadata": {
    "scrolled": true
   },
   "outputs": [],
   "source": [
    "student_grades = {\"John\": 85, \"Emma\": 92, \"Liam\": 78}\n",
    "\n",
    "print(student_grades)"
   ]
  },
  {
   "cell_type": "markdown",
   "metadata": {},
   "source": [
    "### Key Characteristics of Dictionaries 📜\n",
    "\n",
    "- **Key-Value Pairs**: Each item in a dictionary consists of a **key** and a **value**. For example, in `{\"John\": 85}`, `\"John\"` is the key and `85` is the value.\n",
    "\n",
    "  \n",
    "- **Unordered**: Dictionaries do not store items in any particular order (at least before Python 3.7), but they do maintain insertion order from Python 3.7 onward.\n",
    "\n",
    "\n",
    "- **Changeable**: You can add, modify, or remove key-value pairs after the dictionary is created.\n",
    "\n",
    "\n",
    "- **No Duplicates**: Keys must be **unique** within a dictionary. You cannot have two identical keys, though values can be duplicated."
   ]
  },
  {
   "cell_type": "markdown",
   "metadata": {},
   "source": [
    "You can access the value associated with a specific key by using the key inside **square brackets** 🔍:"
   ]
  },
  {
   "cell_type": "code",
   "execution_count": null,
   "metadata": {},
   "outputs": [],
   "source": [
    "emma_grade = student_grades[\"Emma\"]\n",
    "\n",
    "print(emma_grade)"
   ]
  },
  {
   "cell_type": "markdown",
   "metadata": {},
   "source": [
    "If you try to access a key that doesn't exist, Python will raise a `KeyError` ⚠️. "
   ]
  },
  {
   "cell_type": "code",
   "execution_count": null,
   "metadata": {
    "scrolled": true
   },
   "outputs": [],
   "source": [
    "maria_grade = student_grades[\"Maria\"]\n",
    "\n",
    "print(maria_grade)"
   ]
  },
  {
   "cell_type": "markdown",
   "metadata": {},
   "source": [
    "Just like lists, the **values** in a dictionary can be of any data type 🎨. The keys in a dictionary must be **unique and immutable** (typically strings, numbers, or tuples), but the values can be strings, integers, floats, booleans, lists, or even other dictionaries!"
   ]
  },
  {
   "cell_type": "code",
   "execution_count": null,
   "metadata": {},
   "outputs": [],
   "source": [
    "student_data = {\n",
    "    \"name\": \"John\",\n",
    "    \"age\": 20,\n",
    "    \"grades\": [85, 90, 92],  \n",
    "    \"is_graduating\": False  \n",
    "}\n",
    "\n",
    "print(student_data)"
   ]
  },
  {
   "cell_type": "markdown",
   "metadata": {},
   "source": [
    "In this example:\n",
    "\n",
    "- `\"name\"` is a **string**.\n",
    "- `\"age\"` is an **integer**.\n",
    "- `\"grades\"` is a **list** of numbers.\n",
    "- `\"is_graduating\"` is a **boolean**."
   ]
  },
  {
   "cell_type": "markdown",
   "metadata": {},
   "source": [
    "<div style=\"border: 2px solid #84bd7b; padding: 10px; background-color: #d8f5d3; border-radius: 5px;\">\n",
    "\n",
    "### Infobox ℹ️\n",
    "\n",
    "**Looking for keys in a dictionary**:\n",
    "\n",
    "- Just like with lists and strings, you can use the **`in` operator** to check if a particular **key** exists in a dictionary. However, keep in mind that `in` checks for the **existence of keys** only, not values.\n",
    "\n",
    "#### Example:\n",
    "\n",
    "```python\n",
    "student_grades = {\"John\": 85, \"Emma\": 92, \"Liam\": 78}\n",
    "\n",
    "# Check if \"Emma\" is in the dictionary\n",
    "is_emma_in_dict = \"Emma\" in student_grades\n",
    "print(is_emma_in_dict)  # Output: True \n",
    "\n",
    "# Check if \"Sophia\" is in the dictionary\n",
    "is_sophia_in_dict = \"Sophia\" in student_grades\n",
    "print(is_sophia_in_dict)  # Output: False \n",
    "```\n",
    "\n",
    "In this example, the `in` operator checks if the **key** exists in the dictionary. This is especially helpful when you need to verify whether you have data for a specific key.\n",
    "    \n",
    "</div>"
   ]
  },
  {
   "cell_type": "markdown",
   "metadata": {},
   "source": [
    "### Nested Dictionaries 📚🔗\n",
    "\n",
    "It is common practice to use **dictionaries inside dictionaries** to represent more complex, structured data. A **nested dictionary** is a dictionary where some of the values are themselves dictionaries. This allows you to model hierarchies or represent data that naturally has multiple layers."
   ]
  },
  {
   "cell_type": "code",
   "execution_count": null,
   "metadata": {},
   "outputs": [],
   "source": [
    "students = {\n",
    "    \"John\": {\n",
    "        \"age\": 20,\n",
    "        \"major\": \"Computer Science\",\n",
    "        \"grades\": [85, 90, 88]\n",
    "    },\n",
    "    \"Emma\": {\n",
    "        \"age\": 22,\n",
    "        \"major\": \"Biology\",\n",
    "        \"grades\": [91, 94, 89]\n",
    "    },\n",
    "    \"Liam\": {\n",
    "        \"age\": 21,\n",
    "        \"major\": \"Mathematics\",\n",
    "        \"grades\": [78, 85, 80]\n",
    "    }\n",
    "}\n",
    "\n",
    "print(students)"
   ]
  },
  {
   "cell_type": "markdown",
   "metadata": {},
   "source": [
    "In this example, we have a dictionary `students` where each **key** (student name) points to another **dictionary** containing information about that student.\n",
    "\n",
    "- **John's data**: `\"age\"`, `\"major\"`, and a list of `\"grades\"`.\n",
    "\n",
    "\n",
    "- **Emma's data**: The same structure, with her own values.\n",
    "\n",
    "\n",
    "- **Liam's data**: Again, the same structure with different values."
   ]
  },
  {
   "cell_type": "markdown",
   "metadata": {},
   "source": [
    "To access values in a **nested dictionary**, you need to reference both the outer and inner dictionary keys."
   ]
  },
  {
   "cell_type": "code",
   "execution_count": null,
   "metadata": {},
   "outputs": [],
   "source": [
    "# Accessing Emma's major\n",
    "emma_major = students[\"Emma\"][\"major\"]\n",
    "print(emma_major)"
   ]
  },
  {
   "cell_type": "markdown",
   "metadata": {},
   "source": [
    "- To get **Emma's major**, you first access the `\"Emma\"` key, and then the `\"major\"` key within Emma's dictionary."
   ]
  },
  {
   "cell_type": "code",
   "execution_count": null,
   "metadata": {},
   "outputs": [],
   "source": [
    "# Accessing John's second grade\n",
    "john_second_grade = students[\"John\"][\"grades\"][1]\n",
    "print(john_second_grade)"
   ]
  },
  {
   "cell_type": "markdown",
   "metadata": {},
   "source": [
    "- To get **John's second grade**, you access the `\"John\"` key, followed by `\"grades\"`, and then index `[1]` to get the second grade in the list."
   ]
  },
  {
   "cell_type": "markdown",
   "metadata": {},
   "source": [
    "### Modifying Dictionaries 🔄\n",
    "\n",
    "Dictionaries are mutable, meaning you can modify them after creation:\n",
    "\n",
    "- **Adding new key-value pairs**:"
   ]
  },
  {
   "cell_type": "code",
   "execution_count": null,
   "metadata": {},
   "outputs": [],
   "source": [
    "student_grades[\"Maria\"] = 98\n",
    "print(student_grades)"
   ]
  },
  {
   "cell_type": "markdown",
   "metadata": {},
   "source": [
    "- **Updating an existing key’s value**:"
   ]
  },
  {
   "cell_type": "code",
   "execution_count": null,
   "metadata": {
    "scrolled": true
   },
   "outputs": [],
   "source": [
    "student_grades[\"Liam\"] = 80\n",
    "print(student_grades)"
   ]
  },
  {
   "cell_type": "markdown",
   "metadata": {},
   "source": [
    "- **Removing a key-value pair**:\n",
    "(You can remove a key-value pair using the `del` statement)"
   ]
  },
  {
   "cell_type": "code",
   "execution_count": null,
   "metadata": {},
   "outputs": [],
   "source": [
    "del student_grades[\"John\"]\n",
    "print(student_grades)"
   ]
  },
  {
   "cell_type": "markdown",
   "metadata": {},
   "source": [
    "You can modify the values inside a **nested dictionary** just like with any other dictionary. You just need to reference the correct nested key."
   ]
  },
  {
   "cell_type": "code",
   "execution_count": null,
   "metadata": {},
   "outputs": [],
   "source": [
    "students = {\n",
    "    \"John\": {\n",
    "        \"age\": 20,\n",
    "        \"major\": \"Computer Science\",\n",
    "        \"grades\": [85, 90, 88]\n",
    "    },\n",
    "    \"Emma\": {\n",
    "        \"age\": 22,\n",
    "        \"major\": \"Biology\",\n",
    "        \"grades\": [91, 94, 89]\n",
    "    },\n",
    "    \"Liam\": {\n",
    "        \"age\": 21,\n",
    "        \"major\": \"Mathematics\",\n",
    "        \"grades\": [78, 85, 80]\n",
    "    }\n",
    "}\n",
    "\n",
    "print(students)"
   ]
  },
  {
   "cell_type": "code",
   "execution_count": null,
   "metadata": {},
   "outputs": [],
   "source": [
    "students[\"Liam\"][\"major\"] = \"Physics\" # update Liam's major\n",
    "\n",
    "print(students[\"Liam\"][\"major\"])"
   ]
  },
  {
   "cell_type": "markdown",
   "metadata": {},
   "source": [
    "### Dictionary Methods 🛠️\n",
    "\n",
    "Similar to **lists**, dictionaries also offer a variety of methods to work with their data efficiently. Let’s dive into some of the most useful ones:\n",
    "\n",
    "- **`.keys()`**: Returns a list-like object of all the keys in the dictionary."
   ]
  },
  {
   "cell_type": "code",
   "execution_count": null,
   "metadata": {},
   "outputs": [],
   "source": [
    "keys = student_grades.keys()\n",
    "print(keys)  "
   ]
  },
  {
   "cell_type": "markdown",
   "metadata": {},
   "source": [
    "- **`.values()`**: Returns a list-like object of all the values in the dictionary."
   ]
  },
  {
   "cell_type": "code",
   "execution_count": null,
   "metadata": {},
   "outputs": [],
   "source": [
    "values = student_grades.values()\n",
    "print(values)"
   ]
  },
  {
   "cell_type": "markdown",
   "metadata": {},
   "source": [
    "- **`.items()`**: Returns a list-like object containing tuples of each key-value pair."
   ]
  },
  {
   "cell_type": "code",
   "execution_count": null,
   "metadata": {},
   "outputs": [],
   "source": [
    "items = student_grades.items()\n",
    "print(items)"
   ]
  },
  {
   "cell_type": "markdown",
   "metadata": {},
   "source": [
    "- **`.get(key, default_value)`**: Returns the value for the specified key. If the key does not exist, it returns `None` or an optional **default value** you can specify. This is a safe way to access values without causing a `KeyError`."
   ]
  },
  {
   "cell_type": "markdown",
   "metadata": {},
   "source": [
    "<div style=\"border: 2px solid #84bd7b; padding: 10px; background-color: #d8f5d3; border-radius: 5px;\">\n",
    "    \n",
    "The `.get()` method is particularly useful when you’re unsure if a key exists in the dictionary. It avoids raising an error and allows you to provide a **default value**, which makes your code more robust and readable.\n",
    "    \n",
    "</div>"
   ]
  },
  {
   "cell_type": "markdown",
   "metadata": {},
   "source": [
    "<div style=\"border: 2px solid #ababab; padding: 10px; background-color: #ebedeb; border-radius: 5px;\">\n",
    "\n",
    "# Exercises 🏃\n",
    "\n",
    "</div>"
   ]
  },
  {
   "cell_type": "markdown",
   "metadata": {},
   "source": []
  },
  {
   "cell_type": "markdown",
   "metadata": {},
   "source": []
  },
  {
   "cell_type": "markdown",
   "metadata": {},
   "source": [
    "<br>\n",
    "\n",
    "<div style=\"border: 2px solid #025170; padding: 10px; background-color: #c2eeff; border-radius: 5px;\">\n",
    "    \n",
    "## Extra: Tuples and Sets \n",
    "  \n",
    "<br>\n",
    "</div>\n",
    "\n",
    "\n",
    "\n",
    "\n",
    "### Tuples 📦\n"
   ]
  },
  {
   "cell_type": "markdown",
   "metadata": {},
   "source": [
    "**Tuples** are another built-in data structure in Python, similar to lists, but with a few key differences:\n",
    "\n",
    "#### Major Characteristics:\n",
    "\n",
    "- **Immutable**: Once created, the values in a tuple **cannot be changed**. This makes tuples useful for storing data that should not be modified.\n",
    "\n",
    "\n",
    "- **Ordered**: Tuples maintain the order of their elements, just like lists, so you can access elements using an **index**.\n",
    "\n",
    "\n",
    "- **Allow Duplicates**: Tuples can contain duplicate values, meaning the same item can appear more than once.\n",
    "\n",
    "#### Example:\n"
   ]
  },
  {
   "cell_type": "code",
   "execution_count": null,
   "metadata": {},
   "outputs": [],
   "source": [
    "# Creating a tuple\n",
    "fruit_tuple = (\"apple\", \"banana\", \"cherry\")\n",
    "print(fruit_tuple)  \n",
    "\n",
    "# Accessing elements\n",
    "print(fruit_tuple[1])  \n",
    "\n",
    "# Checking length\n",
    "print(len(fruit_tuple))  \n",
    "\n",
    "# Tuples with mixed data types\n",
    "mixed_tuple = (1, \"apple\", 3.14)\n",
    "print(mixed_tuple)"
   ]
  },
  {
   "cell_type": "markdown",
   "metadata": {},
   "source": [
    "**Use Case**: Tuples are often used when you have a **fixed collection of items** that should not be changed, like coordinates `(x, y)` or RGB color values `(R, G, B)`."
   ]
  },
  {
   "cell_type": "markdown",
   "metadata": {},
   "source": [
    "### Sets 🌐\n",
    "\n",
    "**Sets** are another type of collection in Python, but they are quite different from lists and tuples:\n",
    "\n",
    "\n",
    "### Major Characteristics:\n",
    "\n",
    "- **Unordered**: Sets do not maintain the order of elements. When you print a set, the items may appear in a different order than you inserted them.\n",
    "\n",
    "\n",
    "- **Unindexed**: Unlike lists and tuples, you cannot access items in a set using an index.\n",
    "\n",
    "\n",
    "- **No Duplicates**: Sets automatically **remove duplicate values**, making them useful for storing unique items.\n",
    "\n",
    "\n",
    "- **Mutable**: You can add or remove elements from a set after it is created.\n",
    "\n",
    "### Example:"
   ]
  },
  {
   "cell_type": "code",
   "execution_count": null,
   "metadata": {},
   "outputs": [],
   "source": [
    "# Creating a set\n",
    "unique_fruits = {\"apple\", \"banana\", \"cherry\", \"apple\"}\n",
    "print(unique_fruits)  \n",
    "\n",
    "# Adding an item\n",
    "unique_fruits.add(\"orange\")\n",
    "print(unique_fruits) \n",
    "\n",
    "# Removing an item\n",
    "unique_fruits.remove(\"banana\")\n",
    "print(unique_fruits)\n",
    "\n",
    "# Checking membership\n",
    "print(\"apple\" in unique_fruits)"
   ]
  },
  {
   "cell_type": "markdown",
   "metadata": {},
   "source": [
    "**Use Case**: Sets are ideal when you need to store **unique elements** and perform operations like **union**, **intersection**, or **difference** between collections."
   ]
  },
  {
   "cell_type": "markdown",
   "metadata": {},
   "source": [
    "## Quick Comparison 📋:\n",
    "\n",
    "| Feature      | List               | Tuple              | Set                  |\n",
    "|--------------|--------------------|--------------------|----------------------|\n",
    "| Ordered      | ✅ Yes             | ✅ Yes             | ❌ No                |\n",
    "| Indexed      | ✅ Yes             | ✅ Yes             | ❌ No                |\n",
    "| Mutable      | ✅ Yes             | ❌ No              | ✅ Yes               |\n",
    "| Duplicates   | ✅ Allowed         | ✅ Allowed         | ❌ Not Allowed       |\n"
   ]
  }
 ],
 "metadata": {
  "kernelspec": {
   "display_name": "python_workshop",
   "language": "python",
   "name": "python_workshop"
  },
  "language_info": {
   "codemirror_mode": {
    "name": "ipython",
    "version": 3
   },
   "file_extension": ".py",
   "mimetype": "text/x-python",
   "name": "python",
   "nbconvert_exporter": "python",
   "pygments_lexer": "ipython3",
   "version": "3.13.0"
  }
 },
 "nbformat": 4,
 "nbformat_minor": 2
}
