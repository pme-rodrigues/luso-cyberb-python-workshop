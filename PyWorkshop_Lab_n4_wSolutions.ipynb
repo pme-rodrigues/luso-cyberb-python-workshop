{
 "cells": [
  {
   "cell_type": "markdown",
   "metadata": {},
   "source": [
    "\n",
    "# 🖥️ Python Laboratory 4️⃣: Data Structures\n",
    "<br>\n",
    "\n",
    "In this session, we'll dive into **Python data structures**, focusing on **lists** and **dictionaries**. We’ll also give you a general overview of two additional structures called **tuples** and **sets**. Each of these structures has its own unique qualities, making them suitable for different scenarios.\n",
    "\n",
    "Let’s explore why mastering these topics is important. 🔍\n",
    "<br>\n",
    "\n"
   ]
  },
  {
   "cell_type": "markdown",
   "metadata": {},
   "source": [
    "## Python Lists 📋\n",
    "\n",
    "<br>\n",
    "\n",
    "![Python Lists](https://external-content.duckduckgo.com/iu/?u=https%3A%2F%2Fd1rluokkqqu56n.cloudfront.net%2Fwpapp%2Fuploads%2F2020%2F12%2F19100145%2Fto-do-list.jpeg&f=1&nofb=1&ipt=6ebf3988758c0bc0dc8721ff8bf09a62a27483f6ec753d74275a6917500c81b5&ipo=images)\n",
    "\n",
    "### What are Python Lists? 🤔\n",
    "\n",
    "Lists are one of 4️⃣ built-in data types in Python used to store collections of data. The other 3️⃣ are **Tuples**, **Sets**, and **Dictionaries**, all with different qualities and use cases.\n",
    "\n",
    "To create a list, we use **square brackets** `[]`, and list elements are separated by commas `,`, like so:"
   ]
  },
  {
   "cell_type": "code",
   "execution_count": null,
   "metadata": {},
   "outputs": [],
   "source": [
    "groceries_list = [\"eggs\", \"milk\", \"apples\", \"bacon\"] # create a list of groceries\n",
    "\n",
    "print(groceries_list)\n",
    "\n",
    "print(type(groceries_list))"
   ]
  },
  {
   "cell_type": "markdown",
   "metadata": {},
   "source": [
    "Lists are incredibly versatile because they allow us to store multiple values in a single variable. Let’s explore some key characteristics of lists:\n",
    "\n",
    "- **Ordered**: Items in a list are stored in a defined order and can be accessed by their **index** 🔢.\n",
    "\n",
    "\n",
    "- **Changeable**: You can **modify**, **add**, or **remove** items after a list has been created 🔄.\n",
    "\n",
    "\n",
    "- **Allow Duplicates**: Lists can contain **duplicate** values 🗂️.\n",
    "\n",
    "Let's see some examples:"
   ]
  },
  {
   "cell_type": "markdown",
   "metadata": {},
   "source": [
    "1. **Accessing Items**: Use an index to access an item in the list. Indexing starts from **0**."
   ]
  },
  {
   "cell_type": "code",
   "execution_count": null,
   "metadata": {},
   "outputs": [],
   "source": [
    "print(groceries_list[1])"
   ]
  },
  {
   "cell_type": "markdown",
   "metadata": {},
   "source": [
    "2. **Slicing Lists**: You can access a range of items by specifying a slice `[start:end]`. Slicing helps retrieve a subset of the list."
   ]
  },
  {
   "cell_type": "code",
   "execution_count": null,
   "metadata": {},
   "outputs": [],
   "source": [
    "# Get the first two items from the list\n",
    "sliced_list = groceries_list[:2]\n",
    "print(sliced_list)  \n",
    "\n",
    "# Get the last two items from the list\n",
    "last_items = groceries_list[-2:]\n",
    "print(last_items) "
   ]
  },
  {
   "cell_type": "markdown",
   "metadata": {},
   "source": [
    "3. **Changing Items**: Lists are mutable, so you can easily update items."
   ]
  },
  {
   "cell_type": "code",
   "execution_count": null,
   "metadata": {},
   "outputs": [],
   "source": [
    "groceries_list[1] = \"juice\" # change milk to juice\n",
    "\n",
    "print(groceries_list)"
   ]
  },
  {
   "cell_type": "markdown",
   "metadata": {},
   "source": [
    "4. **Adding Items Using Concatenation**: You can **concatenate** two lists using the `+` operator."
   ]
  },
  {
   "cell_type": "code",
   "execution_count": null,
   "metadata": {
    "scrolled": true
   },
   "outputs": [],
   "source": [
    "groceries_list = groceries_list + [\"bread\"] # add a new item to the list\n",
    "\n",
    "print(groceries_list)"
   ]
  },
  {
   "cell_type": "markdown",
   "metadata": {},
   "source": [
    "One of the powerful features of lists in Python is their ability to store **different data types** in the same list. This flexibility allows you to combine strings, integers, floats, and even other lists! 🎨"
   ]
  },
  {
   "cell_type": "code",
   "execution_count": null,
   "metadata": {},
   "outputs": [],
   "source": [
    "mixed_list = [\"apple\", 3.14, 42, True]\n",
    "\n",
    "print(mixed_list)"
   ]
  },
  {
   "cell_type": "markdown",
   "metadata": {},
   "source": [
    "As you can see, the list contains a string (`\"apple\"`), a float (`3.14`), an integer (`42`), and a boolean (`True`). Python handles this with ease! You can access, modify, or operate on each item just as you would with any other list."
   ]
  },
  {
   "cell_type": "markdown",
   "metadata": {},
   "source": [
    "<div style=\"border: 2px solid #84bd7b; padding: 10px; background-color: #d8f5d3; border-radius: 5px;\">\n",
    "\n",
    "### Infobox ℹ️\n",
    "\n",
    "**Length of a List**:\n",
    "\n",
    "- In Python, when we want to inspect the **length** of a list (i.e., how many elements it contains), we can use the built-in `len()` function.\n",
    "- This command returns the total number of elements in the list.\n",
    "\n",
    "#### Example:\n",
    "\n",
    "```python\n",
    "groceries_list = [\"bread\", \"milk\", \"apples\"]\n",
    "print(len(groceries_list))  # Output: 3\n",
    "```\n",
    "\n",
    "The `len()` function is a simple way to quickly check how many items are in your list!\n",
    "\n",
    "</div>\n",
    "<br>\n"
   ]
  },
  {
   "cell_type": "markdown",
   "metadata": {},
   "source": [
    "## Working with List Methods 🛠️\n",
    "\n",
    "Python provides a wide variety of **built-in methods** to manipulate lists efficiently. Let’s explore some of the most commonly used list methods:"
   ]
  },
  {
   "cell_type": "markdown",
   "metadata": {},
   "source": [
    "### Common List Methods\n",
    "\n",
    "- **.copy()**: Creates a new list that is a copy of the original list."
   ]
  },
  {
   "cell_type": "code",
   "execution_count": 14,
   "metadata": {},
   "outputs": [
    {
     "name": "stdout",
     "output_type": "stream",
     "text": [
      "['apple', 'apple', 'banana', 'banana', 'bread', 'eggs', 'milk', 'milk', 'orange']\n"
     ]
    }
   ],
   "source": [
    "new_groceries_list = groceries_list.copy()\n",
    "\n",
    "print(new_groceries_list)"
   ]
  },
  {
   "cell_type": "markdown",
   "metadata": {},
   "source": [
    "- **`.append(item)`**: Adds an item to the end of the list."
   ]
  },
  {
   "cell_type": "code",
   "execution_count": 15,
   "metadata": {
    "scrolled": true
   },
   "outputs": [
    {
     "name": "stdout",
     "output_type": "stream",
     "text": [
      "['apple', 'apple', 'banana', 'banana', 'bread', 'eggs', 'milk', 'milk', 'orange', 'eggs']\n"
     ]
    }
   ],
   "source": [
    "new_groceries_list.append(\"eggs\") # add a new item to the list\n",
    "\n",
    "print(new_groceries_list) "
   ]
  },
  {
   "cell_type": "markdown",
   "metadata": {},
   "source": [
    "- **`.remove(item)`**: Removes the first occurrence of an item from the list."
   ]
  },
  {
   "cell_type": "code",
   "execution_count": 16,
   "metadata": {},
   "outputs": [
    {
     "name": "stdout",
     "output_type": "stream",
     "text": [
      "['apple', 'apple', 'banana', 'banana', 'bread', 'milk', 'milk', 'orange', 'eggs']\n"
     ]
    }
   ],
   "source": [
    "new_groceries_list.remove(\"eggs\")  # remove the first ocurrence of eggs\n",
    "\n",
    "print(new_groceries_list) "
   ]
  },
  {
   "cell_type": "markdown",
   "metadata": {},
   "source": [
    "- **`.insert(index, item)`**: Inserts an item at a specific position."
   ]
  },
  {
   "cell_type": "code",
   "execution_count": 17,
   "metadata": {},
   "outputs": [
    {
     "name": "stdout",
     "output_type": "stream",
     "text": [
      "['apple', 'apple', 'banana', 'cheese', 'banana', 'bread', 'milk', 'milk', 'orange', 'eggs']\n"
     ]
    }
   ],
   "source": [
    "new_groceries_list.insert(3, \"cheese\")\n",
    "print(new_groceries_list)"
   ]
  },
  {
   "cell_type": "markdown",
   "metadata": {},
   "source": [
    "- **`.pop(index)`**: Removes the item at the specified position and returns it. If no index is specified, it removes and returns the last item."
   ]
  },
  {
   "cell_type": "code",
   "execution_count": 18,
   "metadata": {},
   "outputs": [
    {
     "name": "stdout",
     "output_type": "stream",
     "text": [
      "eggs\n",
      "['apple', 'apple', 'banana', 'cheese', 'banana', 'bread', 'milk', 'milk', 'orange']\n"
     ]
    }
   ],
   "source": [
    "last_item = new_groceries_list.pop()\n",
    "print(last_item)  # Output: \"cheese\"\n",
    "print(new_groceries_list)  # Output: [\"bread\", \"milk\", \"eggs\", \"banana\"]"
   ]
  },
  {
   "cell_type": "markdown",
   "metadata": {},
   "source": [
    "- **`.sort()`**: Sorts the list in ascending/descending order."
   ]
  },
  {
   "cell_type": "code",
   "execution_count": 19,
   "metadata": {},
   "outputs": [
    {
     "name": "stdout",
     "output_type": "stream",
     "text": [
      "['apple', 'apple', 'banana', 'banana', 'bread', 'cheese', 'milk', 'milk', 'orange']\n",
      "['orange', 'milk', 'milk', 'cheese', 'bread', 'banana', 'banana', 'apple', 'apple']\n"
     ]
    }
   ],
   "source": [
    "new_groceries_list.sort() # sort in ascending order (alphabetically)\n",
    "print(new_groceries_list) \n",
    "\n",
    "new_groceries_list.sort(reverse=True) # sort in descending order\n",
    "print(new_groceries_list) "
   ]
  },
  {
   "cell_type": "markdown",
   "metadata": {},
   "source": [
    "- **`.index(item)`**: Returns the index of the first occurrence of the specified item. If the item is not found, it raises a `ValueError`."
   ]
  },
  {
   "cell_type": "code",
   "execution_count": null,
   "metadata": {},
   "outputs": [],
   "source": [
    "index_of_banana = new_groceries_list.index(\"juice\") # look for the index of \"juice\"\n",
    "print(index_of_banana)  \n",
    "\n",
    "index_of_banana = new_groceries_list.index(\"banana\") # look for the index of \"banana\"\n",
    "print(index_of_banana) "
   ]
  },
  {
   "cell_type": "markdown",
   "metadata": {},
   "source": [
    "- **`.count(item)`**: Returns the number of times the specified item appears in the list."
   ]
  },
  {
   "cell_type": "code",
   "execution_count": null,
   "metadata": {},
   "outputs": [],
   "source": [
    "eggs_count = new_groceries_list.count(\"bread\")\n",
    "print(eggs_count)  "
   ]
  },
  {
   "cell_type": "markdown",
   "metadata": {},
   "source": [
    "<div style=\"border: 2px solid #84bd7b; padding: 10px; background-color: #d8f5d3; border-radius: 5px;\">\n",
    "\n",
    "### Infobox ℹ️\n",
    "\n",
    "**Looking for elements in a list**:\n",
    "\n",
    "- Similar to what we did with **strings**, where we looked for **substrings** or **occurrences** using the `in` operator, we can also look for specific elements in a **list** using the same approach.\n",
    "\n",
    "The `in` operator checks whether an element exists in a list, and returns `True` if it does, and `False` if it doesn't.\n",
    "\n",
    "#### Example:\n",
    "\n",
    "```python\n",
    "groceries_list = [\"bread\", \"milk\", \"apples\", \"bananas\"]\n",
    "\n",
    "# Check if \"milk\" is in the list\n",
    "is_milk_in_list = \"milk\" in groceries_list\n",
    "print(is_milk_in_list)  # Output: True \n",
    "\n",
    "# Check if \"cheese\" is in the list\n",
    "is_cheese_in_list = \"cheese\" in groceries_list\n",
    "print(is_cheese_in_list)  # Output: False \n",
    "```\n",
    "\n",
    "In this example, the `in` operator quickly tells us whether `\"milk\"` or `\"cheese\"` is present in the list. This is very useful when checking for the existence of an element in large lists!\n",
    "\n",
    "</div>"
   ]
  },
  {
   "cell_type": "markdown",
   "metadata": {},
   "source": [
    "<div style=\"border: 2px solid #ababab; padding: 10px; background-color: #ebedeb; border-radius: 5px;\">\n",
    "\n",
    "# Exercises 🏃\n",
    "\n",
    "</div>"
   ]
  },
  {
   "cell_type": "markdown",
   "metadata": {},
   "source": [
    "### Exercise 1 🥕: Wrangling Groceries Lists\n",
    "\n",
    "You are given a **mystery list** of groceries. However, the list contains some duplicates, items that are not groceries, and might be missing some essential products. Your task is to **clean** and **update** the list to ensure it's accurate."
   ]
  },
  {
   "cell_type": "code",
   "execution_count": 38,
   "metadata": {},
   "outputs": [
    {
     "name": "stdout",
     "output_type": "stream",
     "text": [
      "Original List: \n",
      "['apple', 'banana', 'milk', 'apple', 'eggs', 'banana', 'orange', 'bread', 'milk', 'chair', 'car'] | \n",
      "Number of elements: 11\n",
      "\n",
      "Groceries list after removing non-groceries: \n",
      "['apple', 'banana', 'milk', 'apple', 'eggs', 'banana', 'orange', 'bread', 'milk']\n",
      "\n",
      "Sorted groceries list:\n",
      "['apple', 'apple', 'banana', 'banana', 'bread', 'eggs', 'milk', 'milk', 'orange']\n",
      "\n",
      "Groceries list after removing duplicates:\n",
      "Final groceries list:\n",
      "['apple', 'banana', 'bread', 'eggs', 'milk', 'orange', 'carrot', 'broccoli', 'spinach']\n",
      "\n",
      "Final organized inventory: apple, banana, bread, eggs, milk, orange, carrot, broccoli, spinach\n"
     ]
    }
   ],
   "source": [
    "import exercises\n",
    "\n",
    "mystery_list = exercises.mystery_groceries_list\n",
    "\n",
    "# Step 1: Print the original list and its length\n",
    "print(f\"Original List: \\n{mystery_list} | \\nNumber of elements: {len(mystery_list)}\\n\")\n",
    "\n",
    "# Step 2: Remove the non-grocery items (tip: try to use slicing ([:y]) to exclude the elements.)\n",
    "groceries_list = mystery_list[:-2]\n",
    "print(f\"Groceries list after removing non-groceries: \\n{groceries_list}\\n\")\n",
    "\n",
    "# Step 3: Sort the list alphabetically\n",
    "groceries_list.sort()\n",
    "print(f\"Sorted groceries list:\\n{groceries_list}\\n\")\n",
    "\n",
    "# Step 4: Remove duplicates manually\n",
    "groceries_list.remove(\"apple\")\n",
    "groceries_list.remove(\"banana\")\n",
    "groceries_list.remove(\"milk\")\n",
    "print(f\"Groceries list after removing duplicates:\")\n",
    "\n",
    "# Step 5: Add vegetables to the list\n",
    "vegies = [\"carrot\", \"broccoli\", \"spinach\"]\n",
    "groceries_list = groceries_list + vegies\n",
    "print(f\"Final groceries list:\\n{groceries_list}\\n\")\n",
    "\n",
    "# Step 6: Join the items into a single string separated by \", \" (tip: recall the .join() method introduced last class)\n",
    "groceries_string = \", \".join(groceries_list)\n",
    "print(\"Final organized inventory:\", groceries_string)"
   ]
  },
  {
   "cell_type": "markdown",
   "metadata": {},
   "source": [
    "### Exercise 2: 🧮 Finding the Median of a List\n",
    "\n",
    "You have two lists: one with an **even** number of elements and another with an **odd** number of elements. Your task is to find and print:\n",
    "\n",
    "1. The **two middle elements** of the even-numbered list.\n",
    "2. The **single middle element** of the odd-numbered list.\n",
    "\n",
    "**Requirements**:\n",
    "- **For the even-numbered list**: Use slicing to extract the two middle elements and print them.\n",
    "- **For the odd-numbered list**: Use slicing to extract the single middle element and print it.\n",
    "\n",
    "#### Example:\n",
    "\n",
    "**Even List**:  \n",
    "If `even_list = [10, 23, 14, 35, 56, 78, 89, 34, 57, 90, 21, 46, 58, 67, 82, 49, 77, 36, 11, 62, 73, 84]`, the middle elements should be:  \n",
    "```\n",
    "[46, 58]\n",
    "```\n",
    "\n",
    "**Odd List**:  \n",
    "If `odd_list = [11, 27, 39, 44, 58, 66, 75, 81, 93, 102, 116, 125, 138, 144, 153, 167, 178, 185, 191]`, the middle element should be:  \n",
    "```\n",
    "[116]\n",
    "```"
   ]
  },
  {
   "cell_type": "code",
   "execution_count": 54,
   "metadata": {},
   "outputs": [
    {
     "name": "stdout",
     "output_type": "stream",
     "text": [
      "Even List Middle Elements: [65, 67]\n",
      "Odd List Middle Element: [1283]\n"
     ]
    }
   ],
   "source": [
    "even_list = [12, 45, 67, 23, 78, 34, 89, 23, 56, 91, 45, 68, 99, 102, 43, 67, 88, 34, 56, 78, 92, 84, 65, 37, 48, 109, 234, 87, 45, 56, 78, 34]\n",
    "odd_list = [1500, 1612, 1723, 1837, 1944, 2053, 2161, 2276, 2389, 2491, 100, 203, 307, 412, 518, 625, 731, 842, 959, 1065, 1174, 1283, 1398]\n",
    "\n",
    "# Calculate lengths\n",
    "even_length = len(even_list)\n",
    "odd_length = len(odd_list)\n",
    "\n",
    "# Sort list\n",
    "even_list.sort()\n",
    "odd_list.sort()\n",
    "\n",
    "# Calculate middle index\n",
    "even_middle_index = even_length // 2\n",
    "odd_middle_index = odd_length // 2\n",
    "\n",
    "# Extract middle elements\n",
    "even_middle_elements = even_list[even_middle_index - 1:even_middle_index + 1]\n",
    "odd_middle_element = odd_list[odd_middle_index:odd_middle_index + 1]\n",
    "\n",
    "# Print the results as strings\n",
    "print(\"Even List Middle Elements:\", even_middle_elements)\n",
    "print(\"Odd List Middle Element:\", odd_middle_element)"
   ]
  },
  {
   "cell_type": "markdown",
   "metadata": {},
   "source": [
    "<br>\n",
    "\n",
    "\n",
    "## Python Dictionaries 📖🔑"
   ]
  },
  {
   "cell_type": "markdown",
   "metadata": {},
   "source": [
    "Dictionaries in Python are powerful data structures that store **key-value pairs**. Unlike lists, where the data is stored in a sequence, dictionaries allow you to organize data by associating each **key** with a specific **value**. This makes them perfect for storing related information in an easy-to-access manner.\n",
    "\n",
    "You create a dictionary using **curly braces** `{}`, like so:"
   ]
  },
  {
   "cell_type": "code",
   "execution_count": null,
   "metadata": {
    "scrolled": true
   },
   "outputs": [],
   "source": [
    "student_grades = {\"John\": 85, \"Emma\": 92, \"Liam\": 78}\n",
    "\n",
    "print(student_grades)"
   ]
  },
  {
   "cell_type": "markdown",
   "metadata": {},
   "source": [
    "### Key Characteristics of Dictionaries 📜\n",
    "\n",
    "- **Key-Value Pairs**: Each item in a dictionary consists of a **key** and a **value**. For example, in `{\"John\": 85}`, `\"John\"` is the key and `85` is the value.\n",
    "\n",
    "  \n",
    "- **Unordered**: Dictionaries do not store items in any particular order (at least before Python 3.7), but they do maintain insertion order from Python 3.7 onward.\n",
    "\n",
    "\n",
    "- **Changeable**: You can add, modify, or remove key-value pairs after the dictionary is created.\n",
    "\n",
    "\n",
    "- **No Duplicates**: Keys must be **unique** within a dictionary. You cannot have two identical keys, though values can be duplicated."
   ]
  },
  {
   "cell_type": "markdown",
   "metadata": {},
   "source": [
    "You can access the value associated with a specific key by using the key inside **square brackets** 🔍:"
   ]
  },
  {
   "cell_type": "code",
   "execution_count": null,
   "metadata": {},
   "outputs": [],
   "source": [
    "emma_grade = student_grades[\"Emma\"]\n",
    "\n",
    "print(emma_grade)"
   ]
  },
  {
   "cell_type": "markdown",
   "metadata": {},
   "source": [
    "If you try to access a key that doesn't exist, Python will raise a `KeyError` ⚠️. "
   ]
  },
  {
   "cell_type": "code",
   "execution_count": null,
   "metadata": {
    "scrolled": true
   },
   "outputs": [],
   "source": [
    "maria_grade = student_grades[\"Maria\"]\n",
    "\n",
    "print(maria_grade)"
   ]
  },
  {
   "cell_type": "markdown",
   "metadata": {},
   "source": [
    "Just like lists, the **values** in a dictionary can be of any data type 🎨. The keys in a dictionary must be **unique and immutable** (typically strings, numbers, or tuples), but the values can be strings, integers, floats, booleans, lists, or even other dictionaries!"
   ]
  },
  {
   "cell_type": "code",
   "execution_count": null,
   "metadata": {},
   "outputs": [],
   "source": [
    "student_data = {\n",
    "    \"name\": \"John\",\n",
    "    \"age\": 20,\n",
    "    \"grades\": [85, 90, 92],  \n",
    "    \"is_graduating\": False  \n",
    "}\n",
    "\n",
    "print(student_data)"
   ]
  },
  {
   "cell_type": "markdown",
   "metadata": {},
   "source": [
    "In this example:\n",
    "\n",
    "- `\"name\"` is a **string**.\n",
    "- `\"age\"` is an **integer**.\n",
    "- `\"grades\"` is a **list** of numbers.\n",
    "- `\"is_graduating\"` is a **boolean**."
   ]
  },
  {
   "cell_type": "markdown",
   "metadata": {},
   "source": [
    "<div style=\"border: 2px solid #84bd7b; padding: 10px; background-color: #d8f5d3; border-radius: 5px;\">\n",
    "\n",
    "### Infobox ℹ️\n",
    "\n",
    "**Looking for keys in a dictionary**:\n",
    "\n",
    "- Just like with lists and strings, you can use the **`in` operator** to check if a particular **key** exists in a dictionary. However, keep in mind that `in` checks for the **existence of keys** only, not values.\n",
    "\n",
    "#### Example:\n",
    "\n",
    "```python\n",
    "student_grades = {\"John\": 85, \"Emma\": 92, \"Liam\": 78}\n",
    "\n",
    "# Check if \"Emma\" is in the dictionary\n",
    "is_emma_in_dict = \"Emma\" in student_grades\n",
    "print(is_emma_in_dict)  # Output: True \n",
    "\n",
    "# Check if \"Sophia\" is in the dictionary\n",
    "is_sophia_in_dict = \"Sophia\" in student_grades\n",
    "print(is_sophia_in_dict)  # Output: False \n",
    "```\n",
    "\n",
    "In this example, the `in` operator checks if the **key** exists in the dictionary. This is especially helpful when you need to verify whether you have data for a specific key.\n",
    "    \n",
    "</div>"
   ]
  },
  {
   "cell_type": "markdown",
   "metadata": {},
   "source": [
    "### Nested Dictionaries 📚🔗\n",
    "\n",
    "It is common practice to use **dictionaries inside dictionaries** to represent more complex, structured data. A **nested dictionary** is a dictionary where some of the values are themselves dictionaries. This allows you to model hierarchies or represent data that naturally has multiple layers."
   ]
  },
  {
   "cell_type": "code",
   "execution_count": null,
   "metadata": {},
   "outputs": [],
   "source": [
    "students = {\n",
    "    \"John\": {\n",
    "        \"age\": 20,\n",
    "        \"major\": \"Computer Science\",\n",
    "        \"grades\": [85, 90, 88]\n",
    "    },\n",
    "    \"Emma\": {\n",
    "        \"age\": 22,\n",
    "        \"major\": \"Biology\",\n",
    "        \"grades\": [91, 94, 89]\n",
    "    },\n",
    "    \"Liam\": {\n",
    "        \"age\": 21,\n",
    "        \"major\": \"Mathematics\",\n",
    "        \"grades\": [78, 85, 80]\n",
    "    }\n",
    "}\n",
    "\n",
    "print(students)"
   ]
  },
  {
   "cell_type": "markdown",
   "metadata": {},
   "source": [
    "In this example, we have a dictionary `students` where each **key** (student name) points to another **dictionary** containing information about that student.\n",
    "\n",
    "- **John's data**: `\"age\"`, `\"major\"`, and a list of `\"grades\"`.\n",
    "\n",
    "\n",
    "- **Emma's data**: The same structure, with her own values.\n",
    "\n",
    "\n",
    "- **Liam's data**: Again, the same structure with different values."
   ]
  },
  {
   "cell_type": "markdown",
   "metadata": {},
   "source": [
    "To access values in a **nested dictionary**, you need to reference both the outer and inner dictionary keys."
   ]
  },
  {
   "cell_type": "code",
   "execution_count": null,
   "metadata": {},
   "outputs": [],
   "source": [
    "# Accessing Emma's major\n",
    "emma_major = students[\"Emma\"][\"major\"]\n",
    "print(emma_major)"
   ]
  },
  {
   "cell_type": "markdown",
   "metadata": {},
   "source": [
    "- To get **Emma's major**, you first access the `\"Emma\"` key, and then the `\"major\"` key within Emma's dictionary."
   ]
  },
  {
   "cell_type": "code",
   "execution_count": null,
   "metadata": {},
   "outputs": [],
   "source": [
    "# Accessing John's second grade\n",
    "john_second_grade = students[\"John\"][\"grades\"][1]\n",
    "print(john_second_grade)"
   ]
  },
  {
   "cell_type": "markdown",
   "metadata": {},
   "source": [
    "- To get **John's second grade**, you access the `\"John\"` key, followed by `\"grades\"`, and then index `[1]` to get the second grade in the list."
   ]
  },
  {
   "cell_type": "markdown",
   "metadata": {},
   "source": [
    "### Modifying Dictionaries 🔄\n",
    "\n",
    "Dictionaries are mutable, meaning you can modify them after creation:\n",
    "\n",
    "- **Adding new key-value pairs**:"
   ]
  },
  {
   "cell_type": "code",
   "execution_count": null,
   "metadata": {},
   "outputs": [],
   "source": [
    "student_grades[\"Maria\"] = 98\n",
    "print(student_grades)"
   ]
  },
  {
   "cell_type": "markdown",
   "metadata": {},
   "source": [
    "- **Updating an existing key’s value**:"
   ]
  },
  {
   "cell_type": "code",
   "execution_count": null,
   "metadata": {
    "scrolled": true
   },
   "outputs": [],
   "source": [
    "student_grades[\"Liam\"] = 80\n",
    "print(student_grades)"
   ]
  },
  {
   "cell_type": "markdown",
   "metadata": {},
   "source": [
    "- **Removing a key-value pair**:\n",
    "(You can remove a key-value pair using the `del` statement)"
   ]
  },
  {
   "cell_type": "code",
   "execution_count": null,
   "metadata": {},
   "outputs": [],
   "source": [
    "del student_grades[\"John\"]\n",
    "print(student_grades)"
   ]
  },
  {
   "cell_type": "markdown",
   "metadata": {},
   "source": [
    "You can modify the values inside a **nested dictionary** just like with any other dictionary. You just need to reference the correct nested key."
   ]
  },
  {
   "cell_type": "code",
   "execution_count": null,
   "metadata": {},
   "outputs": [],
   "source": [
    "students = {\n",
    "    \"John\": {\n",
    "        \"age\": 20,\n",
    "        \"major\": \"Computer Science\",\n",
    "        \"grades\": [85, 90, 88]\n",
    "    },\n",
    "    \"Emma\": {\n",
    "        \"age\": 22,\n",
    "        \"major\": \"Biology\",\n",
    "        \"grades\": [91, 94, 89]\n",
    "    },\n",
    "    \"Liam\": {\n",
    "        \"age\": 21,\n",
    "        \"major\": \"Mathematics\",\n",
    "        \"grades\": [78, 85, 80]\n",
    "    }\n",
    "}\n",
    "\n",
    "print(students)"
   ]
  },
  {
   "cell_type": "code",
   "execution_count": null,
   "metadata": {},
   "outputs": [],
   "source": [
    "students[\"Liam\"][\"major\"] = \"Physics\" # update Liam's major\n",
    "\n",
    "print(students[\"Liam\"][\"major\"])"
   ]
  },
  {
   "cell_type": "markdown",
   "metadata": {},
   "source": [
    "### Dictionary Methods 🛠️\n",
    "\n",
    "Similar to **lists**, dictionaries also offer a variety of methods to work with their data efficiently. Let’s dive into some of the most useful ones:\n",
    "\n",
    "- **`.keys()`**: Returns a list-like object of all the keys in the dictionary."
   ]
  },
  {
   "cell_type": "code",
   "execution_count": null,
   "metadata": {},
   "outputs": [],
   "source": [
    "keys = student_grades.keys()\n",
    "print(keys)  "
   ]
  },
  {
   "cell_type": "markdown",
   "metadata": {},
   "source": [
    "- **`.values()`**: Returns a list-like object of all the values in the dictionary."
   ]
  },
  {
   "cell_type": "code",
   "execution_count": null,
   "metadata": {},
   "outputs": [],
   "source": [
    "values = student_grades.values()\n",
    "print(values)"
   ]
  },
  {
   "cell_type": "markdown",
   "metadata": {},
   "source": [
    "- **`.items()`**: Returns a list-like object containing tuples of each key-value pair."
   ]
  },
  {
   "cell_type": "code",
   "execution_count": null,
   "metadata": {},
   "outputs": [],
   "source": [
    "items = student_grades.items()\n",
    "print(items)"
   ]
  },
  {
   "cell_type": "markdown",
   "metadata": {},
   "source": [
    "- **`.get(key, default_value)`**: Returns the value for the specified key. If the key does not exist, it returns `None` or an optional **default value** you can specify. This is a safe way to access values without causing a `KeyError`."
   ]
  },
  {
   "cell_type": "markdown",
   "metadata": {},
   "source": [
    "<div style=\"border: 2px solid #84bd7b; padding: 10px; background-color: #d8f5d3; border-radius: 5px;\">\n",
    "    \n",
    "The `.get()` method is particularly useful when you’re unsure if a key exists in the dictionary. It avoids raising an error and allows you to provide a **default value**, which makes your code more robust and readable.\n",
    "    \n",
    "</div>"
   ]
  },
  {
   "cell_type": "markdown",
   "metadata": {},
   "source": [
    "<div style=\"border: 2px solid #ababab; padding: 10px; background-color: #ebedeb; border-radius: 5px;\">\n",
    "\n",
    "# Exercises 🏃\n",
    "\n",
    "</div>"
   ]
  },
  {
   "cell_type": "markdown",
   "metadata": {},
   "source": [
    "### Exercise: 📚 Bookstore Inventory Management\n",
    "\n",
    "You are managing a bookstore's inventory using Python dictionaries. Your task is to perform various operations to keep the inventory accurate and up-to-date. Follow the steps below carefully and use only the allowed methods and operations.\n",
    "\n",
    "#### Initial Setup:\n",
    "You have a dictionary called `bookstore_inventory` representing books as keys and their prices as values. Additionally, you have another dictionary called `additional_info` that provides more details about some books."
   ]
  },
  {
   "cell_type": "code",
   "execution_count": 19,
   "metadata": {},
   "outputs": [],
   "source": [
    "import exercises\n",
    "\n",
    "# Initial dictionaries (New books)\n",
    "bookstore_inventory = {\n",
    "    \"The Great Gatsby\": 10.99,\n",
    "    \"1984\": 6.99,\n",
    "    \"To Kill a Mockingbird\": 8.99,\n",
    "    \"Pride and Prejudice\": 5.99\n",
    "}\n",
    "\n",
    "additional_info = {\n",
    "    \"The Great Gatsby\": {\"author\": \"F. Scott Fitzgerald\", \"publisher\": \"Scribner\"},\n",
    "    \"1984\": {\"author\": \"George Orwell\", \"publisher\": \"Secker & Warburg\"},\n",
    "    \"To Kill a Mockingbird\": {\"author\": \"Harper Lee\", \"publisher\": \"J.B. Lippincott & Co.\"},\n",
    "    \"Pride and Prejudice\": {\"author\": \"Jane Austen\", \"publisher\": \"T. Egerton, Whitehall\"}\n",
    "}"
   ]
  },
  {
   "cell_type": "markdown",
   "metadata": {},
   "source": [
    "### Subtasks: \n",
    "\n",
    "#### 1. **Apply a 25% Discount to All Books**\n",
    "\n",
    "We are doing a 25% descount in 4 books in our inventory.\n",
    "\n",
    "Calculate the new discounted prices for each book and update the `bookstore_inventory` accordinglyz.\n",
    "\n",
    "**Tip**:Use the `round()` function to round the prices to two decimal places for clarity and consistency. For example: `round(price, 2)`."
   ]
  },
  {
   "cell_type": "code",
   "execution_count": 20,
   "metadata": {},
   "outputs": [
    {
     "name": "stdout",
     "output_type": "stream",
     "text": [
      "{'The Great Gatsby': 8.24, '1984': 5.24, 'To Kill a Mockingbird': 6.74, 'Pride and Prejudice': 4.49}\n"
     ]
    }
   ],
   "source": [
    "# Calculate the discounted prices\n",
    "new_price_the_great_gatsby = round(bookstore_inventory[\"The Great Gatsby\"] * 0.75, 2)\n",
    "new_price_1984 = round(bookstore_inventory[\"1984\"] * 0.75, 2)\n",
    "new_price_to_kill_a_mockingbird = round(bookstore_inventory[\"To Kill a Mockingbird\"] * 0.75, 2)\n",
    "new_price_pride_and_prejudice = round(bookstore_inventory[\"Pride and Prejudice\"] * 0.75, 2)\n",
    "\n",
    "# Update the prices\n",
    "bookstore_inventory[\"The Great Gatsby\"] = new_price_the_great_gatsby\n",
    "bookstore_inventory[\"1984\"] = new_price_1984\n",
    "bookstore_inventory[\"To Kill a Mockingbird\"] = new_price_to_kill_a_mockingbird\n",
    "bookstore_inventory[\"Pride and Prejudice\"] = new_price_pride_and_prejudice\n",
    "\n",
    "print(bookstore_inventory)"
   ]
  },
  {
   "cell_type": "markdown",
   "metadata": {},
   "source": [
    "#### 2. **Add a New Book**\n",
    "- Add a new book `\"Moby Dick\"` with a price of `12.99` to `bookstore_inventory`.\n",
    "- Print the updated dictionary."
   ]
  },
  {
   "cell_type": "code",
   "execution_count": 21,
   "metadata": {},
   "outputs": [
    {
     "name": "stdout",
     "output_type": "stream",
     "text": [
      "{'The Great Gatsby': 8.24, '1984': 5.24, 'To Kill a Mockingbird': 6.74, 'Pride and Prejudice': 4.49, 'Moby Dick': 12.99}\n"
     ]
    }
   ],
   "source": [
    "# Add a new book to the inventory\n",
    "bookstore_inventory[\"Moby Dick\"] = 12.99\n",
    "\n",
    "# Print the updated dictionary\n",
    "print(bookstore_inventory)"
   ]
  },
  {
   "cell_type": "markdown",
   "metadata": {},
   "source": [
    "#### 3. **Merge Additional Information**\n",
    "- Merge `additional_info` details into a new dictionary called `detailed_inventory` where each book key contains nested information including its price.\n",
    "- Print `detailed_inventory` to verify the merge.\n",
    "\n",
    "**Tip**: Use manual assignment to include prices from `bookstore_inventory`."
   ]
  },
  {
   "cell_type": "code",
   "execution_count": 22,
   "metadata": {},
   "outputs": [
    {
     "name": "stdout",
     "output_type": "stream",
     "text": [
      "{'The Great Gatsby': {'author': 'F. Scott Fitzgerald', 'publisher': 'Scribner', 'price': 8.24}, '1984': {'author': 'George Orwell', 'publisher': 'Secker & Warburg', 'price': 5.24}, 'To Kill a Mockingbird': {'author': 'Harper Lee', 'publisher': 'J.B. Lippincott & Co.', 'price': 6.74}, 'Pride and Prejudice': {'author': 'Jane Austen', 'publisher': 'T. Egerton, Whitehall', 'price': 4.49}, 'Moby Dick': {'author': 'Herman Melville', 'publisher': 'Harper & Brothers', 'price': 12.99}}\n"
     ]
    }
   ],
   "source": [
    "# Create the detailed inventory dictionary by merging information\n",
    "detailed_inventory = additional_info.copy()\n",
    "\n",
    "# Manually add the price information for each book in the detailed_inventory\n",
    "detailed_inventory[\"The Great Gatsby\"][\"price\"] = bookstore_inventory[\"The Great Gatsby\"]\n",
    "detailed_inventory[\"1984\"][\"price\"] = bookstore_inventory[\"1984\"]\n",
    "detailed_inventory[\"To Kill a Mockingbird\"][\"price\"] = bookstore_inventory[\"To Kill a Mockingbird\"]\n",
    "detailed_inventory[\"Pride and Prejudice\"][\"price\"] = bookstore_inventory[\"Pride and Prejudice\"]\n",
    "\n",
    "# Add the book \"Moby Dick\" to detailed_inventory with its details\n",
    "# Complete the author and publisher details\n",
    "detailed_inventory[\"Moby Dick\"] = {\n",
    "    \"author\": \"Herman Melville\",\n",
    "    \"publisher\": \"Harper & Brothers\",\n",
    "    \"price\": bookstore_inventory[\"Moby Dick\"]\n",
    "}\n",
    "\n",
    "# Print the detailed inventory\n",
    "print(detailed_inventory)"
   ]
  },
  {
   "cell_type": "markdown",
   "metadata": {},
   "source": [
    "#### 4. **Update Your Store Inventory**\n",
    "\n",
    "- Use the `.update()` method to merge the new inventory with your existing store inventory."
   ]
  },
  {
   "cell_type": "code",
   "execution_count": 23,
   "metadata": {},
   "outputs": [
    {
     "name": "stdout",
     "output_type": "stream",
     "text": [
      "{'Brave New World': {'author': 'Aldous Huxley', 'publisher': 'Chatto & Windus', 'price': 9.49}, 'War and Peace': {'author': 'Leo Tolstoy', 'publisher': 'The Russian Messenger', 'price': 14.99}, 'Ulysses': {'author': 'James Joyce', 'publisher': 'Sylvia Beach', 'price': 13.49}, 'The Odyssey': {'author': 'Homer', 'publisher': 'Ancient Greek Publication', 'price': 11.99}, 'Crime and Punishment': {'author': 'Fyodor Dostoevsky', 'publisher': 'The Russian Messenger', 'price': 10.49}, 'The Catcher in the Rye': {'author': 'J.D. Salinger', 'publisher': 'Little, Brown and Company', 'price': 8.79}, 'The Lord of the Rings': {'author': 'J.R.R. Tolkien', 'publisher': 'Allen & Unwin', 'price': 20.99}, 'The Hobbit': {'author': 'J.R.R. Tolkien', 'publisher': 'Allen & Unwin', 'price': 7.49}, \"Harry Potter and the Philosopher's Stone\": {'author': 'J.K. Rowling', 'publisher': 'Bloomsbury', 'price': 6.99}, 'Harry Potter and the Chamber of Secrets': {'author': 'J.K. Rowling', 'publisher': 'Bloomsbury', 'price': 7.99}, 'Frankenstein': {'author': 'Mary Shelley', 'publisher': 'Lackington, Hughes, Harding, Mavor & Jones', 'price': 8.29}, 'Dracula': {'author': 'Bram Stoker', 'publisher': 'Archibald Constable and Company', 'price': 9.79}, 'The Brothers Karamazov': {'author': 'Fyodor Dostoevsky', 'publisher': 'The Russian Messenger', 'price': 15.49}, 'Anna Karenina': {'author': 'Leo Tolstoy', 'publisher': 'The Russian Messenger', 'price': 12.49}, 'The Picture of Dorian Gray': {'author': 'Oscar Wilde', 'publisher': 'Ward, Lock & Co.', 'price': 8.59}, 'Les Misérables': {'author': 'Victor Hugo', 'publisher': 'A. Lacroix, Verboeckhoven & Cie', 'price': 18.99}, 'Don Quixote': {'author': 'Miguel de Cervantes', 'publisher': 'Francisco de Robles', 'price': 11.49}, 'Jane Eyre': {'author': 'Charlotte Brontë', 'publisher': 'Smith, Elder & Co.', 'price': 7.89}, 'Wuthering Heights': {'author': 'Emily Brontë', 'publisher': 'Thomas Cautley Newby', 'price': 9.19}, 'Fahrenheit 451': {'author': 'Ray Bradbury', 'publisher': 'Ballantine Books', 'price': 10.29}, 'The Great Gatsby': {'author': 'F. Scott Fitzgerald', 'publisher': 'Scribner', 'price': 8.24}, '1984': {'author': 'George Orwell', 'publisher': 'Secker & Warburg', 'price': 5.24}, 'To Kill a Mockingbird': {'author': 'Harper Lee', 'publisher': 'J.B. Lippincott & Co.', 'price': 6.74}, 'Pride and Prejudice': {'author': 'Jane Austen', 'publisher': 'T. Egerton, Whitehall', 'price': 4.49}, 'Moby Dick': {'author': 'Herman Melville', 'publisher': 'Harper & Brothers', 'price': 12.99}}\n"
     ]
    }
   ],
   "source": [
    "# Load the current store inventory\n",
    "full_inventory = exercises.get_bookstore_inventory()\n",
    "\n",
    "# Merge the 20-book inventory with the initial detailed inventory\n",
    "full_inventory.update(detailed_inventory)\n",
    "\n",
    "# Print the updated full inventory\n",
    "print(full_inventory)"
   ]
  },
  {
   "cell_type": "markdown",
   "metadata": {},
   "source": [
    "#### 5. **Access a Nested Value**\n",
    "- Print the publisher of `\"The Great Gatsby\"` from `full_inventory`."
   ]
  },
  {
   "cell_type": "code",
   "execution_count": 24,
   "metadata": {},
   "outputs": [
    {
     "name": "stdout",
     "output_type": "stream",
     "text": [
      "Scribner\n"
     ]
    }
   ],
   "source": [
    "# Access and print the publisher of \"The Great Gatsby\"\n",
    "author_the_great_gatsby = full_inventory[\"The Great Gatsby\"][\"publisher\"]\n",
    "print(author_the_great_gatsby)"
   ]
  },
  {
   "cell_type": "markdown",
   "metadata": {},
   "source": [
    "#### 5. **Check for a Book’s Existence**\n",
    "- Use the `.get()` method to check if `\"Moby Dick\"` is present in `full_inventory` and print the appropriate result.\n",
    "- Do the same for `\"Brave New World\"`, `\"The Metamorphosis\"` and `\"The Lusiads\"`, and print the result if it doesn't exist.\n",
    "\n",
    "**If any of the books doesn’t exist, return the custom error message: `\"[Bookname] is not available in the inventory.\"`**"
   ]
  },
  {
   "cell_type": "code",
   "execution_count": 25,
   "metadata": {},
   "outputs": [
    {
     "name": "stdout",
     "output_type": "stream",
     "text": [
      "{'author': 'Herman Melville', 'publisher': 'Harper & Brothers', 'price': 12.99}\n",
      "{'author': 'Aldous Huxley', 'publisher': 'Chatto & Windus', 'price': 9.49}\n",
      "The Metamorphosis is not available in the inventory.\n",
      "The Lusiads is not available in the inventory.\n"
     ]
    }
   ],
   "source": [
    "# Use .get() to check if \"Moby Dick\" is in the inventory\n",
    "moby_dick_info = full_inventory.get(\"Moby Dick\", \"Moby Dick is not available in the inventory.\")\n",
    "\n",
    "# Use .get() to check if \"Brave New World\" is in the inventory\n",
    "brave_new_world_info = full_inventory.get(\"Brave New World\", \"Brave New World is not available in the inventory.\")\n",
    "\n",
    "# Use .get() to check if \"The Metamorphosis\" is in the inventory\n",
    "the_metamorphosis_info = full_inventory.get(\"The Metamorphosis\", \"The Metamorphosis is not available in the inventory.\")\n",
    "\n",
    "# Use .get() to check if \"The Metamorphosis\" is in the inventory\n",
    "the_lusiads_info = full_inventory.get(\"The Lusiads\", \"The Lusiads is not available in the inventory.\")\n",
    "\n",
    "# Print the results\n",
    "print(moby_dick_info)\n",
    "print(brave_new_world_info)\n",
    "print(the_metamorphosis_info)\n",
    "print(the_lusiads_info)"
   ]
  },
  {
   "cell_type": "markdown",
   "metadata": {},
   "source": [
    "#### 6. **Process Orders**\n",
    "\n",
    "You received two orders at your bookstore. Create a new dictionary for each customer (`book_order_mary_jane` and `book_order_peter_parker`) containing the following details:\n",
    "\n",
    "- A list of book titles they ordered.\n",
    "- The total price of the order.\n",
    "\n",
    "**Instructions:**\n",
    "\n",
    "1. **Order Details**:\n",
    "   - `book_order_mary_jane` has ordered the following books:\n",
    "     - `\"The Great Gatsby\"`\n",
    "     - `\"Pride and Prejudice\"`\n",
    "   - `book_order_peter_parker` has ordered the following books:\n",
    "     - `\"Harry Potter and the Philosopher's Stone\"`\n",
    "     - `\"1984\"`\n",
    "     - `\"The Hobbit\"`\n",
    "\n",
    "2. **Create a dictionary for each order**:\n",
    "   - Each dictionary should have:\n",
    "     - A key `\"titles\"` with a list of the ordered book titles.\n",
    "     - A key `\"total_price\"` with the calculated total price for the books."
   ]
  },
  {
   "cell_type": "code",
   "execution_count": 26,
   "metadata": {},
   "outputs": [
    {
     "name": "stdout",
     "output_type": "stream",
     "text": [
      "Mary Jane's Order: {'titles': ['The Great Gatsby', 'Pride and Prejudice'], 'total_price': 12.73}\n",
      "Peter Parker's Order: {'titles': [\"Harry Potter and the Philosopher's Stone\", '1984', 'The Hobbit'], 'total_price': 19.72}\n"
     ]
    }
   ],
   "source": [
    "# Step 1: Create book_order_mary_jane with book titles and total price\n",
    "book_order_mary_jane = {\n",
    "    \"titles\": [\"The Great Gatsby\", \"Pride and Prejudice\"],\n",
    "    \"total_price\": full_inventory[\"The Great Gatsby\"][\"price\"] + full_inventory[\"Pride and Prejudice\"][\"price\"]\n",
    "}\n",
    "\n",
    "# Step 2: Create book_order_Peter_parker with book titles and total price\n",
    "book_order_peter_parker = {\n",
    "    \"titles\": [\"Harry Potter and the Philosopher's Stone\", \"1984\", \"The Hobbit\"],\n",
    "    \"total_price\": (full_inventory[\"Harry Potter and the Philosopher's Stone\"][\"price\"] +\n",
    "                    full_inventory[\"1984\"][\"price\"] +\n",
    "                    full_inventory[\"The Hobbit\"][\"price\"])\n",
    "}\n",
    "\n",
    "# Print the dictionaries to verify the orders\n",
    "print(\"Mary Jane's Order:\", book_order_mary_jane)\n",
    "print(\"Peter Parker's Order:\", book_order_peter_parker)"
   ]
  },
  {
   "cell_type": "markdown",
   "metadata": {},
   "source": [
    "#### 7. **Process Orders 2**\n",
    "\n",
    "It seems that Peter Parker changed his mind and only wants to buy `\"1984\"` and `\"The Hobbit\"`. Update his order to reflect this change.\n",
    "\n",
    "**Instructions:**\n",
    "\n",
    "1. Update the `\"titles\"` list in `book_order_Peter_parker` to only include `\"1984\"` and `\"The Hobbit\"`.\n",
    "2. Recalculate the `\"total_price\"` based on the updated list of books."
   ]
  },
  {
   "cell_type": "code",
   "execution_count": 28,
   "metadata": {},
   "outputs": [
    {
     "name": "stdout",
     "output_type": "stream",
     "text": [
      "Updated Peter Parker's Order: {'titles': ['1984', 'The Hobbit'], 'total_price': 12.73}\n"
     ]
    }
   ],
   "source": [
    "# Step 1: Update the titles in book_order_Peter_parker\n",
    "book_order_peter_parker[\"titles\"] = [\"1984\", \"The Hobbit\"]\n",
    "\n",
    "# Step 2: Update the total_price based on the new titles\n",
    "book_order_peter_parker[\"total_price\"] = (full_inventory[\"1984\"][\"price\"] +\n",
    "                                          full_inventory[\"The Hobbit\"][\"price\"])\n",
    "\n",
    "# Print the updated order to verify the changes\n",
    "print(\"Updated Peter Parker's Order:\", book_order_peter_parker)"
   ]
  },
  {
   "cell_type": "markdown",
   "metadata": {},
   "source": [
    "#### 8. **List All Books and Prices** (Extra)\n",
    "\n",
    "Find the most expensive book in the `full_inventory` dictionary and print both its title and price. **Remember**: Do not use any `if` statements or loops."
   ]
  },
  {
   "cell_type": "code",
   "execution_count": 46,
   "metadata": {},
   "outputs": [
    {
     "name": "stdout",
     "output_type": "stream",
     "text": [
      "{'author': 'J.R.R. Tolkien', 'publisher': 'Allen & Unwin', 'price': 20.99}\n"
     ]
    }
   ],
   "source": [
    "values_book = list(full_inventory.values())\n",
    "values_book.sort(reverse = True, key=lambda x: x['price'])\n",
    "\n",
    "print(values_book[0])"
   ]
  },
  {
   "cell_type": "markdown",
   "metadata": {},
   "source": [
    "<br>\n",
    "\n",
    "<div style=\"border: 2px solid #025170; padding: 10px; background-color: #c2eeff; border-radius: 5px;\">\n",
    "    \n",
    "## Extra: Tuples and Sets \n",
    "  \n",
    "<br>\n",
    "</div>\n",
    "\n",
    "\n",
    "\n",
    "\n",
    "### Tuples 📦\n"
   ]
  },
  {
   "cell_type": "markdown",
   "metadata": {},
   "source": [
    "**Tuples** are another built-in data structure in Python, similar to lists, but with a few key differences:\n",
    "\n",
    "#### Major Characteristics:\n",
    "\n",
    "- **Immutable**: Once created, the values in a tuple **cannot be changed**. This makes tuples useful for storing data that should not be modified.\n",
    "\n",
    "\n",
    "- **Ordered**: Tuples maintain the order of their elements, just like lists, so you can access elements using an **index**.\n",
    "\n",
    "\n",
    "- **Allow Duplicates**: Tuples can contain duplicate values, meaning the same item can appear more than once.\n",
    "\n",
    "#### Example:\n"
   ]
  },
  {
   "cell_type": "code",
   "execution_count": null,
   "metadata": {},
   "outputs": [],
   "source": [
    "# Creating a tuple\n",
    "fruit_tuple = (\"apple\", \"banana\", \"cherry\")\n",
    "print(fruit_tuple)  \n",
    "\n",
    "# Accessing elements\n",
    "print(fruit_tuple[1])  \n",
    "\n",
    "# Checking length\n",
    "print(len(fruit_tuple))  \n",
    "\n",
    "# Tuples with mixed data types\n",
    "mixed_tuple = (1, \"apple\", 3.14)\n",
    "print(mixed_tuple)"
   ]
  },
  {
   "cell_type": "markdown",
   "metadata": {},
   "source": [
    "**Use Case**: Tuples are often used when you have a **fixed collection of items** that should not be changed, like coordinates `(x, y)` or RGB color values `(R, G, B)`."
   ]
  },
  {
   "cell_type": "markdown",
   "metadata": {},
   "source": [
    "### Sets 🌐\n",
    "\n",
    "**Sets** are another type of collection in Python, but they are quite different from lists and tuples:\n",
    "\n",
    "\n",
    "### Major Characteristics:\n",
    "\n",
    "- **Unordered**: Sets do not maintain the order of elements. When you print a set, the items may appear in a different order than you inserted them.\n",
    "\n",
    "\n",
    "- **Unindexed**: Unlike lists and tuples, you cannot access items in a set using an index.\n",
    "\n",
    "\n",
    "- **No Duplicates**: Sets automatically **remove duplicate values**, making them useful for storing unique items.\n",
    "\n",
    "\n",
    "- **Mutable**: You can add or remove elements from a set after it is created.\n",
    "\n",
    "### Example:"
   ]
  },
  {
   "cell_type": "code",
   "execution_count": null,
   "metadata": {},
   "outputs": [],
   "source": [
    "# Creating a set\n",
    "unique_fruits = {\"apple\", \"banana\", \"cherry\", \"apple\"}\n",
    "print(unique_fruits)  \n",
    "\n",
    "# Adding an item\n",
    "unique_fruits.add(\"orange\")\n",
    "print(unique_fruits) \n",
    "\n",
    "# Removing an item\n",
    "unique_fruits.remove(\"banana\")\n",
    "print(unique_fruits)\n",
    "\n",
    "# Checking membership\n",
    "print(\"apple\" in unique_fruits)"
   ]
  },
  {
   "cell_type": "markdown",
   "metadata": {},
   "source": [
    "**Use Case**: Sets are ideal when you need to store **unique elements** and perform operations like **union**, **intersection**, or **difference** between collections."
   ]
  },
  {
   "cell_type": "markdown",
   "metadata": {},
   "source": [
    "## Quick Comparison 📋:\n",
    "\n",
    "| Feature      | List               | Tuple              | Set                  |\n",
    "|--------------|--------------------|--------------------|----------------------|\n",
    "| Ordered      | ✅ Yes             | ✅ Yes             | ❌ No                |\n",
    "| Indexed      | ✅ Yes             | ✅ Yes             | ❌ No                |\n",
    "| Mutable      | ✅ Yes             | ❌ No              | ✅ Yes               |\n",
    "| Duplicates   | ✅ Allowed         | ✅ Allowed         | ❌ Not Allowed       |\n"
   ]
  }
 ],
 "metadata": {
  "kernelspec": {
   "display_name": "python_workshop",
   "language": "python",
   "name": "python_workshop"
  },
  "language_info": {
   "codemirror_mode": {
    "name": "ipython",
    "version": 3
   },
   "file_extension": ".py",
   "mimetype": "text/x-python",
   "name": "python",
   "nbconvert_exporter": "python",
   "pygments_lexer": "ipython3",
   "version": "3.13.0"
  }
 },
 "nbformat": 4,
 "nbformat_minor": 2
}
