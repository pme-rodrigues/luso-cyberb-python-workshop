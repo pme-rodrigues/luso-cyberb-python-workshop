{
 "cells": [
  {
   "cell_type": "markdown",
   "id": "7473a162",
   "metadata": {},
   "source": [
    "# Introduction to Python 🐍💻\n",
    "<br>\n",
    "\n",
    "![Python Image](https://logodownload.org/wp-content/uploads/2019/10/python-logo-1.png)"
   ]
  },
  {
   "cell_type": "markdown",
   "id": "397aac7a",
   "metadata": {},
   "source": [
    "## What is Python? 👩‍💻\n",
    "\n",
    "**Python** is a powerful yet easy-to-learn programming language that has become one of the most popular tools in fields like data analysis, artificial intelligence, and web development. But don’t worry—you don’t need to be a tech expert to start using Python!\n",
    "\n",
    "### Why Python ❔\n",
    "\n",
    "Python is often the first choice for beginners because:\n",
    "\n",
    "- **It's simple**: Python’s syntax (the rules for writing code) is designed to be clear and readable, almost like writing in plain English.\n",
    "  \n",
    "- **It’s versatile**: You can use Python for many tasks, from automating repetitive work to analyzing large amounts of data.\n",
    "\n",
    "- **It’s widely used in science**: Python is a favorite among researchers because it has libraries (pre-built tools) for statistics, data visualization, and machine learning. You can easily integrate Python with your existing data analysis skills!\n",
    "\n",
    "### Why Should (YOU) Learn Python? 🫵\n",
    "\n",
    "Python is an incredibly versatile tool that can assist you at every stage of the research process, making your work more **efficient**, **organized**, and **independent**.\n",
    "\n",
    "With Python, you can:\n",
    "\n",
    "- **Collect and manage data** 📝: Build custom applications for experiments or surveys, automating data collection through online forms, reaction-time tests, and interactive experiments.\n",
    "<br>\n",
    "\n",
    "\n",
    "- **Automate data processing** ⚙️: Streamline tasks like cleaning, organizing, and extracting data, giving you more time for analysis.\n",
    "<br>\n",
    "\n",
    "\n",
    "- **Analyze data** 📊: Use Python’s powerful libraries for statistical analysis, customizing tests and calculations without needing specialized software.\n",
    "<br>\n",
    "\n",
    "\n",
    "- **Visualize results** 📈: Create clear, informative graphs and charts with tools like `matplotlib` and `seaborn`, making it easier to interpret and share your findings.\n",
    "<br>\n",
    "\n",
    "\n",
    "- **Build and test models** 🧠: Simulate behavior or cognition models, allowing you to explore hypotheses and test variables in controlled environments.\n",
    "<br>\n",
    "\n",
    "\n",
    "- **Create research tools** 🛠️: Develop applications for managing participants, experiments, and data, simplifying the entire research process.\n",
    "\n",
    "In other words, if you master Python, there's a very low probability that you'll need to rely on extra tools to streamline your workflow. Python can handle everything from data collection and analysis to visualization and automation—all in one place! 💻📊\n",
    "<br>\n",
    "<br>\n",
    "<br>\n"
   ]
  },
  {
   "cell_type": "markdown",
   "id": "0e8575eb",
   "metadata": {},
   "source": [
    "----\n",
    "## Python Data Types 💻"
   ]
  },
  {
   "cell_type": "markdown",
   "id": "7d9fa4a5",
   "metadata": {},
   "source": [
    "In Python, everything is considered an **object**, and each object has a specific **type**. Understanding these types is important because they determine what operations you can perform on the data. Let’s explore some of the most common types in Python:"
   ]
  },
  {
   "cell_type": "markdown",
   "id": "d0988a99",
   "metadata": {},
   "source": [
    "<div style=\"border: 2px solid red; padding: 10px; background-color: #f5d3d7; border-radius: 5px;\">\n",
    "\n",
    "### Disclaimer ❕\n",
    "\n",
    "**Objects vs. Variables**\n",
    "\n",
    "- Throughout the workshop, we will often refer to **objects** as **variables**. Just remember, they have the same meaning in this context! 🧠\n",
    "</div>"
   ]
  },
  {
   "cell_type": "markdown",
   "id": "dff3460a",
   "metadata": {},
   "source": [
    "\n",
    "### 1️⃣ Integers (`int`) 🔢\n",
    "- **Integers** are whole numbers, both positive and negative, without a decimal point."
   ]
  },
  {
   "cell_type": "code",
   "execution_count": null,
   "id": "f99b1be3",
   "metadata": {},
   "outputs": [],
   "source": [
    "# Example int\n",
    "age = 25\n",
    "temperature = -10"
   ]
  },
  {
   "cell_type": "markdown",
   "id": "78bcb011",
   "metadata": {},
   "source": [
    "<div style=\"border: 2px solid #84bd7b; padding: 10px; background-color: #d8f5d3; border-radius: 5px;\">\n",
    "\n",
    "### Infobox ℹ️\n",
    "\n",
    "**Assigning Values to Objects:**\n",
    "\n",
    "- In Python, we use the `=` sign to assign a value to an object (variable). For example, `age = 25` assigns the value 25 to the variable `age`.\n",
    "  \n",
    "- To visualize the value of an variable, always use the `print()` command. This will display the value stored in the variable.\n",
    "\n",
    "</div>\n",
    "\n",
    "Now, give it a try! 🎯 Try printing the value of `age` and `temperature` below:"
   ]
  },
  {
   "cell_type": "code",
   "execution_count": null,
   "id": "8f58e489",
   "metadata": {
    "scrolled": true
   },
   "outputs": [],
   "source": [
    "# Complete the code below\n",
    "\n",
    "print() # Print age\n",
    "print() # Print temperature"
   ]
  },
  {
   "cell_type": "markdown",
   "id": "435246cd",
   "metadata": {},
   "source": [
    "### 2️⃣ Floating-Point Numbers (`float`) 💧\n",
    "- **Floats** are numbers with decimals, used when more precision is required."
   ]
  },
  {
   "cell_type": "code",
   "execution_count": null,
   "id": "6de8ed77",
   "metadata": {},
   "outputs": [],
   "source": [
    "# Example float\n",
    "height = 5.9\n",
    "weight = 70.5\n",
    "\n",
    "print(height)\n",
    "print(weight)"
   ]
  },
  {
   "cell_type": "markdown",
   "id": "d63bd312",
   "metadata": {},
   "source": [
    "### 3️⃣ Strings (`str`) ✏️\n",
    "- **Strings** represent text. They are written inside single or double quotation marks."
   ]
  },
  {
   "cell_type": "code",
   "execution_count": null,
   "id": "805ba61f",
   "metadata": {},
   "outputs": [],
   "source": [
    "# Example strings\n",
    "\n",
    "name = \"Alice\"\n",
    "greeting = 'Hello, world!'\n",
    "\n",
    "print(name)\n",
    "print(greeting)"
   ]
  },
  {
   "cell_type": "markdown",
   "id": "35211882",
   "metadata": {},
   "source": [
    "### 4️⃣ Booleans (`bool`) ✅❌\n",
    "- **Booleans** represent `True` or `False` values, often used in decision-making (conditions).\n"
   ]
  },
  {
   "cell_type": "code",
   "execution_count": null,
   "id": "a36d2c28",
   "metadata": {},
   "outputs": [],
   "source": [
    "# Example bool\n",
    "\n",
    "is_student = True\n",
    "has_completed_assignment = False\n",
    "\n",
    "print(is_student)\n",
    "print(has_completed_assignment)"
   ]
  },
  {
   "cell_type": "markdown",
   "id": "e56c55b2",
   "metadata": {},
   "source": [
    "### Why Do Data Types Matter? 🤔\n",
    "Data types help Python understand how to work with the information you provide. For example, you can **add** two numbers, but trying to add a number to a string (text) will cause an error. See the following example:"
   ]
  },
  {
   "cell_type": "code",
   "execution_count": null,
   "id": "13038ad0",
   "metadata": {},
   "outputs": [],
   "source": [
    "# Example Addition\n",
    "num_int = 1\n",
    "num_float = 2.3\n",
    "text = \"Hello\"\n",
    "\n",
    "print(num_int + num_float) # print 1 + 2.3\n",
    "print(num_int + text) # print 1 + 'Hello'"
   ]
  },
  {
   "cell_type": "markdown",
   "id": "bd2fb3f9",
   "metadata": {},
   "source": [
    "Understanding types ensures your programs run smoothly and do what you intend. In Python, you can check the type of any variable using the `type()` command. This helps you verify whether your variables are integers, floats, strings, or other data types.\n",
    "\n",
    "Let’s see how it works:"
   ]
  },
  {
   "cell_type": "code",
   "execution_count": null,
   "id": "b1cf0846",
   "metadata": {},
   "outputs": [],
   "source": [
    "# Check the type of each variable\n",
    "print( type(num_int) )      \n",
    "print( type(num_float) )     \n",
    "print( type(text) )   "
   ]
  },
  {
   "cell_type": "markdown",
   "id": "fe1d63fc",
   "metadata": {},
   "source": [
    "By using the `type()` command, you can easily check what type of data is stored in your variables!"
   ]
  },
  {
   "cell_type": "markdown",
   "id": "e299c91d",
   "metadata": {},
   "source": [
    "### Variables Rules 📜\n",
    "\n",
    "Similar to other languages, when working with variables in Python, there are some important rules to follow. These include:\n",
    "\n",
    "1. **Variable names must start with a letter or an underscore (`_`)**:  \n",
    "   - Valid: `_variable`, `myVariable`\n",
    "   - Invalid: `1variable`, `#name`\n",
    "\n",
    "<br>\n",
    "\n",
    "2. **Variable names can only contain letters, numbers, and underscores**:  \n",
    "   - Valid: `name1`, `age_25`, `_data`\n",
    "   - Invalid: `name@`, `age-25`\n",
    "\n",
    "<br>\n",
    "\n",
    "3. **Variable names are case-sensitive**:  \n",
    "   - `myVariable`, `MyVariable`, and `MYVARIABLE` are considered different variables.\n",
    "\n",
    "<br>\n",
    "\n",
    "4. **Avoid using Python keywords**: These are reserved words like `class`, `if`, `else`, `for`, etc. You cannot use them as variable names.\n",
    "   - Example of invalid names: `if`, `class`, `return`\n",
    "\n",
    "<br>\n",
    "\n",
    "\n",
    "5. **Use descriptive names**: Although Python allows short names like `x` or `y`, it’s better to use meaningful names that describe the content of the variable. This makes your code easier to understand.\n",
    "   - Good practice: `age`, `height_in_cm`, `is_student`"
   ]
  },
  {
   "cell_type": "markdown",
   "id": "4c642972",
   "metadata": {},
   "source": [
    "### Naming Your Variables 📝\n",
    "\n",
    "When it comes to naming your variables, there are several common techniques:\n",
    "\n",
    "1. **Camel Case** 🐫: In this style, the first word is lowercase, and each subsequent word starts with an uppercase letter.\n",
    "   - Example: `myVariableName`, `ageOfPerson`\n",
    "   \n",
    "<br>\n",
    "\n",
    "2. **Pascal Case** 🏛️: Similar to Camel Case, but the first word also starts with an uppercase letter.\n",
    "   - Example: `MyVariableName`, `AgeOfPerson`\n",
    "\n",
    "<br>\n",
    "\n",
    "3. **Snake Case** 🐍: All words are lowercase, and they are separated by underscores (`_`).\n",
    "   - Example: `my_variable_name`, `age_of_person`\n",
    "\n",
    "In the end, it doesn’t matter which convention you choose — as long as you stay **consistent** throughout your code! Consistency makes your code more readable and easier for others (or future you!) to understand."
   ]
  },
  {
   "cell_type": "markdown",
   "id": "30e07422",
   "metadata": {},
   "source": [
    "### Output Variables 🖨️\n",
    "\n",
    "In Python, we’ve seen that to visualize the contents of a variable, we can use the `print()` function. But how does it actually work?\n",
    "\n",
    "The `print()` function can display one or more values, separated by commas. This allows us to print multiple values at once, and Python automatically adds spaces between them. Check it out:"
   ]
  },
  {
   "cell_type": "code",
   "execution_count": 15,
   "id": "fd0f2385",
   "metadata": {},
   "outputs": [
    {
     "name": "stdout",
     "output_type": "stream",
     "text": [
      "Name: Jane Age: 25\n"
     ]
    }
   ],
   "source": [
    "# print multiple variables\n",
    "name = \"Jane\"\n",
    "age = 25\n",
    "\n",
    "print(\"Name:\", name, \"Age:\", age)"
   ]
  },
  {
   "cell_type": "markdown",
   "id": "2a4d44cc",
   "metadata": {},
   "source": [
    "In the example above, `print()` displays the text along with the values of `name` and `age`, separated by commas. It automatically converts numeric values to string (text) type, so you don't need to worry about manually converting them when using commas."
   ]
  },
  {
   "cell_type": "markdown",
   "id": "b745e77f",
   "metadata": {},
   "source": [
    "#### Concatenating Strings with `+`\n",
    "Alternatively, you can use the `+` operator to **concatenate** (or join) text variables into a single phrase. Just make sure that **all the variables are of type `str`** (text), otherwise, Python will raise an error."
   ]
  },
  {
   "cell_type": "code",
   "execution_count": null,
   "id": "ee078095",
   "metadata": {},
   "outputs": [],
   "source": [
    "first_name = \"Jane\"\n",
    "last_name = \"Doe\"\n",
    "full_name = first_name + \" \" + last_name\n",
    "\n",
    "print(\"Full name: \" + full_name)\n",
    "print(\"Age: \" + str(age))"
   ]
  },
  {
   "cell_type": "markdown",
   "id": "d68586ba",
   "metadata": {},
   "source": [
    "This way, you can join all types of variables into a single string!"
   ]
  },
  {
   "cell_type": "markdown",
   "id": "074c055a",
   "metadata": {},
   "source": [
    "### Python Casting 📸\n",
    "\n",
    "There may be times when you want to explicitly specify the type of a variable. This can be done with **casting**, which means converting one data type into another. In Python, casting is done using built-in functions:\n",
    "\n",
    "- `int()`: Converts a value to an integer.\n",
    "- `float()`: Converts a value to a floating-point number.\n",
    "- `str()`: Converts a value to a string (text).\n",
    "- `bool()`: Converts a value to a boolean (`True` or `False`)."
   ]
  },
  {
   "cell_type": "code",
   "execution_count": null,
   "id": "148484d6",
   "metadata": {
    "scrolled": true
   },
   "outputs": [],
   "source": [
    "x = 10.5\n",
    "y = int(x)   # float to integer\n",
    "z = str(y)   # integer to string\n",
    "\n",
    "print(x, type(x))\n",
    "print(y, type(y))\n",
    "print(z, type(z))"
   ]
  },
  {
   "cell_type": "markdown",
   "id": "0a385a26",
   "metadata": {},
   "source": [
    "Casting is very useful, but there are some rules to keep in mind:\n",
    "\n",
    "1. **Not all values can be cast**: Some conversions may not be possible. For example, trying to convert a string that doesn’t represent a number into an integer will result in an error."
   ]
  },
  {
   "cell_type": "code",
   "execution_count": null,
   "id": "7b5d121a",
   "metadata": {},
   "outputs": [],
   "source": [
    "value = \"hello\"\n",
    "number = int(value)   # This will raise an error!"
   ]
  },
  {
   "cell_type": "markdown",
   "id": "96aeceba",
   "metadata": {},
   "source": [
    "2. **Precision may be lost**: When converting from a `float` to an `int`, the decimal part is **discarded**, not rounded. "
   ]
  },
  {
   "cell_type": "code",
   "execution_count": null,
   "id": "d71fa995",
   "metadata": {},
   "outputs": [],
   "source": [
    "pi = 3.999999999\n",
    "number = int(pi)   # This will become 3, not 4\n",
    "print(number)"
   ]
  },
  {
   "cell_type": "markdown",
   "id": "2cbb38e3",
   "metadata": {},
   "source": [
    "3. **Strings must represent valid numbers**: When converting from `str` to `int` or `float`, the string must represent a valid number."
   ]
  },
  {
   "cell_type": "code",
   "execution_count": null,
   "id": "8cc9e19d",
   "metadata": {},
   "outputs": [],
   "source": [
    "number = \"100\"\n",
    "result = int(number)   \n",
    "print(result, type(result)) # This works because \"100\" is a valid number"
   ]
  },
  {
   "cell_type": "markdown",
   "id": "fc395c38",
   "metadata": {},
   "source": [
    "<div style=\"border: 2px solid #ababab; padding: 10px; background-color: #ebedeb; border-radius: 5px;\">\n",
    "\n",
    "# Exercises 🏃\n",
    "\n",
    "</div>"
   ]
  },
  {
   "cell_type": "markdown",
   "id": "23c524af",
   "metadata": {},
   "source": [
    "### Exercise 1. You are given 3 mystery variables 🔍, randomly generated. Your task is to write the correct type of each variable."
   ]
  },
  {
   "cell_type": "code",
   "execution_count": null,
   "id": "a076d81b",
   "metadata": {},
   "outputs": [],
   "source": [
    "# DON'T CHANGE THIS CELL!\n",
    "import exercises\n",
    "\n",
    "mistery_x, mistery_y, mistery_z = exercises.mistery_box(3)"
   ]
  },
  {
   "cell_type": "code",
   "execution_count": null,
   "id": "8d39dc34",
   "metadata": {},
   "outputs": [],
   "source": [
    "# Use this cell to write your solution\n",
    "\n",
    "mistery_x_type = None # change to correct type\n",
    "\n",
    "mistery_y_type = None # change to correct type\n",
    "\n",
    "mistery_z_type = None # change to correct type\n",
    "\n",
    "exercises.check_solution_n1(mistery_x, mistery_y, mistery_z, mistery_x_type, mistery_y_type, mistery_z_type)"
   ]
  },
  {
   "cell_type": "markdown",
   "id": "a7972ec5",
   "metadata": {},
   "source": [
    "### Exercise 2. True or False? ✔️❌ In this exercise, you are tasked with responding with True or False to the following statements:"
   ]
  },
  {
   "cell_type": "code",
   "execution_count": null,
   "id": "9087ba11",
   "metadata": {},
   "outputs": [],
   "source": [
    "# A variable name in Python can start with a number.\n",
    "question_1 = None \n",
    "\n",
    "# In Python, int and float are different numeric data types.\n",
    "question_2 = None \n",
    "\n",
    "# Variables in Python are case-sensitive.\n",
    "question_3 = None \n",
    "\n",
    "# You can reassign a variable to a different type after it’s created.\n",
    "question_4 = None  \n",
    "\n",
    "# Underscores (_) are allowed in Python variable names.\n",
    "question_5 = None  \n",
    "\n",
    "# In Pascal Case, variable names should start with an uppercase letter and subsequent words should also be capitalized (e.g., MyVariableName).\n",
    "question_6 = None  \n",
    "\n",
    "# You can use Python keywords, such as class or if, as variable names.\n",
    "question_7 = None \n",
    "\n",
    "# Using + to concatenate an integer with a string will result in an error unless you convert the integer to a string.\n",
    "question_8 = None  \n",
    "\n",
    "# The following variable name is valid in Python: 2ndVariable.\n",
    "question_9 = None  \n",
    "\n",
    "# In Snake Case, words in variable names are separated by underscores and all letters are lowercase (e.g., my_variable_name).\n",
    "question_10 = None  \n",
    "\n",
    "exercises.check_solution_n2(question_1, question_2, question_3, question_4, question_5, \n",
    "                        question_6, question_7, question_8, question_9, question_10)"
   ]
  },
  {
   "cell_type": "markdown",
   "id": "a0be0255",
   "metadata": {},
   "source": [
    "### Exercise 3: String Concatenation 📝 You are given variables name, age, city and country. Use Python’s string concatenation to create a sentence that says: \"Hello, my name is `name`. I am `age` years old, and I live in `city`, `country`.\""
   ]
  },
  {
   "cell_type": "code",
   "execution_count": 14,
   "id": "2b054379",
   "metadata": {},
   "outputs": [
    {
     "ename": "AttributeError",
     "evalue": "module 'exercises' has no attribute 'check_solution_n3'",
     "output_type": "error",
     "traceback": [
      "\u001b[1;31m---------------------------------------------------------------------------\u001b[0m",
      "\u001b[1;31mAttributeError\u001b[0m                            Traceback (most recent call last)",
      "Cell \u001b[1;32mIn[14], line 10\u001b[0m\n\u001b[0;32m      6\u001b[0m country \u001b[38;5;241m=\u001b[39m \u001b[38;5;28;01mNone\u001b[39;00m\n\u001b[0;32m      8\u001b[0m sentence \u001b[38;5;241m=\u001b[39m \u001b[38;5;28;01mNone\u001b[39;00m\n\u001b[1;32m---> 10\u001b[0m \u001b[43mexercises\u001b[49m\u001b[38;5;241;43m.\u001b[39;49m\u001b[43mcheck_solution_n3\u001b[49m(name, age, city, country, sentence)\n",
      "\u001b[1;31mAttributeError\u001b[0m: module 'exercises' has no attribute 'check_solution_n3'"
     ]
    }
   ],
   "source": [
    "# Fill with information about yourself (or not)\n",
    "\n",
    "name = None\n",
    "age = None\n",
    "city = None\n",
    "country = None\n",
    "\n",
    "sentence = None\n",
    "\n",
    "exercises.check_solution_n3(name, age, city, country, sentence)"
   ]
  }
 ],
 "metadata": {
  "kernelspec": {
   "display_name": "python_workshop",
   "language": "python",
   "name": "python_workshop"
  },
  "language_info": {
   "codemirror_mode": {
    "name": "ipython",
    "version": 3
   },
   "file_extension": ".py",
   "mimetype": "text/x-python",
   "name": "python",
   "nbconvert_exporter": "python",
   "pygments_lexer": "ipython3",
   "version": "3.13.0"
  }
 },
 "nbformat": 4,
 "nbformat_minor": 5
}
