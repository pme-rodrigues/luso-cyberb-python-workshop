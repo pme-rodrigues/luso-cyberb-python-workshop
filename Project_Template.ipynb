{
 "cells": [
  {
   "cell_type": "markdown",
   "metadata": {},
   "source": [
    "# 🖥️ Python Laboratory 6️⃣: Final Python Project \n",
    "<br>\n",
    "\n",
    "In this session, we'll introduce the project outline and explore additional Python concepts needed for completion. We’ll cover the basics of imports and dive into the `random` and `time` modules, which are essential for building the project."
   ]
  },
  {
   "cell_type": "markdown",
   "metadata": {},
   "source": [
    "<div style=\"border: 2px solid #d2aa77; padding: 10px; background-color: #ffec9e; border-radius: 5px;\">\n",
    "\n",
    "## Project Statement 🛠️\n",
    "\n",
    "### Overview 👀\n",
    "\n",
    "In this project, you are responsible for developing a **typing test game** inspired by examples like [TypingTest](https://www.typingtest.com/) and [TypeRacer](https://play.typeracer.com/). The goal of the game is to challenge players to type a series of words as quickly and accurately as possible, assessing their typing speed and accuracy.\n",
    "\n",
    "### Project Description 🔍\n",
    "\n",
    "The game will provide a list of words, randomly sampled from a pre-defined word list, that the player needs to type. The primary objective is to type all words accurately and as quickly as possible. The player’s **final score** will be based on two main criteria:\n",
    "\n",
    "1. **Total Time Taken**: The time from when the player begins typing the first word until they complete the last word. (Shorter times are better.)\n",
    "\n",
    "\n",
    "2. **Accuracy**: The number of words typed correctly. \n",
    "\n",
    "The score will be calculated using the following formula, which incorporates both the time taken and the accuracy. This formula will utilize a similarity-checking function to determine the accuracy of each word typed by the player. **You will be required to implement the formula below.** \n",
    "\n",
    "\n",
    "#### Scoring Formula ➕\n",
    " \n",
    "Let:\n",
    "- $T =$ Total time taken (in seconds) to type all words.\n",
    "\n",
    "\n",
    "- $C =$ Number of words typed correctly.\n",
    "\n",
    "\n",
    "- $N =$ Total number of words in the test.\n",
    "\n",
    "\n",
    "- $S =$ Similarity score for each word, where 1 means the word is typed exactly as presented, and 0 means no similarity.\n",
    "\n",
    "The final score $\\text{Score}$ can be calculated as follows:\n",
    "\n",
    "$$\n",
    "\\text{Score} = \\max\\left( \\left( \\frac{C}{N} \\right) \\times 100 - \\left( \\frac{T}{N} \\right) + \\left( \\frac{\\sum S}{N} \\times 10 \\right), \\ 0\\right)\n",
    "$$\n",
    "\n",
    "Where:\n",
    "1. **$\\frac{C}{N} \\times 100$** represents the typing accuracy as a percentage of correct words.\n",
    "\n",
    "\n",
    "2. **$\\frac{T}{N}$** penalizes longer times, reducing the score based on average time per word.\n",
    "\n",
    "\n",
    "3. **$\\frac{\\sum S}{N} \\times 10$** adds a similarity-based adjustment, where a perfect match contributes positively to the score.\n",
    "\n",
    "The **$\\max(..., 0)$** function ensures that the score cannot go below zero, so if the calculated score is negative, the final score will be set to zero.\n",
    "\n",
    "\n",
    "### Example ✒️\n",
    "\n",
    "For a test where:\n",
    "- $ T = 60 $ seconds\n",
    "\n",
    "\n",
    "- $ C = 8 $ words typed correctly out of $ N = 10 $\n",
    "\n",
    "\n",
    "- Average similarity score $ S = 0.9 $\n",
    "\n",
    "The score would be:\n",
    "\n",
    "$$\n",
    "\\text{Score} = \\max \\left( \\left( \\frac{8}{10} \\times 100 \\right) - \\left( \\frac{60}{10} \\right) + \\left( 0.9 \\times 10 \\right), 0 \\right)\n",
    "$$\n",
    "\n",
    "\n",
    "<br>\n",
    "\n",
    "\n",
    "$$\n",
    "\\text{Score} = \\max(80 - 6 + 9, 0) = \\max(83, 0) = 83\n",
    "$$\n",
    "\n",
    "\n",
    "### Provided Resources 📚\n",
    "\n",
    "- **Template**: A code template will be provided below to guide you through the core structure of the project. Feel free to modify and expand upon it as needed.\n",
    "\n",
    "\n",
    "- **Word Lists**: Three types of word lists (small, medium, and long words) will be provided. At the start, the user will select a word list type and the number of words, and your program will randomly sample the set number of words from the specified list.\n",
    "\n",
    "\n",
    "- **Similarity Function**: A built-in function for evaluating the similarity between words is included. This will be essential for calculating the score, as the score will depend on how closely typed words match the intended words.\n",
    "\n",
    "\n",
    "### Requirements 📝\n",
    "\n",
    "#### Basic Requirements (Mandatory) 🟢\n",
    "\n",
    "1. **User Input for Game Setup**:\n",
    "    - Allow the player to specify the number of words they want to type for the test.\n",
    "    - Let the player choose the type of words for the test (small, medium, or long).\n",
    "\n",
    "\n",
    "2. **Time Tracking**:\n",
    "   - Implement a timer to measure how long it takes for the player to type all words in the sequence.\n",
    "\n",
    "\n",
    "3. **Score Calculation**:\n",
    "   - Use the provided similarity function and scoring formula to calculate the final score based on the accuracy of typed words and total time taken.\n",
    "\n",
    "#### Medium Difficulty Requirements (Optional) 🟡\n",
    "\n",
    "1. **Leaderboard**:\n",
    "   - Implement a leaderboard that stores each player’s scores, ranking them from best to worst based on the score.\n",
    "   - Allow multiple scores per player, so a player can appear on the leaderboard in several positions.\n",
    "\n",
    "\n",
    "\n",
    "2. **Additional Game Modes**:\n",
    "   - Create extra modes of play beyond the basic small, medium, and long words. For example:\n",
    "     - **Thematic Mode**: Use words centered around a specific theme (e.g., animals, technology, nature).\n",
    "     - **Mix-up Mode**: Combine small, medium, and long words in a single test.\n",
    "\n",
    "#### Hard Difficulty Requirements (Optional) 🔴\n",
    "\n",
    "1. **Graphical User Interface (GUI) 🖥️**:\n",
    "   - Develop a simple GUI for the game to improve the user experience. The GUI should ideally:\n",
    "     - Allow players to select game settings, such as word type and word count, through buttons or dropdown menus.\n",
    "     - Show the time taken and the final score upon completion.\n",
    "     - The GUI can be implemented using any suitable Python library, such as `tkinter` or `pygame`.\n",
    "   \n",
    "   \n",
    "### Final Notes 📌\n",
    "\n",
    "This project offers a hands-on opportunity to apply the core programming concepts we've covered throughout the workshop, including user input handling, list manipulation, loops, conditionals, and operators. For both the easy and medium requirements, all necessary concepts have already been introduced in prior sessions — **no new concepts are needed to implement these parts, although you may use whatever you are most confortable with.**\n",
    "\n",
    "Feel free to experiment, add creative game modes, and most importantly, enjoy building your typing test game!\n",
    "\n",
    "\n",
    "</div>"
   ]
  },
  {
   "cell_type": "markdown",
   "metadata": {},
   "source": [
    "## Exploring Additional Concepts\n",
    "\n",
    "### Importing in Python\n",
    "\n",
    "In Python, **imports** allow us to access and use code from other modules (files) or libraries, expanding our program’s functionality without rewriting common tasks. By importing modules, we can tap into a wide variety of tools for performing tasks such as generating random numbers, working with dates and times, and handling complex data operations.\n",
    "\n",
    "#### Basic Syntax of `import`\n",
    "To use a module, you import it using the following syntax:\n",
    "\n",
    "```python\n",
    "import module_name\n",
    "```\n",
    "\n",
    "Once imported, you can access the functions and variables in that module by prefixing them with the module’s name:"
   ]
  },
  {
   "cell_type": "code",
   "execution_count": null,
   "metadata": {},
   "outputs": [],
   "source": [
    "import math\n",
    "\n",
    "print(math.sqrt(16))"
   ]
  },
  {
   "cell_type": "markdown",
   "metadata": {},
   "source": [
    "#### Selective Import\n",
    "You can also import specific functions from a module using:\n",
    "\n",
    "```python\n",
    "from module_name import function_name\n",
    "```\n",
    "\n",
    "For example:"
   ]
  },
  {
   "cell_type": "code",
   "execution_count": null,
   "metadata": {},
   "outputs": [],
   "source": [
    "from math import sqrt\n",
    "\n",
    "print(sqrt(16))  "
   ]
  },
  {
   "cell_type": "markdown",
   "metadata": {},
   "source": [
    "### Built-in Modules for the Project: `random` and `time`\n",
    "\n",
    "Some modules, like `math`, come pre-installed with Python, so we can start using them immediately after importing. In this project, the **`random`** and **`time`** modules, which are also built-in, will be particularly useful for adding dynamic elements to our typing test game.\n",
    "\n",
    "Let’s explore what each module offers and how their functions will help us enhance the game.\n",
    "\n",
    "\n",
    "#### `random` Module 🎲\n",
    "\n",
    "The `random` module is designed to handle operations involving randomness, which is useful for tasks like shuffling items, selecting random elements from a list, and generating random numbers. In our typing game, we’ll use this module to create a unique experience each time by selecting random words for the user to type.\n",
    "\n",
    "Key Functions:\n",
    "\n",
    "- **`random.choice()`**: Selects a random item from a list."
   ]
  },
  {
   "cell_type": "code",
   "execution_count": null,
   "metadata": {},
   "outputs": [],
   "source": [
    "import random\n",
    "\n",
    "words = [\"apple\", \"banana\", \"cherry\"]\n",
    "word = random.choice(words)\n",
    "\n",
    "print(word)  "
   ]
  },
  {
   "cell_type": "markdown",
   "metadata": {},
   "source": [
    "- **`random.sample()`**: Returns a specified number of unique elements from a list, which is perfect for selecting a set number of random words from a larger list."
   ]
  },
  {
   "cell_type": "code",
   "execution_count": null,
   "metadata": {},
   "outputs": [],
   "source": [
    "selected_words = random.sample(words, 2)\n",
    "\n",
    "print(selected_words) "
   ]
  },
  {
   "cell_type": "markdown",
   "metadata": {},
   "source": [
    "Both these functions enable us to make each typing test unique by randomly selecting words from a provided list. Be sure to choose the method that makes more sense to you!"
   ]
  },
  {
   "cell_type": "markdown",
   "metadata": {},
   "source": [
    "#### `time` Module ⏲️\n",
    "\n",
    "\n",
    "The `time` module provides functions for tracking and managing time in Python programs. This will be essential for our typing test game, where timing each user’s typing session is key to calculating their score.\n",
    "\n",
    "Key Functions:\n",
    "- **`time.time()`**: Returns the current time in seconds since the epoch (a fixed starting point in time, often January 1, 1970). This is useful for measuring elapsed time."
   ]
  },
  {
   "cell_type": "code",
   "execution_count": null,
   "metadata": {},
   "outputs": [],
   "source": [
    "import time\n",
    "\n",
    "start_time = time.time()\n",
    "\n",
    "# Some random code to pass time\n",
    "a = 0\n",
    "while a != 2:\n",
    "    a = random.randint(0, 1000000)\n",
    "    \n",
    "end_time = time.time()\n",
    "\n",
    "elapsed_time = end_time - start_time\n",
    "\n",
    "print(f\"Time taken: {elapsed_time:.2f} seconds\")"
   ]
  },
  {
   "cell_type": "markdown",
   "metadata": {},
   "source": [
    "By using `time.time()`, we can calculate the duration it takes for the user to type a set of words. This duration will be used to determine part of their final score."
   ]
  },
  {
   "cell_type": "markdown",
   "metadata": {},
   "source": [
    "### Handling User Input in Python: `input()` Function 🖊️"
   ]
  },
  {
   "cell_type": "markdown",
   "metadata": {},
   "source": [
    "In Python, the **`input()`** function is used to capture information from the user. This function pauses the program and waits for the user to type something, making it essential for interactive programs like our typing test game.\n",
    "\n",
    "The `input()` function is straightforward to use and will be central in our project for gathering details from the player, such as the number of words they want to type, and the type of word list they prefer.\n",
    "\n",
    "#### Basic Syntax of `input()`\n",
    "\n",
    "```python\n",
    "user_input = input(\"Enter something: \")\n",
    "```\n",
    "\n",
    "When the user enters text and presses **Enter**, the input is stored in the variable `user_input` as a **string**."
   ]
  },
  {
   "cell_type": "markdown",
   "metadata": {},
   "source": [
    "#### Examples of `input()` in Our Project\n",
    "\n",
    "We’ll use `input()` in several ways:\n",
    "\n",
    "#### 1. Getting the Player’s Name\n",
    "This example captures the player’s name and greets them."
   ]
  },
  {
   "cell_type": "code",
   "execution_count": null,
   "metadata": {},
   "outputs": [],
   "source": [
    "player_name = input(\"Enter your name: \")\n",
    "print(f\"Hello, {player_name}! Welcome to the Typing Test Game.\")"
   ]
  },
  {
   "cell_type": "markdown",
   "metadata": {},
   "source": [
    "#### 2. Choosing the Number of Words\n",
    "Here, we convert the input to an integer using `int()` since `input()` always returns a string. This allows us to work with the input as a number."
   ]
  },
  {
   "cell_type": "code",
   "execution_count": null,
   "metadata": {},
   "outputs": [],
   "source": [
    "num_words = int(input(\"How many words would you like to type in this test? \"))\n",
    "print(f\"Number of words to type: {num_words}\")"
   ]
  },
  {
   "cell_type": "markdown",
   "metadata": {},
   "source": [
    "#### 3. Selecting a Word List\n",
    "In this example, we prompt the user to choose a word list type and use `.lower()` to standardize their input, making the program more flexible to upper- or lowercase responses."
   ]
  },
  {
   "cell_type": "code",
   "execution_count": null,
   "metadata": {},
   "outputs": [],
   "source": [
    "word_list_type = input(\"Choose a word list (small, medium, or long): \").lower()\n",
    "print(f\"Type of words selected: '{word_list_type}'\")"
   ]
  },
  {
   "cell_type": "markdown",
   "metadata": {},
   "source": [
    "### Tips for Using `input()` Effectively\n",
    "\n",
    "- **Type Conversion**: Remember to convert inputs to the appropriate type (e.g., `int` or `float`) if you’re working with numbers.\n",
    "\n",
    "\n",
    "- **Input Validation**: It’s often a good idea to check that the user input is valid (e.g., ensuring they enter a number for `num_words` or a valid list type). This can help prevent errors."
   ]
  },
  {
   "cell_type": "markdown",
   "metadata": {},
   "source": [
    "### Similarity function 🟰🟰\n",
    "\n",
    "The function below calculates the Levenshtein distance and then returns a similarity score between 0 and 1, where 1 means the words are identical, and 0 means they are completely different."
   ]
  },
  {
   "cell_type": "code",
   "execution_count": null,
   "metadata": {},
   "outputs": [],
   "source": [
    "def similarity(word1, word2):\n",
    "    len_word1 = len(word1)\n",
    "    len_word2 = len(word2)\n",
    "    dp = [[0] * (len_word2 + 1) for _ in range(len_word1 + 1)]\n",
    "\n",
    "    for i in range(len_word1 + 1):\n",
    "        dp[i][0] = i\n",
    "    for j in range(len_word2 + 1):\n",
    "        dp[0][j] = j\n",
    "\n",
    "    for i in range(1, len_word1 + 1):\n",
    "        for j in range(1, len_word2 + 1):\n",
    "            if word1[i - 1] == word2[j - 1]:\n",
    "                dp[i][j] = dp[i - 1][j - 1]  # No change needed\n",
    "            else:\n",
    "                dp[i][j] = min(dp[i - 1][j], dp[i][j - 1], dp[i - 1][j - 1]) + 1\n",
    "\n",
    "    # Calculate similarity based on edit distance\n",
    "    edit_distance = dp[len_word1][len_word2]\n",
    "    max_length = max(len_word1, len_word2)\n",
    "    similarity_score = 1 - (edit_distance / max_length)\n",
    "\n",
    "    return similarity_score\n",
    "\n",
    "# Example usage\n",
    "print(similarity(\"typing\", \"typin\"))  # Outputs a score between 0 and 1"
   ]
  },
  {
   "cell_type": "markdown",
   "metadata": {},
   "source": [
    "## Project Template 📜🖋️"
   ]
  },
  {
   "cell_type": "markdown",
   "metadata": {},
   "source": [
    "Here are lists of 50 words for each type (`small`, `medium`, and `long`) and from which you will sample:\n",
    "\n",
    "_Don't forget to run this cell to load them to memory!_"
   ]
  },
  {
   "cell_type": "code",
   "execution_count": null,
   "metadata": {},
   "outputs": [],
   "source": [
    "# Sample word lists\n",
    "small_words = [\n",
    "    \"cat\", \"dog\", \"sun\", \"sky\", \"car\", \"bat\", \"pen\", \"map\", \"box\", \"bug\",\n",
    "    \"fox\", \"hat\", \"lip\", \"jar\", \"cap\", \"net\", \"tap\", \"log\", \"fig\", \"bun\",\n",
    "    \"bee\", \"tie\", \"rat\", \"fan\", \"pot\", \"key\", \"bat\", \"zip\", \"saw\", \"jam\",\n",
    "    \"pie\", \"toy\", \"gym\", \"mat\", \"pad\", \"mop\", \"fit\", \"big\", \"red\", \"fix\",\n",
    "    \"hit\", \"bet\", \"bit\", \"dim\", \"rim\", \"pin\", \"pop\", \"set\", \"nod\", \"hip\"\n",
    "]\n",
    "\n",
    "medium_words = [\n",
    "    \"apple\", \"table\", \"chair\", \"plane\", \"grape\", \"snake\", \"brick\", \"crane\", \"peach\", \"jolly\",\n",
    "    \"light\", \"bring\", \"plant\", \"floor\", \"stone\", \"cream\", \"brush\", \"drain\", \"fruit\", \"piano\",\n",
    "    \"toast\", \"globe\", \"trail\", \"beach\", \"grain\", \"flash\", \"shine\", \"crowd\", \"flame\", \"slope\",\n",
    "    \"store\", \"brick\", \"scale\", \"broom\", \"toast\", \"pouch\", \"shirt\", \"lemon\", \"brain\", \"tiger\",\n",
    "    \"whale\", \"grain\", \"quilt\", \"block\", \"couch\", \"cloud\", \"drift\", \"spark\", \"sight\", \"frost\"\n",
    "]\n",
    "\n",
    "\n",
    "long_words = [\n",
    "    \"elephant\", \"alligator\", \"crocodile\", \"rhinoceros\", \"dinosaur\", \"computer\", \"notebook\", \"molecule\", \"microscope\", \"chocolate\",\n",
    "    \"pineapple\", \"airplane\", \"telephone\", \"kangaroo\", \"butterfly\", \"marathon\", \"volunteer\", \"watermelon\", \"backstage\", \"cylinder\",\n",
    "    \"mountaineer\", \"tournament\", \"classroom\", \"celebrate\", \"breakfast\", \"birthday\", \"furniture\", \"restaurant\", \"sandcastle\", \"important\",\n",
    "    \"lighthouse\", \"population\", \"cardboard\", \"strawberry\", \"laboratory\", \"hamburger\", \"motorcycle\", \"accordion\", \"dictionary\", \"beautiful\",\n",
    "    \"telephone\", \"playground\", \"synchronize\", \"basketball\", \"helicopter\", \"electricity\", \"vegetarian\", \"microbiology\", \"magnificent\", \"hypothesis\"\n",
    "]"
   ]
  },
  {
   "cell_type": "markdown",
   "metadata": {},
   "source": [
    "The next cell, provides you with the general template and guidelines for implementing the basic requirements. Feel free to change it as you see fit!"
   ]
  },
  {
   "cell_type": "code",
   "execution_count": null,
   "metadata": {},
   "outputs": [],
   "source": [
    "# Import necessary modules (time and random)\n",
    "# These modules will help with tracking time and randomly sampling words for the game.\n",
    "\n",
    "\n",
    "# Step 1: Introduction and Game Setup\n",
    "print(\"Welcome to the Typing Test Game!\")\n",
    "# Prompt the user to enter the number of words they would like to type.\n",
    "# Store this value in num_words.\n",
    "num_words = ...\n",
    "\n",
    "# Prompt the user to choose a word list type (small, medium, or long).\n",
    "# Store this choice in word_list_type.\n",
    "word_list_type = ...\n",
    "\n",
    "# Step 2: Select the appropriate word list based on user choice and randomly select words for the test\n",
    "# Tip 1: Start by creating an empty list where you will store the words randomly sampled from the chosen word list.\n",
    "# Tip 2: Use if statements to choose the correct list based on word_list_type. \n",
    "#        For example, if the user chooses \"small,\" use the small word list.\n",
    "# Tip 3: Use random sampling to select num_words from the chosen word list and save these in the empty list.\n",
    "# Tip 4: Be careful not to sample more words than available in the chosen list (maximum of 50 words).\n",
    "word_list = ...\n",
    "\n",
    "# Step 3: Start timing and initialize variables that will be used for scoring\n",
    "# - Create an empty list to store words typed by the user (typed_words).\n",
    "# - Initialize a counter (correct_words) to count the number of words typed correctly.\n",
    "# - Start the timer by storing the current time in start_time.\n",
    "typed_words = ...\n",
    "correct_words = 0\n",
    "start_time = ...\n",
    "\n",
    "# Step 4: Display each word one by one, ask for user input, and record the typed word\n",
    "# Tip 1: Use a loop to go through each word in the list of words (from Step 2).\n",
    "# Tip 2: For each word in the list:\n",
    "#        - Print the word on the console to prompt the user to type it.\n",
    "#        - Ask the user to input their typed version of the word.\n",
    "# Tip 3: Store each word entered by the user in the typed_words list (initialized in Step 3).\n",
    "# This loop will allow you to collect all typed words for scoring.\n",
    "\n",
    "# Step 5: End timing and calculate total time taken\n",
    "# - Record the time after the user has typed all words by storing the current time in end_time.\n",
    "# - Calculate total time taken.\n",
    "end_time = ...\n",
    "total_time = ...\n",
    "\n",
    "# Step 6: Calculate the final score\n",
    "# Tip 1: Review the original formula used for calculating score, as this will help you identify the variables needed for scoring.\n",
    "# Tip 2: Use total_time, correct_words, and any other necessary values to calculate the score.\n",
    "# Tip 3: Ensure that the score calculation accounts for both speed (time), similarity and accuracy (correct words typed).\n",
    "# This step will determine the player's overall performance in the typing test.\n",
    "\n",
    "# Step 7: Calculate the final score based on total time, accuracy, and any similarity measure.\n",
    "# - Use the variables from Step 6 to complete the score calculation.\n",
    "score = ...\n",
    "\n",
    "# Step 8: Display results\n",
    "# - Print a summary of the test, showing:\n",
    "#   - The words the user was supposed to type.\n",
    "#   - The words the user actually typed.\n",
    "#   - The total time taken for the test.\n",
    "#   - The number of words typed correctly.\n",
    "#   - The final calculated score.\n",
    "..."
   ]
  }
 ],
 "metadata": {
  "kernelspec": {
   "display_name": "Python 3",
   "language": "python",
   "name": "python3"
  },
  "language_info": {
   "codemirror_mode": {
    "name": "ipython",
    "version": 3
   },
   "file_extension": ".py",
   "mimetype": "text/x-python",
   "name": "python",
   "nbconvert_exporter": "python",
   "pygments_lexer": "ipython3",
   "version": "3.7.4"
  }
 },
 "nbformat": 4,
 "nbformat_minor": 5
}
