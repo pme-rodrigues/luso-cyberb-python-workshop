{
 "cells": [
  {
   "cell_type": "markdown",
   "metadata": {},
   "source": [
    "# 🖥️ Python Laboratory 3️: Operators & String Manipulation\n",
    "<br>\n",
    "\n",
    "In this session, we'll dive into two essential concepts: Python Operators and String Manipulation. These might seem like simple building blocks, but they are critical for developing efficient, clean, and functional code. \n",
    "\n",
    "By the end of this session, you’ll have a solid grasp of:\n",
    "- **Python Operators**: Arithmetic, comparison, logical, and assignment operators.\n",
    "- **String Manipulation Techniques**: Slicing, concatenation, formatting, and common string methods.\n",
    "\n",
    "Let’s explore why mastering these topics is important. 🔍\n",
    "<br>\n",
    "\n"
   ]
  },
  {
   "cell_type": "markdown",
   "metadata": {},
   "source": [
    "## Python Operators ➕❔\n",
    "\n",
    "<br>\n",
    "\n",
    "![Jupyter Image](https://img.freepik.com/premium-vector/number-seamless-pattern-abstract-math-background-school-univerity_87543-6510.jpg)\n",
    "\n",
    "\n",
    "### Why Learn Python Operators? 🤔\n",
    "\n",
    "**Operators** allow you to perform various \"operations\" (_duh_ -.-) on variables and values. From simple mathematical calculations (like addition and subtraction) to more complex comparisons and logical operations.\n",
    "\n",
    "Python's operators are the foundation of nearly **everything you do in programming**. Whether you're analyzing data 📊, controlling program flow 🚦, or building more complex logic 🧠, operators are essential tools you will use constantly.\n",
    "\n",
    "Think of operators as the verbs of programming ⚙️ - they describe the actions you're asking Python to perform. Without them, your programs wouldn't function!"
   ]
  },
  {
   "cell_type": "markdown",
   "metadata": {},
   "source": [
    "In Python, there are a total of **7 groups of operators**, each with its own purpose:\n",
    "\n",
    "1. **Arithmetic Operators** ➕\n",
    "2. **Assignment Operators** 📝\n",
    "3. **Comparison Operators** 🔄\n",
    "4. **Logical Operators** ⚖️\n",
    "5. **Identity Operators** 👤\n",
    "6. **Membership Operators** 🔍\n",
    "7. **Bitwise Operators** 🧠\n",
    "\n",
    "However, we will **not explore Bitwise operators** in this session. Bitwise operators are used to perform comparisons at the **binary level** (ones and zeros), which is more relevant for low-level computing and less applicable in everyday programming tasks that we'll focus on. For now, our goal is to understand operators that are more **human-readable** and help us perform common tasks in Python.\n",
    "\n",
    "So, let’s start with the more **intuitive** operators—the **Arithmetic Operators**. 🎯\n",
    "<br>\n",
    "\n",
    "---\n",
    "\n",
    "### Arithmetic Operators ➕➖✖️➗\n",
    "\n",
    "**Arithmetic operators** are the most familiar operators because they perform basic mathematical operations like addition, subtraction, multiplication, and division. These operations are the foundation for many programs, whether you're calculating totals, percentages, or solving equations.\n",
    "\n",
    "Here’s a breakdown of the **arithmetic operators** in Python:\n",
    "\n",
    "- `+` **Addition**: Adds two numbers together."
   ]
  },
  {
   "cell_type": "code",
   "execution_count": null,
   "metadata": {},
   "outputs": [],
   "source": [
    "result = 3 + 2\n",
    "print('Result:', result)"
   ]
  },
  {
   "cell_type": "markdown",
   "metadata": {},
   "source": [
    "- `-` **Subtraction**: Subtracts one number from another."
   ]
  },
  {
   "cell_type": "code",
   "execution_count": null,
   "metadata": {},
   "outputs": [],
   "source": [
    "result = 5 - 1\n",
    "print('Result:', result)"
   ]
  },
  {
   "cell_type": "markdown",
   "metadata": {},
   "source": [
    "- `*` **Multiplication**: Multiplies two numbers."
   ]
  },
  {
   "cell_type": "code",
   "execution_count": null,
   "metadata": {},
   "outputs": [],
   "source": [
    "result = 4 * 3\n",
    "print('Result:', result)"
   ]
  },
  {
   "cell_type": "markdown",
   "metadata": {},
   "source": [
    "- `/` **Division**: Divides one number by another, returning a float."
   ]
  },
  {
   "cell_type": "code",
   "execution_count": null,
   "metadata": {
    "scrolled": true
   },
   "outputs": [],
   "source": [
    "result = 10 / 2\n",
    "print('Result:', result)"
   ]
  },
  {
   "cell_type": "markdown",
   "metadata": {},
   "source": [
    "<div style=\"border: 2px solid #84bd7b; padding: 10px; background-color: #d8f5d3; border-radius: 5px;\">\n",
    "\n",
    "### Infobox ℹ️\n",
    "\n",
    "**Division:**\n",
    "\n",
    "- In Python, when we divide two numbers, the result is always of type `float` (even if the result is a whole number).\n",
    "  \n",
    "- If we want to work with whole numbers, we need to either use **floor division** (`//`) or convert the result to an integer using `int()`.\n",
    "\n",
    "</div>"
   ]
  },
  {
   "cell_type": "markdown",
   "metadata": {},
   "source": [
    "- `//` **Floor Division**: Divides one number by another and returns the largest integer smaller or equal to the result."
   ]
  },
  {
   "cell_type": "code",
   "execution_count": null,
   "metadata": {},
   "outputs": [],
   "source": [
    "result = 10 // 3\n",
    "print('Result:', result)"
   ]
  },
  {
   "cell_type": "markdown",
   "metadata": {},
   "source": [
    "- `%` **Modulus**: Returns the remainder when one number is divided by another."
   ]
  },
  {
   "cell_type": "code",
   "execution_count": null,
   "metadata": {},
   "outputs": [],
   "source": [
    "result = 10 % 3\n",
    "print('Result:', result)"
   ]
  },
  {
   "cell_type": "markdown",
   "metadata": {},
   "source": [
    "- `**` **Exponentiation**: Raises one number to the power of another."
   ]
  },
  {
   "cell_type": "code",
   "execution_count": null,
   "metadata": {},
   "outputs": [],
   "source": [
    "result = 2 ** 3\n",
    "print('Result:', result)"
   ]
  },
  {
   "cell_type": "markdown",
   "metadata": {},
   "source": [
    "<br>\n",
    "\n",
    "---\n",
    "\n",
    "### Assignment Operators 📝\n",
    "\n",
    "**Assignment operators** are used to assign values to variables. The most common assignment operator is the simple `=` sign, - we already seen it - but Python provides several more operators that allow you to assign values while performing operations at the same time. These operators combine common tasks like adding, subtracting, or multiplying a variable with another value.\n",
    "\n",
    "Here are the most common assignment operators in Python:\n",
    "- **`+=`** **Addition Assignment**: Adds the value on the right to the variable and reassigns the result to the variable."
   ]
  },
  {
   "cell_type": "code",
   "execution_count": null,
   "metadata": {},
   "outputs": [],
   "source": [
    "x = 10\n",
    "x += 5 # same as x = x + 5\n",
    "\n",
    "print('x:', x)"
   ]
  },
  {
   "cell_type": "markdown",
   "metadata": {},
   "source": [
    "- **`-=`** **Subtraction Assignment**: Subtracts the value on the right from the variable and reassigns the result to the variable."
   ]
  },
  {
   "cell_type": "code",
   "execution_count": null,
   "metadata": {},
   "outputs": [],
   "source": [
    "x = 10\n",
    "x -= 3 # same as x = x - 3\n",
    "\n",
    "print('x:', x)"
   ]
  },
  {
   "cell_type": "markdown",
   "metadata": {},
   "source": [
    "- **`*=`** **Multiplication Assignment**: Multiplies the variable by the value on the right and reassigns the result."
   ]
  },
  {
   "cell_type": "code",
   "execution_count": null,
   "metadata": {},
   "outputs": [],
   "source": [
    "x = 10\n",
    "x *= 2  # same as x = x * 2\n",
    "\n",
    "print('x:', x)"
   ]
  },
  {
   "cell_type": "markdown",
   "metadata": {},
   "source": [
    "- **`/=`** **Division Assignment**: Divides the variable by the value on the right and reassigns the result."
   ]
  },
  {
   "cell_type": "code",
   "execution_count": null,
   "metadata": {},
   "outputs": [],
   "source": [
    "x = 10\n",
    "x /= 2  # same as x = x / 4\n",
    "\n",
    "print('x:', x)"
   ]
  },
  {
   "cell_type": "markdown",
   "metadata": {},
   "source": [
    "- **`//=`** **Floor Division Assignment**: Performs floor division on the variable and reassigns the result."
   ]
  },
  {
   "cell_type": "code",
   "execution_count": null,
   "metadata": {},
   "outputs": [],
   "source": [
    "x = 10\n",
    "x //= 3  # same as x = x // 2\n",
    "\n",
    "print('x:', x)"
   ]
  },
  {
   "cell_type": "markdown",
   "metadata": {},
   "source": [
    "- **`%=`** **Modulus Assignment**: Divides the variable by the value on the right and reassigns the remainder"
   ]
  },
  {
   "cell_type": "code",
   "execution_count": null,
   "metadata": {},
   "outputs": [],
   "source": [
    "x = 10\n",
    "x %= 3  # same as x = x % 2, now x is \n",
    "\n",
    "print('x:', x)"
   ]
  },
  {
   "cell_type": "markdown",
   "metadata": {},
   "source": [
    "-  `**=` **Exponentiation Assignment**: Raises the variable to the power of the value on the right and reassigns the result."
   ]
  },
  {
   "cell_type": "code",
   "execution_count": null,
   "metadata": {
    "scrolled": true
   },
   "outputs": [],
   "source": [
    "x = 2\n",
    "x **= 3  # same as x = x ** 3\n",
    "\n",
    "print('x:', x)"
   ]
  },
  {
   "cell_type": "markdown",
   "metadata": {},
   "source": [
    "<br>\n",
    "\n",
    "---\n",
    "\n",
    "### Comparison Operators 🔄\n",
    "\n",
    "**Comparison operators** in Python are used to compare two values. These comparisons always result in either `True` or `False` depending on the outcome of the comparison. They are fundamental when writing conditions, performing decision-making tasks, and controlling the flow of your programs 🚦.\n",
    "\n",
    "Let's explore the **comparison operators**:\n",
    "\n",
    "- **`==` Equal to**: Checks if two values are equal."
   ]
  },
  {
   "cell_type": "code",
   "execution_count": null,
   "metadata": {},
   "outputs": [],
   "source": [
    "result_num = 5 == 5\n",
    "\n",
    "result_str = 'Dog' == 'Dog'\n",
    "\n",
    "print('result_num:', result_num)\n",
    "print('result_str:', result_str)"
   ]
  },
  {
   "cell_type": "markdown",
   "metadata": {},
   "source": [
    "- **`!=` Not equal to**: Checks if two values are not equal."
   ]
  },
  {
   "cell_type": "code",
   "execution_count": null,
   "metadata": {},
   "outputs": [],
   "source": [
    "result_num = 10 != 3\n",
    "\n",
    "result_str = 'Cat' != 'cat'\n",
    "\n",
    "print('result_num:', result_num)\n",
    "print('result_str:', result_str)"
   ]
  },
  {
   "cell_type": "markdown",
   "metadata": {},
   "source": [
    "- **`>` Greater than**: Checks if the value on the left is greater than the value on the right."
   ]
  },
  {
   "cell_type": "code",
   "execution_count": null,
   "metadata": {},
   "outputs": [],
   "source": [
    "result_num = 100 > 1\n",
    "\n",
    "print('result_num:', result_num)"
   ]
  },
  {
   "cell_type": "markdown",
   "metadata": {},
   "source": [
    "- **`<` Less than**: Checks if the value on the left is less than the value on the right."
   ]
  },
  {
   "cell_type": "code",
   "execution_count": null,
   "metadata": {},
   "outputs": [],
   "source": [
    "result_num = 2.45 < 2.5\n",
    "\n",
    "print('result_num:', result_num)"
   ]
  },
  {
   "cell_type": "markdown",
   "metadata": {},
   "source": [
    "- **`>=` Greater than or equal to**: Checks if the value on the left is greater than or equal to the value on the right."
   ]
  },
  {
   "cell_type": "code",
   "execution_count": null,
   "metadata": {},
   "outputs": [],
   "source": [
    "result_num = 5 >= 5.0\n",
    "\n",
    "print('result_num:', result_num)"
   ]
  },
  {
   "cell_type": "markdown",
   "metadata": {},
   "source": [
    "- **`<=` Less than or equal to**: Checks if the value on the left is less than or equal to the value on the right"
   ]
  },
  {
   "cell_type": "code",
   "execution_count": null,
   "metadata": {
    "scrolled": true
   },
   "outputs": [],
   "source": [
    "result_num = 3.14 <= 3.14159265359\n",
    "\n",
    "print('result_num:', result_num)"
   ]
  },
  {
   "cell_type": "markdown",
   "metadata": {},
   "source": [
    "<br>\n",
    "\n",
    "---\n",
    "\n",
    "### Logical Operators ⚖️\n",
    "\n",
    "**Logical operators** are used to combine conditional statements. They are essential when you need to evaluate multiple conditions at once, allowing you to create more complex decision-making logic in your programs.\n",
    "\n",
    "In Python, there are three logical operators:\n",
    "\n",
    "- **`and`**: Returns `True` if **both** statements are `True`."
   ]
  },
  {
   "cell_type": "code",
   "execution_count": null,
   "metadata": {},
   "outputs": [],
   "source": [
    "true_statement =  (5 > 3) and (8 > 6)\n",
    "\n",
    "false_statement = (5 > 3) and (8 < 6)\n",
    "\n",
    "print('true_statement:',true_statement)\n",
    "print('false_statement:',false_statement)"
   ]
  },
  {
   "cell_type": "markdown",
   "metadata": {},
   "source": [
    "- **`or`**: Returns `True` if **at least one** of the statements is `True`."
   ]
  },
  {
   "cell_type": "code",
   "execution_count": null,
   "metadata": {
    "scrolled": false
   },
   "outputs": [],
   "source": [
    "true_statement =  (5 > 3) or (8 < 6)\n",
    "\n",
    "false_statement = (5 < 3) or (8 < 6)\n",
    "\n",
    "print('true_statement:',true_statement)\n",
    "print('false_statement:',false_statement)"
   ]
  },
  {
   "cell_type": "markdown",
   "metadata": {},
   "source": [
    "<div style=\"border: 2px solid #84bd7b; padding: 10px; background-color: #d8f5d3; border-radius: 5px;\">\n",
    "\n",
    "### Infobox ℹ️\n",
    "\n",
    "**Grouping Conditions with Parentheses** 🧠\n",
    "\n",
    "When combining multiple conditions in Python using **logical operators** (`and`, `or`, `not`), it’s a good practice to **group each condition inside parentheses**. This ensures Python evaluates them correctly, just like in mathematical operations where parentheses are used to control the order of operations.\n",
    "\n",
    "For example:\n",
    "\n",
    "```python\n",
    "(10 > 5) and (15 != 20)  # Grouping conditions with parentheses\n",
    "```\n",
    "\n",
    "Grouping conditions with parentheses makes your code easier to read and understand, and ensures Python evaluates the conditions in the right order! 🎯\n",
    "\n",
    "</div>"
   ]
  },
  {
   "cell_type": "markdown",
   "metadata": {},
   "source": [
    "- **`not`**: Reverses the result — returns `True` if the condition is `False`."
   ]
  },
  {
   "cell_type": "code",
   "execution_count": null,
   "metadata": {},
   "outputs": [],
   "source": [
    "true_statement =  not(5 > 3)\n",
    "\n",
    "false_statement = not(5 < 3)\n",
    "\n",
    "print('true_statement:',true_statement)\n",
    "print('false_statement:',false_statement)"
   ]
  },
  {
   "cell_type": "markdown",
   "metadata": {},
   "source": [
    "<div style=\"border: 2px solid #FFE700; padding: 10px; background-color: #FEFFA7; border-radius: 5px;\">\n",
    "\n",
    "### Tip 💡\n",
    "\n",
    "**Why Are Logical Operators Important?** 🤔\n",
    "\n",
    "**Logical operators** allow you to combine multiple comparisons and conditions, helping you create more flexible and complex decision-making logic in your programs. This is especially useful when you have more than one condition to check.\n",
    "\n",
    "For example:\n",
    "- Use **`and`** when **all conditions** need to be true for the block of code to run.\n",
    "- Use **`or`** when **at least one condition** needs to be true.\n",
    "- Use **`not`** when you want to **negate** a condition.\n",
    "    \n",
    "</div>\n",
    "\n",
    "##### Logical Operator Table:\n",
    "\n",
    "| Expression            | Result |\n",
    "|-----------------------|--------|\n",
    "| `True and True`        | True   |\n",
    "| `True and False`       | False  |\n",
    "| `False and False`      | False  |\n",
    "| `True or False`        | True   |\n",
    "| `False or False`       | False  |\n",
    "| `not True`             | False  |\n",
    "| `not False`            | True   |\n"
   ]
  },
  {
   "cell_type": "markdown",
   "metadata": {},
   "source": [
    "<br>\n",
    "\n",
    "---\n",
    "\n",
    "### Identity Operators 👤\n",
    "\n",
    "**Identity operators** are used to compare whether two variables point to the **same object in memory**. In Python, everything is an object, and identity operators allow you to check if two variables refer to the **exact same object**.\n",
    "\n",
    "We will explore the concept of memory referencing in more detail in the next session. 🔍\n",
    "\n",
    "For now, let's look at a very practical and common use of the **`is`** operator: checking types. The **`is`** operator can be used to check whether a variable is of a certain **type**. This is especially useful when you want to ensure that variables are of the correct type to perform specific operations. ⚙️"
   ]
  },
  {
   "cell_type": "code",
   "execution_count": null,
   "metadata": {},
   "outputs": [],
   "source": [
    "x = 100\n",
    "y = \"Hello!\" \n",
    "\n",
    "print('Is x of type int ?', type(x) is int) \n",
    "print('Is y of type str ?', type(y) is str) "
   ]
  },
  {
   "cell_type": "markdown",
   "metadata": {},
   "source": [
    "<br>\n",
    "\n",
    "---\n",
    "\n",
    "### Membership Operators 🔍\n",
    "\n",
    "**Membership operators** are used to check whether a value or variable is present in a sequence (like a list, string, tuple, etc.). These operators help you verify whether an item exists within a collection.\n",
    "\n",
    "Here are the two membership operators:\n",
    "\n",
    "- **`in`**: Returns `True` if the specified value is found in the sequence."
   ]
  },
  {
   "cell_type": "code",
   "execution_count": null,
   "metadata": {},
   "outputs": [],
   "source": [
    "sentence = \"Birds of a feather flock together.\"\n",
    "\n",
    "print('Birds' in sentence)  \n",
    "print('all' in sentence) "
   ]
  },
  {
   "cell_type": "markdown",
   "metadata": {},
   "source": [
    "- **`not in`**: Returns `True` if the specified value is **not** found in the sequence."
   ]
  },
  {
   "cell_type": "code",
   "execution_count": null,
   "metadata": {},
   "outputs": [],
   "source": [
    "sentence = \"A bad workman blames his tools.\"\n",
    "\n",
    "print('Bad' not in sentence)  \n",
    "print('an' not in sentence) "
   ]
  },
  {
   "cell_type": "markdown",
   "metadata": {},
   "source": [
    "<div style=\"border: 2px solid #84bd7b; padding: 10px; background-color: #d8f5d3; border-radius: 5px;\">\n",
    "\n",
    "### Infobox ℹ️\n",
    "\n",
    "**Are membership operators used only in strings?**\n",
    "\n",
    "No! Although the example only involves strings, these operators are very useful for working with other data structures we'll explore in the next session, such as **Lists** and **Dictionaries**.\n",
    "\n",
    "</div>"
   ]
  },
  {
   "cell_type": "markdown",
   "metadata": {},
   "source": [
    "<div style=\"border: 2px solid #ababab; padding: 10px; background-color: #ebedeb; border-radius: 5px;\">\n",
    "\n",
    "# Exercises 🏃\n",
    "\n",
    "</div>"
   ]
  },
  {
   "cell_type": "markdown",
   "metadata": {},
   "source": [
    "### Exercise 1: Convert English to Python Code 📝\n",
    "\n",
    "You are given a set of comparison and logical phrases written in English. Your task is to **convert each phrase** into its **Python code equivalent** using comparison (`==`, `!=`, `<`, `>`, etc.) and logical operators (`and`, `or`, `not`).\n",
    "\n",
    "#### Expected Output:\n",
    "\n",
    "For example, for the phrase **\"Check if 10 is greater than 5\"**, the code would be:\n",
    "\n",
    "```python\n",
    "result = 10 > 5\n",
    "```\n",
    "\n",
    "Now, try to convert the rest of the phrases into Python code and print the results!"
   ]
  },
  {
   "cell_type": "code",
   "execution_count": 2,
   "metadata": {},
   "outputs": [],
   "source": [
    "import exercises\n",
    "\n",
    "# Phrase 1: \"Check if 15 is not equal to 20.\"\n",
    "result_1 = (15 != 20)\n",
    "\n",
    "# Phrase 2: \"Check if 8 is less than or equal to 12 and 15 is greater than 10.\"\n",
    "result_2 = (8 <= 12) and (15 > 10)\n",
    "\n",
    "# Phrase 3: \"Check if 3 is greater than 7 or 20 is equal to 20.\"\n",
    "result_3 = (3 > 7) or (20 == 20)\n",
    "\n",
    "# Phrase 4: \"Check if 5 is not greater than 10.\"\n",
    "result_4 = not (5 > 10)\n",
    "\n",
    "x = 12\n",
    "\n",
    "# Phrase 1: \"Check if x is greater than 10 and x is less than 20, or x is equal to 5.\"\n",
    "result_5 = (x > 10 and x < 20) or (x == 5)\n",
    "\n",
    "# Phrase 2: \"Check if x is not equal to 15 and x is greater than 0, or x is less than -5.\"\n",
    "result_6 = (x != 15 and x > 0) or (x < -5)\n",
    "\n",
    "# Phrase 3: \"Check if x is greater than 50 or x is equal to 25, and x is less than 100.\"\n",
    "result_7 = (x > 50 or x == 25) and (x < 100)\n",
    "\n",
    "# Phrase 4: \"Check if x is less than 0 or x is greater than 10, and x is not equal to 5.\"\n",
    "result_8 = (x < 0 or x > 10) and (x != 5)\n",
    "\n",
    "# Phrase 5: \"Check if x is greater than or equal to 10 and x is less than 50, or x is greater than 100.\"\n",
    "result_9 = (x >= 10 and x < 50) or (x > 100)\n",
    "\n",
    "# Phrase 6: \"Check if x is less than 5 or x is greater than or equal to 15, and x is less than 30.\"\n",
    "result_10 = (x < 5 or x >= 15) and (x < 30)\n",
    "\n",
    "# Phrase 7: \"Check if x is not equal to 0 and x is greater than 1, or x is equal to -1.\"\n",
    "result_11 = (x != 0 and x > 1) or (x == -1)\n",
    "\n",
    "# Phrase 8: \"Check if x is greater than 20 or x is less than 10, and x is not 0.\"\n",
    "result_12 = (x > 20 or x < 10) and (x != 0)\n",
    "\n",
    "# Phrase 9: \"Check if x is less than or equal to 50 and x is greater than 10, or x is exactly 75.\"\n",
    "result_13 = (x <= 50 and x > 10) or (x == 75)\n",
    "\n",
    "# Phrase 10: \"Check if x is greater than or equal to 5 or x is less than -5, and x is not 10.\"\n",
    "result_14 = (x >= 5 or x < -5) and (x != 10)"
   ]
  },
  {
   "cell_type": "code",
   "execution_count": 3,
   "metadata": {},
   "outputs": [
    {
     "name": "stdout",
     "output_type": "stream",
     "text": [
      "✅ Expression 1 is correct.\n",
      "✅ Expression 2 is correct.\n",
      "✅ Expression 3 is correct.\n",
      "✅ Expression 4 is correct.\n",
      "✅ Expression 5 is correct.\n",
      "✅ Expression 6 is correct.\n",
      "✅ Expression 7 is correct.\n",
      "✅ Expression 8 is correct.\n",
      "✅ Expression 9 is correct.\n",
      "✅ Expression 9 is correct.\n",
      "✅ Expression 9 is correct.\n",
      "✅ Expression 9 is correct.\n",
      "✅ Expression 9 is correct.\n",
      "✅ Expression 9 is correct.\n"
     ]
    }
   ],
   "source": [
    "import exercises\n",
    "\n",
    "exercises.check_solution_n1_lab3(result_1, result_2, result_3, result_4, result_5, result_6, result_7, result_8, result_9, result_10, result_11, result_12, result_13, result_14)"
   ]
  },
  {
   "cell_type": "markdown",
   "metadata": {},
   "source": [
    "### Exercise 2: Write Mathematical Expressions 🧮\n",
    "\n",
    "You are given three variables: `x`, `y`, and `z`. Write the following mathematical expressions in Python.\n",
    "\n",
    "#### Expected Output:\n",
    "\n",
    "For example, for the expression $(x + y) \\cdot z $, the code would:\n",
    "```python\n",
    "   expression_1 = (x + y) * z\n",
    "```\n"
   ]
  },
  {
   "cell_type": "code",
   "execution_count": 4,
   "metadata": {},
   "outputs": [],
   "source": [
    "# Variables x, y and z\n",
    "\n",
    "x, y, z =  2, -5, 4"
   ]
  },
  {
   "cell_type": "markdown",
   "metadata": {},
   "source": [
    "**Expression 1**: $ \\frac{x}{z} + y + 1$"
   ]
  },
  {
   "cell_type": "code",
   "execution_count": 5,
   "metadata": {},
   "outputs": [
    {
     "name": "stdout",
     "output_type": "stream",
     "text": [
      "expression_1 = -3.5\n"
     ]
    }
   ],
   "source": [
    "expression_1 = (x / z) + y + 1\n",
    "\n",
    "print('expression_1 =', expression_1)"
   ]
  },
  {
   "cell_type": "markdown",
   "metadata": {},
   "source": [
    "**Expression 2**: $ \\frac{x - y}{z} $"
   ]
  },
  {
   "cell_type": "code",
   "execution_count": 6,
   "metadata": {},
   "outputs": [
    {
     "name": "stdout",
     "output_type": "stream",
     "text": [
      "expression_2 = 1.75\n"
     ]
    }
   ],
   "source": [
    "expression_2 = (x - y) / z\n",
    "\n",
    "print('expression_2 =', expression_2)"
   ]
  },
  {
   "cell_type": "markdown",
   "metadata": {},
   "source": [
    "**Expression 3**: $ (x \\cdot z) + 2y $"
   ]
  },
  {
   "cell_type": "code",
   "execution_count": 7,
   "metadata": {},
   "outputs": [
    {
     "name": "stdout",
     "output_type": "stream",
     "text": [
      "expression_3 = -2\n"
     ]
    }
   ],
   "source": [
    "expression_3 = (x * z) + 2*y\n",
    "\n",
    "print('expression_3 =', expression_3)"
   ]
  },
  {
   "cell_type": "markdown",
   "metadata": {},
   "source": [
    "**Expression 4**: $ (x + y - z) \\cdot 2 $"
   ]
  },
  {
   "cell_type": "code",
   "execution_count": 17,
   "metadata": {},
   "outputs": [
    {
     "name": "stdout",
     "output_type": "stream",
     "text": [
      "expression_4 = -14\n"
     ]
    }
   ],
   "source": [
    "expression_4 = (x + y - z) * 2\n",
    "\n",
    "print('expression_4 =', expression_4)"
   ]
  },
  {
   "cell_type": "markdown",
   "metadata": {},
   "source": [
    "**Expression 5**: $ x^4 + 3x^3 - 5x^2 + 7x - 2 $"
   ]
  },
  {
   "cell_type": "code",
   "execution_count": 9,
   "metadata": {},
   "outputs": [
    {
     "name": "stdout",
     "output_type": "stream",
     "text": [
      "expression_5 = 32\n"
     ]
    }
   ],
   "source": [
    "expression_5 = x**4 + 3*x**3 - 5*x**2 + 7*x - 2\n",
    "\n",
    "print('expression_5 =', expression_5)"
   ]
  },
  {
   "cell_type": "markdown",
   "metadata": {},
   "source": [
    "**Expression 6**: $ x^2 \\cdot y^3 - z $"
   ]
  },
  {
   "cell_type": "code",
   "execution_count": 10,
   "metadata": {},
   "outputs": [
    {
     "name": "stdout",
     "output_type": "stream",
     "text": [
      "expression_6 = -504\n"
     ]
    }
   ],
   "source": [
    "expression_6 = (x**2 * y**3) - z\n",
    "\n",
    "print('expression_6 =', expression_6)"
   ]
  },
  {
   "cell_type": "markdown",
   "metadata": {},
   "source": [
    "**Expression 7**: $ \\frac{x^2 + y^3}{z} $"
   ]
  },
  {
   "cell_type": "code",
   "execution_count": 11,
   "metadata": {},
   "outputs": [
    {
     "name": "stdout",
     "output_type": "stream",
     "text": [
      "expression_7 = -30.25\n"
     ]
    }
   ],
   "source": [
    "expression_7 = (x**2 + y**3) / z\n",
    "\n",
    "print('expression_7 =', expression_7)"
   ]
  },
  {
   "cell_type": "markdown",
   "metadata": {},
   "source": [
    "**Expression 8**: $ x^3 - 2x^2 + xy + z^2 $"
   ]
  },
  {
   "cell_type": "code",
   "execution_count": 12,
   "metadata": {},
   "outputs": [
    {
     "name": "stdout",
     "output_type": "stream",
     "text": [
      "expression_8 = 6\n"
     ]
    }
   ],
   "source": [
    "expression_8 = x**3 - 2*x**2 + x*y + z**2\n",
    "\n",
    "print('expression_8 =', expression_8)"
   ]
  },
  {
   "cell_type": "markdown",
   "metadata": {},
   "source": [
    "**Expression 9**: $ -2x^6 - x^2 + \\frac{y^3}{\\sqrt{z}} + 2 $"
   ]
  },
  {
   "cell_type": "code",
   "execution_count": 13,
   "metadata": {},
   "outputs": [
    {
     "name": "stdout",
     "output_type": "stream",
     "text": [
      "expression_9 = -194.5\n"
     ]
    }
   ],
   "source": [
    "expression_9 = -2*(x)**6 - x**2 + y**3/z**(1/2)\n",
    "\n",
    "print('expression_9 =', expression_9)"
   ]
  },
  {
   "cell_type": "code",
   "execution_count": 18,
   "metadata": {},
   "outputs": [
    {
     "name": "stdout",
     "output_type": "stream",
     "text": [
      "✅ Expression 1 is correct.\n",
      "✅ Expression 2 is correct.\n",
      "✅ Expression 3 is correct.\n",
      "✅ Expression 4 is correct.\n",
      "✅ Expression 5 is correct.\n",
      "✅ Expression 6 is correct.\n",
      "✅ Expression 7 is correct.\n",
      "✅ Expression 8 is correct.\n",
      "✅ Expression 9 is correct.\n"
     ]
    }
   ],
   "source": [
    "# Run to check solution\n",
    "exercises.check_solution_n2_lab3(\n",
    "    expression_1, \n",
    "    expression_2, \n",
    "    expression_3, \n",
    "    expression_4, \n",
    "    expression_5, \n",
    "    expression_6, \n",
    "    expression_7, \n",
    "    expression_8, \n",
    "    expression_9\n",
    ")"
   ]
  },
  {
   "cell_type": "markdown",
   "metadata": {},
   "source": [
    "### Exercise 3: Modify the Variable to Make the Expression `True` ✔️\n",
    "\n",
    "You are given several expressions that currently evaluate to `False`. Your task is to **modify the variable values** to make the expression evaluate to `True`. \n",
    "\n",
    "**Example**:\n",
    "```python\n",
    "x = 5\n",
    "result = (x > 10)  # Modify x to make this True\n",
    "```\n",
    "\n",
    "You could modify `x = 11` to make the expression `True`."
   ]
  },
  {
   "cell_type": "code",
   "execution_count": 24,
   "metadata": {},
   "outputs": [],
   "source": [
    "# Expression 1: Modify x\n",
    "x = 21\n",
    "\n",
    "result_1 = (x > 20)\n",
    "\n",
    "\n",
    "# Expression 2: Modify y\n",
    "y = \"Python\"\n",
    "phrase = \"Learning Python is fun!\"\n",
    "\n",
    "result_2 = (y in phrase)\n",
    "\n",
    "\n",
    "# Expression 3: Modify z\n",
    "x = 5\n",
    "z = 6\n",
    "\n",
    "result_3 = (z != x) and (z >= 5)\n",
    "\n",
    "\n",
    "# Expression 4: Modify z\n",
    "x = 10\n",
    "y = 5\n",
    "z = 15\n",
    "\n",
    "result_4 = ((x + y + z) == 30)\n",
    "\n",
    "\n",
    "# Expression 5: Modify x\n",
    "x = 2\n",
    "\n",
    "result_5 = (x**3 == 8) and (2*x + 18 == 22)\n",
    "\n",
    "\n",
    "# Expression 6: Modify x\n",
    "x = 100\n",
    "\n",
    "result_6 = (type(x) is int)\n",
    "\n",
    "\n",
    "# Expression 7: Modify a and b\n",
    "a = 20\n",
    "b = 5\n",
    "\n",
    "result_7 = (a / b == 4)\n",
    "\n",
    "\n",
    "# Expression 8: Modify x so that x is between 5 and 10 (inclusive)\n",
    "x = 6\n",
    "\n",
    "result_8 = ((5 <= x <= 10) and x != 8) # Idiomatic Python\n",
    "\n",
    "\n",
    "# Expression 9: Modify a, b, c\n",
    "a = 49\n",
    "b = 7\n",
    "c = \"code\"\n",
    "sentence = \"Let's write some code!\"\n",
    "\n",
    "result_9 = ((a / b == 7) or (b * 3 == 21)) and (c in sentence) and (type(a) is int)"
   ]
  },
  {
   "cell_type": "code",
   "execution_count": 25,
   "metadata": {
    "scrolled": false
   },
   "outputs": [
    {
     "name": "stdout",
     "output_type": "stream",
     "text": [
      "✅ Expression 1 is correct.\n",
      "✅ Expression 2 is correct.\n",
      "✅ Expression 3 is correct.\n",
      "✅ Expression 4 is correct.\n",
      "✅ Expression 5 is correct.\n",
      "✅ Expression 6 is correct.\n",
      "✅ Expression 7 is correct.\n",
      "✅ Expression 8 is correct.\n",
      "✅ Expression 9 is correct.\n"
     ]
    }
   ],
   "source": [
    "# Run to check solution\n",
    "exercises.check_solution_n3_lab3(result_1, result_2, result_3, result_4, result_5, result_6, result_7, result_8, result_9)"
   ]
  },
  {
   "cell_type": "markdown",
   "metadata": {},
   "source": [
    "## Python Strings Manipulation 🧵\n",
    "\n",
    "<br>\n",
    "\n",
    "![String Manipulation](https://cdn.sanity.io/images/oaglaatp/production/093675c2dcb5693a30989db797466cc1e4d1a6ae-5001x2501.jpg?w=5001&h=2501&auto=format)\n",
    "\n",
    "### Why Learn String Manipulation? ✂️\n",
    "\n",
    "Strings are everywhere in programming! Whether you're working with user input, formatting data, or displaying results, you'll almost certainly encounter strings. **String manipulation** refers to techniques that allow you to modify, combine, or break down strings to fit your needs.\n",
    "\n",
    "Why is this important? 🌟\n",
    "\n",
    "Imagine you're building an application that asks users for their names or processes large sets of text data. Being able to manipulate strings means you can:\n",
    "- Format text to display information cleanly.\n",
    "- Combine or split text in useful ways.\n",
    "- Search, replace, and edit parts of strings with ease."
   ]
  },
  {
   "cell_type": "markdown",
   "metadata": {},
   "source": [
    "### Strings in Python 🖹\n",
    "\n",
    "We’ve already had a brief introduction to the **`str`** (string) type in Python, but now we’ll dive deeper into this very useful type and how we can **manipulate strings** to suit our needs.\n",
    "\n",
    "A **string** is a **sequence of characters** enclosed within quotation marks. Python allows you to use **single quotes** (`'`) or **double quotes** (`\"`), and they are functionally equivalent (we have already seen this). So, what’s the difference between the two? Well, the main difference comes down to convenience when you’re dealing with quotes inside your string.\n",
    "\n",
    "#### Example:\n"
   ]
  },
  {
   "cell_type": "code",
   "execution_count": null,
   "metadata": {},
   "outputs": [],
   "source": [
    "# Using double quotes for a string containing single quotes\n",
    "phrase_1 = \"It's a beautiful day!\"\n",
    "\n",
    "# Using single quotes for a string containing double quotes\n",
    "phrase_2 = 'She said, \"Hello!\"'\n",
    "\n",
    "print(phrase_1)\n",
    "print(phrase_2)"
   ]
  },
  {
   "cell_type": "markdown",
   "metadata": {},
   "source": [
    "By choosing the appropriate quotation marks, you can avoid the need to **escape** internal quotes using backslashes (`\\`)."
   ]
  },
  {
   "cell_type": "code",
   "execution_count": null,
   "metadata": {
    "scrolled": true
   },
   "outputs": [],
   "source": [
    "# Using a escape for using internal single quotes\n",
    "phrase_3 = 'Don\\'t put too many irons in the fire.'\n",
    "\n",
    "print(phrase_3)"
   ]
  },
  {
   "cell_type": "markdown",
   "metadata": {},
   "source": [
    "However, working with **escape characters** like backslashes (`\\`) can pose some problems when dealing with certain text, such as file paths. For example, if we want to define a file path like `C:\\Users\\Documents\\new_folder`, we would need to escape the backslashes, because in Python, the backslash is used as an escape character.\n",
    "\n",
    "\n",
    "Notice how we have to **double** each backslash (`\\\\`) to make sure Python doesn't treat it as an escape sequence. This can quickly become cumbersome and hard to read in complex file paths or regular expressions."
   ]
  },
  {
   "cell_type": "code",
   "execution_count": null,
   "metadata": {},
   "outputs": [],
   "source": [
    "# Without escapes\n",
    "path = \"C:\\sers\\Documents\\new_folder\"\n",
    "print(path)\n",
    "\n",
    "# With escapes\n",
    "path_escaped = \"C:\\\\Users\\\\Documents\\\\new_folder\"\n",
    "print(path_escaped)"
   ]
  },
  {
   "cell_type": "markdown",
   "metadata": {},
   "source": [
    "This is where **raw strings** come in handy! Raw strings make it easier to work with backslashes by treating them **literally**, so you don't have to escape them. To create a raw string, you simply prefix the string with an `r`."
   ]
  },
  {
   "cell_type": "code",
   "execution_count": null,
   "metadata": {},
   "outputs": [],
   "source": [
    "path = r\"C:\\Users\\Documents\\new_folder\"  # No need to escape the backslashes\n",
    "print(path)"
   ]
  },
  {
   "cell_type": "markdown",
   "metadata": {},
   "source": [
    "By using the `r` prefix, Python treats the string as-is, which eliminates the need to escape backslashes. This is particularly useful when working with:\n",
    "- **File paths** in Windows systems.\n",
    "- **Regular expressions** that contain many special characters."
   ]
  },
  {
   "cell_type": "markdown",
   "metadata": {},
   "source": [
    "### Multi-line Strings\n",
    "\n",
    "In addition to using single or double quotes, Python provides a way to define **multi-line strings**. These are strings that span multiple lines, which is useful for paragraphs of text or longer descriptions.\n",
    "\n",
    "To create a **multi-line string**, you can use **triple quotes**: either triple double quotes (`\"\"\" \"\"\"\"`) or triple single quotes (`''' '''`)."
   ]
  },
  {
   "cell_type": "code",
   "execution_count": null,
   "metadata": {},
   "outputs": [],
   "source": [
    "multi_line = \"\"\"This is a multi-line string.\n",
    "You can write across multiple lines\n",
    "without needing to insert special characters.\"\"\"\n",
    "\n",
    "# This will print the text across multiple lines exactly as written\n",
    "print(multi_line)"
   ]
  },
  {
   "cell_type": "markdown",
   "metadata": {},
   "source": [
    "### String Indexing and Slicing 📦\n",
    "\n",
    "An interesting notion about strings is that they are essentially a **chain of characters**, much like a **sequence of successive squares** \"🇭 🇪 🇱 🇱 🇴\", where each square contains a specific character. These characters can include **letters**, **numbers**, **special symbols**, **spaces**, and more. \n",
    "\n",
    "This structure allows us to think of strings as a **sequence**, where each character occupies a specific **position** in the string. In Python, we can access each character of a string by using **square brackets** (`[]`), which is called **indexing**. Alternatively, we can also return a range of characters by using **slicing**.\n",
    "\n",
    "Although we will dive deeper into different types of indexing/slicing in the next class, this simple concept already allows us to perform some interesting string manipulations!"
   ]
  },
  {
   "cell_type": "markdown",
   "metadata": {},
   "source": [
    "#### Accessing Characters in a String\n",
    "\n",
    "Every character in a string has a **position**, called an **index**, which tells us where the character is located. In Python, **indexing starts at 0**. This means the first character in the string has an index of 0, the second character has an index of 1, and so on."
   ]
  },
  {
   "cell_type": "code",
   "execution_count": null,
   "metadata": {},
   "outputs": [],
   "source": [
    "word = \"Python\"\n",
    "\n",
    "print('word:', word)\n",
    "\n",
    "print(word[0]) # first character\n",
    "print(word[1])\n",
    "print(word[5])"
   ]
  },
  {
   "cell_type": "markdown",
   "metadata": {},
   "source": [
    "#### Negative Indexing\n",
    "\n",
    "Python also allows **negative indexing**, where **-1** refers to the **last character**, **-2** to the **second-to-last** character, and so on."
   ]
  },
  {
   "cell_type": "code",
   "execution_count": null,
   "metadata": {},
   "outputs": [],
   "source": [
    "print('word:', word)\n",
    "\n",
    "print(word[-1])  # last character\n",
    "print(word[-2])  # second-to-last character"
   ]
  },
  {
   "cell_type": "markdown",
   "metadata": {},
   "source": [
    "#### String Slicing\n",
    "\n",
    "Beyond accessing individual characters, we can also use **slicing** to extract a portion of the string, called a **substring**. We can do this by specifying the **start** and **end** indices, separated by a colon (`:`). The slice will include characters from the start index up to (**but not including**) the end index."
   ]
  },
  {
   "cell_type": "code",
   "execution_count": null,
   "metadata": {},
   "outputs": [],
   "source": [
    "print('word:', word)\n",
    "\n",
    "print(word[1:4]) "
   ]
  },
  {
   "cell_type": "markdown",
   "metadata": {},
   "source": [
    "In this case, we extracted the substring `\"yth\"` by starting at index 1 and stopping at index 4 (not included)."
   ]
  },
  {
   "cell_type": "markdown",
   "metadata": {},
   "source": [
    "#### Omitting Start or End Index\n",
    "\n",
    "When slicing, if you **omit the start index**, Python will start from the **beginning of the string**. Similarly, if you **omit the end index**, Python will slice the string **up to the last character**."
   ]
  },
  {
   "cell_type": "code",
   "execution_count": null,
   "metadata": {},
   "outputs": [],
   "source": [
    "print('word:', word)\n",
    "\n",
    "# Slice from the start to index 3\n",
    "print(word[:4])  \n",
    "\n",
    "# Slice from index 2 to the end\n",
    "print(word[2:]) "
   ]
  },
  {
   "cell_type": "markdown",
   "metadata": {},
   "source": [
    "<div style=\"border: 2px solid #84bd7b; padding: 10px; background-color: #d8f5d3; border-radius: 5px;\">\n",
    "\n",
    "### Infobox ℹ️\n",
    "\n",
    "**Reversing a String**\n",
    "\n",
    "You can reverse a string by using slicing with a **negative step** (`-1`), which tells Python to step through the string backward. This is a simple and powerful technique for reversing any string.\n",
    "\n",
    "#### Example:\n",
    "```python\n",
    "text = \"Time\"\n",
    "reversed_text = text[::-1]\n",
    "print(reversed_text) # -> emit\n",
    "```\n",
    "\n",
    "In this case, `text[::-1]` reverses the string by starting at the end and stepping backward through the entire string.\n",
    "</div>"
   ]
  },
  {
   "cell_type": "markdown",
   "metadata": {},
   "source": [
    "### String Manipulation ✍️"
   ]
  },
  {
   "cell_type": "markdown",
   "metadata": {},
   "source": [
    "Python has a set of **built-in commands** (also known as **methods**) that you can use for manipulating strings. These methods allow you to perform various operations on strings easily, such as modifying their format, searching for substrings, and splitting strings into smaller parts. While there are many string methods available, we will focus on some of the **most common** and **useful** ones."
   ]
  },
  {
   "cell_type": "markdown",
   "metadata": {},
   "source": [
    "### 1. **`.upper()`** and **`.lower()`**\n",
    "\n",
    "These methods are used to convert a string to **uppercase** or **lowercase** letters.\n"
   ]
  },
  {
   "cell_type": "code",
   "execution_count": null,
   "metadata": {},
   "outputs": [],
   "source": [
    "text = \"In theory, theory and practice are the same. In practice, they’re not.\"\n",
    "\n",
    "print(text.upper())  \n",
    "print(text.lower())  "
   ]
  },
  {
   "cell_type": "markdown",
   "metadata": {},
   "source": [
    "### 2. **`.strip()`**\n",
    "\n",
    "The `.strip()` method removes any leading or trailing **whitespace** (spaces, tabs, etc.) from a string. You can also specify a character to strip from both ends."
   ]
  },
  {
   "cell_type": "code",
   "execution_count": null,
   "metadata": {},
   "outputs": [],
   "source": [
    "text = \"   Word   \"\n",
    "print(text.strip())\n",
    "\n",
    "# Stripping specific characters\n",
    "text_with_dashes = \"-!- Word-of-mouth-!-\"\n",
    "print(text_with_dashes.strip(\" -!\"))"
   ]
  },
  {
   "cell_type": "markdown",
   "metadata": {},
   "source": [
    "### 3. **`.replace(old, new)`**\n",
    "\n",
    "This method **replaces** all occurrences of a substring with another substring. It’s very useful when you need to modify certain parts of a string."
   ]
  },
  {
   "cell_type": "code",
   "execution_count": null,
   "metadata": {},
   "outputs": [],
   "source": [
    "text = \"'Quem tem alma não tem calma.' – Fernando I de Leão\"\n",
    "print(text.replace(\"I de Leão\", \"Pessoa\"))"
   ]
  },
  {
   "cell_type": "markdown",
   "metadata": {},
   "source": [
    "### 4. **`.find(substring)`**\n",
    "\n",
    "The `.find()` method searches for a **substring** in a string and returns the **index** where the substring is found. If the substring is not found, it returns `-1`."
   ]
  },
  {
   "cell_type": "code",
   "execution_count": null,
   "metadata": {},
   "outputs": [],
   "source": [
    "text = \"One small step for man, one giant leap for mankind.\"\n",
    "\n",
    "index = text.find(\"mankind\")\n",
    "print(index)\n",
    "\n",
    "index = text.find(\"Fernando\")\n",
    "print(index)"
   ]
  },
  {
   "cell_type": "markdown",
   "metadata": {},
   "source": [
    "### 5. **`.split()`**\n",
    "\n",
    "The `.split()` method **splits** a string into a list of substrings based on a specified **delimiter** (default is whitespace). This is helpful when you need to break a sentence into words or extract different parts of a string."
   ]
  },
  {
   "cell_type": "code",
   "execution_count": null,
   "metadata": {},
   "outputs": [],
   "source": [
    "text = \"Programming is learned by writing programs.\"\n",
    "words = text.split()  # Splits by spaces by default\n",
    "print(words) \n",
    "\n",
    "# Splitting by a specific character\n",
    "text_with_commas = \"participant_id,age,height,weight\"\n",
    "columns = text_with_commas.split(',')\n",
    "print(fruits)"
   ]
  },
  {
   "cell_type": "markdown",
   "metadata": {},
   "source": [
    "### 6. **`.join()`**\n",
    "\n",
    "The `.join()` method does the **opposite** of `.split()`. It joins a list of strings into a single string with a specified **delimiter** between each part."
   ]
  },
  {
   "cell_type": "code",
   "execution_count": null,
   "metadata": {},
   "outputs": [],
   "source": [
    "print(words) # List of words\n",
    "\n",
    "sentence = \" \".join(words)\n",
    "print(sentence)"
   ]
  },
  {
   "cell_type": "markdown",
   "metadata": {},
   "source": [
    "### 7. **`.startswith()`** and **`.endswith()`**\n",
    "\n",
    "These methods check whether a string **starts** or **ends** with a specific substring and return `True` or `False`.\n"
   ]
  },
  {
   "cell_type": "code",
   "execution_count": null,
   "metadata": {},
   "outputs": [],
   "source": [
    "text = \"Start where you are. Use what you have. Do what you can.\"\n",
    "\n",
    "print(text.startswith(\"Start\"))  \n",
    "print(text.endswith(\"can.\"))\n",
    "print(text.startswith(\"Use\", 21))"
   ]
  },
  {
   "cell_type": "markdown",
   "metadata": {},
   "source": [
    "### 8. **`.count(substring)`**\n",
    "\n",
    "The `.count()` method counts how many times a **substring** occurs in a string."
   ]
  },
  {
   "cell_type": "code",
   "execution_count": null,
   "metadata": {},
   "outputs": [],
   "source": [
    "text = \"Banana\"\n",
    "\n",
    "print(text.count(\"na\"))"
   ]
  },
  {
   "cell_type": "markdown",
   "metadata": {},
   "source": [
    "Now, these are just a few of the many commands you can use to manipulate strings in Python. As you dive deeper into Python programming, you'll encounter even more methods that can help you work with strings efficiently, from formatting to searching, and much more! 🎯\n",
    "\n",
    "If you want to explore all the available string methods in Python, check out this comprehensive resource: https://www.w3schools.com/python/python_strings_methods.asp"
   ]
  },
  {
   "cell_type": "markdown",
   "metadata": {},
   "source": [
    "### String Formating 💅"
   ]
  },
  {
   "cell_type": "markdown",
   "metadata": {},
   "source": [
    "There is an additional method that will be very useful for us. As we have seen, if we try to concatenate text with numeric values, we end up with an error. For example, if we try to run the following:"
   ]
  },
  {
   "cell_type": "code",
   "execution_count": null,
   "metadata": {},
   "outputs": [],
   "source": [
    "age = 26\n",
    "message = \"I am \" + age + \" years old.\""
   ]
  },
  {
   "cell_type": "markdown",
   "metadata": {},
   "source": [
    "Well, this is where the **`format()`** method or **f-strings** come in handy! These methods allow us to combine strings and variables (including numbers) without needing to manually convert numbers to strings.\n",
    "\n",
    "#### Using the `format()` Method\n",
    "\n",
    "The `format()` method is a powerful way to **insert variables** into strings. It allows you to place **curly brackets** (`{}`) in a string as placeholders, and then pass the variables inside the `.format()` function to replace those placeholders."
   ]
  },
  {
   "cell_type": "code",
   "execution_count": null,
   "metadata": {
    "scrolled": true
   },
   "outputs": [],
   "source": [
    "age = 25\n",
    "message = \"I am {} years old.\".format(age)\n",
    "\n",
    "print(message)"
   ]
  },
  {
   "cell_type": "markdown",
   "metadata": {},
   "source": [
    "Here, the curly brackets `{}` act as a placeholder, and the value of `age` is inserted where the curly brackets are. You can pass multiple variables to the `format()` method as well:"
   ]
  },
  {
   "cell_type": "code",
   "execution_count": null,
   "metadata": {},
   "outputs": [],
   "source": [
    "name = \"John Doe\"\n",
    "age = 25\n",
    "message = \"My name is {} and I am {} years old.\".format(name, age)\n",
    "print(message)  "
   ]
  },
  {
   "cell_type": "markdown",
   "metadata": {},
   "source": [
    "#### Using f-Strings (Formatted String Literals)\n",
    "\n",
    "F-strings are an even more **concise** and **readable** way to include variables in a string. To specify an f-string, you simply put an **`f`** in front of the string and add **curly brackets** `{}` as placeholders for the variables."
   ]
  },
  {
   "cell_type": "code",
   "execution_count": null,
   "metadata": {},
   "outputs": [],
   "source": [
    "age = 25\n",
    "message = f\"I am {age} years old.\"\n",
    "\n",
    "print(message)  "
   ]
  },
  {
   "cell_type": "markdown",
   "metadata": {},
   "source": [
    "As you can see, f-strings allow you to embed variables directly inside the string, which makes the code **cleaner** and easier to read. You can even perform **expressions** and apply **modifiers** to control the formatting of values. Here are a few examples:"
   ]
  },
  {
   "cell_type": "code",
   "execution_count": null,
   "metadata": {},
   "outputs": [],
   "source": [
    "# Example math operations\n",
    "age = 25\n",
    "next_year = f\"Next year I will be {age + 1} years old.\"\n",
    "print(next_year)\n",
    "\n",
    "\n",
    "# Example with decimal places\n",
    "price = 1234.56789\n",
    "formatted_price = f\"The price is {price:.2f} dollars.\"\n",
    "print(formatted_price)\n",
    "\n",
    "\n",
    "# Example with comma separator\n",
    "large_number = 1000000\n",
    "formatted_number = f\"The large number is {large_number:,}.\"\n",
    "print(formatted_number)\n",
    "\n",
    "\n",
    "# Example with percentages\n",
    "score = 0.85\n",
    "formatted_score = f\"Your score is {score:.1%}.\"\n",
    "print(formatted_score)"
   ]
  },
  {
   "cell_type": "markdown",
   "metadata": {},
   "source": [
    "<div style=\"border: 2px solid #ababab; padding: 10px; background-color: #ebedeb; border-radius: 5px;\">\n",
    "\n",
    "# Exercises 🏃\n",
    "\n",
    "</div>"
   ]
  },
  {
   "cell_type": "markdown",
   "metadata": {},
   "source": [
    "### Exercise 1: String Slicing\n",
    "In this exercise, you’ll use the string ``text = \"Actions speak louder than words.\"`` to explore various string slicing techniques."
   ]
  },
  {
   "cell_type": "code",
   "execution_count": 26,
   "metadata": {},
   "outputs": [
    {
     "name": "stdout",
     "output_type": "stream",
     "text": [
      "Fourth letter: i\n",
      "Last letter: .\n",
      "First word: Actions\n",
      "Last word: words\n",
      "Slice 'speak louder': speak louder\n",
      "Text without first and last characters: ctions speak louder than words\n",
      "Reversed text: .sdrow naht reduol kaeps snoitcA\n"
     ]
    }
   ],
   "source": [
    "# Starting string\n",
    "text = \"Actions speak louder than words.\"\n",
    "\n",
    "\n",
    "# 1. Index the 4th letter of the text.\n",
    "fourth_letter = text[3]  # Indexing starts from 0\n",
    "print(\"Fourth letter:\", fourth_letter)\n",
    "\n",
    "\n",
    "# 2. Index the last letter of the text.\n",
    "last_letter = text[-1]\n",
    "print(\"Last letter:\", last_letter)\n",
    "\n",
    "\n",
    "# 3. Slice and print the first word \"Actions\" from the string.\n",
    "first_word = text[:7]\n",
    "print(\"First word:\", first_word)\n",
    "\n",
    "\n",
    "# 4. Slice and print the last word \"words\" from the string.\n",
    "last_word = text[-6:-1]\n",
    "print(\"Last word:\", last_word)\n",
    "\n",
    "\n",
    "# 5. Slice and print the words \"speak louder\".\n",
    "speak_louder = text[8:20]\n",
    "print(\"Slice 'speak louder':\", speak_louder)\n",
    "\n",
    "\n",
    "# 6. Slice and print the entire string except for the first and last characters.\n",
    "middle_text = text[1:-1]\n",
    "print(\"Text without first and last characters:\", middle_text)\n",
    "\n",
    "\n",
    "# 7. Reverse the entire string using slicing.\n",
    "reversed_text = text[::-1]\n",
    "print(\"Reversed text:\", reversed_text)"
   ]
  },
  {
   "cell_type": "code",
   "execution_count": 28,
   "metadata": {},
   "outputs": [
    {
     "name": "stdout",
     "output_type": "stream",
     "text": [
      "✅ The 4th letter is correct: i\n",
      "✅ The last letter is correct: .\n",
      "✅ The first word is correct: Actions\n",
      "✅ The last word is correct: words\n",
      "✅ The slice 'speak louder' is correct: speak louder\n",
      "✅ The text without first and last characters is correct: ctions speak louder than words\n",
      "✅ The reversed text is correct: .sdrow naht reduol kaeps snoitcA\n"
     ]
    }
   ],
   "source": [
    "exercises.check_solution_n4_lab3(\n",
    "    text=\"Actions speak louder than words.\",\n",
    "    fourth_letter=fourth_letter,\n",
    "    last_letter=last_letter,\n",
    "    first_word=first_word,\n",
    "    last_word=last_word,\n",
    "    speak_louder=speak_louder,\n",
    "    middle_text=middle_text,\n",
    "    reversed_text=reversed_text\n",
    ")"
   ]
  },
  {
   "cell_type": "markdown",
   "metadata": {},
   "source": [
    "### Exercise 2: String Manipulation\n",
    "In this exercise, you'll explore several string manipulation methods using the string ``text = \"Practice makes perfect\"``.\n",
    "\n"
   ]
  },
  {
   "cell_type": "code",
   "execution_count": 29,
   "metadata": {},
   "outputs": [
    {
     "name": "stdout",
     "output_type": "stream",
     "text": [
      "Starts with 'Practice': True\n",
      "Ends with 'perfect': True\n",
      "Number of 'e's: 4\n",
      "Index of 'makes': 9\n",
      "After replacement: Practice creates perfect\n",
      "List of words: ['Practice', 'makes', 'perfect']\n",
      "Joined text: Practice, makes, perfect\n",
      "Uppercase text: PRACTICE MAKES PERFECT\n",
      "Number of vowels: 7\n"
     ]
    }
   ],
   "source": [
    "# Starting string\n",
    "text = \"Practice makes perfect\"\n",
    "\n",
    "\n",
    "# 1. Check if the string starts with the word \"Practice\"\n",
    "starts_with_practice = text.startswith(\"Practice\")\n",
    "print(\"Starts with 'Practice':\", starts_with_practice)\n",
    "\n",
    "\n",
    "# 2. Check if the string ends with the word \"perfect\".\n",
    "ends_with_perfect = text.endswith(\"perfect\")\n",
    "print(\"Ends with 'perfect':\", ends_with_perfect)\n",
    "\n",
    "\n",
    "# 3. Count how many times the letter \"e\" appears in the string.\n",
    "count_e = text.count(\"e\")\n",
    "print(\"Number of 'e's:\", count_e)\n",
    "\n",
    "\n",
    "# 4. Find the index of the word \"makes\" in the string.\n",
    "index_makes = text.find(\"makes\")\n",
    "print(\"Index of 'makes':\", index_makes)\n",
    "\n",
    "\n",
    "# 5. Replace the word \"makes\" with \"creates\" in the string.\n",
    "new_text = text.replace(\"makes\", \"creates\")\n",
    "print(\"After replacement:\", new_text)\n",
    "\n",
    "\n",
    "# 6. Split the string into a list of words and print the list.\n",
    "words_list = text.split()\n",
    "print(\"List of words:\", words_list)\n",
    "\n",
    "\n",
    "# 7. Join the words back into a single string (separated by commas).\n",
    "joined_text = \", \".join(words_list)\n",
    "print(\"Joined text:\", joined_text)\n",
    "\n",
    "\n",
    "# 8. Capitalize all letters of the string.\n",
    "uppercase_text = text.upper()\n",
    "print(\"Uppercase text:\", uppercase_text)\n",
    "\n",
    "\n",
    "# 9. Count the number of vowels in the string.\n",
    "number_a = text.lower().count('a')\n",
    "number_e = text.lower().count('e')\n",
    "number_i = text.lower().count('i')\n",
    "number_o = text.lower().count('o')\n",
    "number_u = text.lower().count('u')\n",
    "\n",
    "number_vowels = number_a + number_e + number_i + number_o + number_u\n",
    "print(\"Number of vowels:\", number_vowels)"
   ]
  },
  {
   "cell_type": "code",
   "execution_count": 30,
   "metadata": {},
   "outputs": [
    {
     "name": "stdout",
     "output_type": "stream",
     "text": [
      "✅ 'Starts with Practice' is correct.\n",
      "✅ 'Ends with perfect' is correct.\n",
      "✅ The count of 'e' is correct: 4.\n",
      "✅ The index of 'makes' is correct: 9.\n",
      "✅ The replaced text is correct.\n",
      "✅ The list of words is correct: ['Practice', 'makes', 'perfect'].\n",
      "✅ The joined text is correct: Practice, makes, perfect.\n",
      "✅ The uppercase text is correct: PRACTICE MAKES PERFECT.\n",
      "✅ The number of vowels is correct: 7.\n"
     ]
    }
   ],
   "source": [
    "exercises.check_solution_n5_lab3(\n",
    "    text=\"Practice makes perfect\",\n",
    "    starts_with_practice=starts_with_practice,\n",
    "    ends_with_perfect=ends_with_perfect,\n",
    "    count_e=count_e,\n",
    "    index_makes=index_makes,\n",
    "    new_text=new_text,\n",
    "    words_list=words_list,\n",
    "    joined_text=joined_text,\n",
    "    uppercase_text=uppercase_text,\n",
    "    number_vowels=number_vowels\n",
    ")"
   ]
  },
  {
   "cell_type": "markdown",
   "metadata": {},
   "source": [
    "### Exercise 3: Data Cleaning and Formatting\n",
    "\n",
    "Given the following text, perform the necessary string operations to clean, format, and analyze the data. Assume this text is coming from a file and needs to be processed."
   ]
  },
  {
   "cell_type": "code",
   "execution_count": 31,
   "metadata": {},
   "outputs": [
    {
     "name": "stdout",
     "output_type": "stream",
     "text": [
      "\n",
      "Lowercased Text: \n",
      "   actions speak louder  than words!   it  is not what you say,  but what you do! actions matter  more than words.  \n",
      "\n",
      "\n",
      "Replaced Text: \n",
      "   actions speak louder  than words!   it  is not how you say,  but how you do! actions matter  more than words.  \n",
      "\n",
      "Sentence 1: \n",
      "   actions speak louder  than words\n",
      "Sentence 2:    it  is not how you say,  but how you do\n",
      "Sentence 3:  actions matter  more than words.  \n",
      "\n",
      "\n",
      "Original Text:\n",
      "\n",
      "   actions speak louder  than WORDS!   It  is not WHAT you SAY,  but WHAT you DO! actions matter  more than WORDS.  \n",
      "\n",
      "\n",
      "Cleaned Sentences:\n",
      "(Sentence 1 Cleaned) actions speak louder than words.\n",
      "(Sentence 2 Cleaned) it is not how you say, but how you do.\n",
      "(Sentence 3 Cleaned) actions matter more than words.\n",
      "\n",
      "The word 'actions' appears 2 times.\n"
     ]
    }
   ],
   "source": [
    "# Initial text\n",
    "raw_text = \"\"\"\n",
    "   actions speak louder  than WORDS!   It  is not WHAT you SAY,  but WHAT you DO! actions matter  more than WORDS.  \n",
    "\"\"\"\n",
    "\n",
    "\n",
    "# 1. Convert the entire text to lowercase.\n",
    "clean_text = raw_text.lower()\n",
    "print('\\nLowercased Text:', clean_text)\n",
    "\n",
    "\n",
    "# 2. Replace the word \"what\" with \"how\" in the entire text.\n",
    "clean_text = clean_text.replace(\"what\", \"how\")\n",
    "print('\\nReplaced Text:', clean_text)\n",
    "\n",
    "\n",
    "# 3. Split the text into sentences and store them (assume sentences end with \"!\"). Complete the print function.\n",
    "sentence_1, sentence_2, sentence_3 = clean_text.split('!')\n",
    "print(f\"Sentence 1: {sentence_1}\")\n",
    "print(f\"Sentence 2: {sentence_2}\")\n",
    "print(f\"Sentence 3: {sentence_3}\")\n",
    "\n",
    "\n",
    "# 5. Replace the additional spaces \"  \" with a single space \" \".\n",
    "sentence_1 = sentence_1.replace(\"  \", \" \")\n",
    "sentence_2 = sentence_2.replace(\"  \", \" \")\n",
    "sentence_3 = sentence_3.replace(\"  \", \" \")\n",
    "\n",
    "\n",
    "# 6. Remove leading and trailing spaces in the sentences.\n",
    "sentence_1 = sentence_1.strip()\n",
    "sentence_2 = sentence_2.strip()\n",
    "sentence_3 = sentence_3.strip()\n",
    "\n",
    "\n",
    "# 7. Check whether the cleaned sentences end with a period (\".\") and add (concatenate) one if they don't.\n",
    "sentence_1 = sentence_1 + '.'\n",
    "sentence_2 = sentence_2 + '.'\n",
    "sentence_3 = sentence_3\n",
    "\n",
    "\n",
    "# 8. Count the number of occurrences of the word \"actions\" in the text and write the correct f-string\n",
    "actions_count = clean_text.count(\"actions\")\n",
    "\n",
    "\n",
    "# Phrase: The word 'actions' appears ... times.\n",
    "num_occurences = f\"The word 'actions' appears {actions_count} times.\"\n",
    "\n",
    "\n",
    "#9. Format and print the final cleaned text using the available variables.\n",
    "print(\"\\nOriginal Text:\")\n",
    "print(raw_text)\n",
    "\n",
    "print(\"\\nCleaned Sentences:\")\n",
    "print(f\"(Sentence 1 Cleaned) {sentence_1}\")\n",
    "print(f\"(Sentence 2 Cleaned) {sentence_2}\")\n",
    "print(f\"(Sentence 3 Cleaned) {sentence_3}\")\n",
    "\n",
    "# Print the number of occurrences of \"actions\"\n",
    "print(f\"\\n{num_occurences}\")"
   ]
  },
  {
   "cell_type": "code",
   "execution_count": 32,
   "metadata": {},
   "outputs": [
    {
     "name": "stdout",
     "output_type": "stream",
     "text": [
      "✅ Sentence 1 is correct.\n",
      "✅ Sentence 2 is correct.\n",
      "✅ Sentence 3 is correct.\n",
      "✅ The number of counts of the word 'actions' is correct.\n"
     ]
    }
   ],
   "source": [
    "# Run to check solution\n",
    "exercises.check_solution_n6_lab3(sentence_1, sentence_2, sentence_3, actions_count)"
   ]
  }
 ],
 "metadata": {
  "kernelspec": {
   "display_name": "pyworkshop",
   "language": "python",
   "name": "pyworkshop"
  },
  "language_info": {
   "codemirror_mode": {
    "name": "ipython",
    "version": 3
   },
   "file_extension": ".py",
   "mimetype": "text/x-python",
   "name": "python",
   "nbconvert_exporter": "python",
   "pygments_lexer": "ipython3",
   "version": "3.12.3"
  }
 },
 "nbformat": 4,
 "nbformat_minor": 5
}
