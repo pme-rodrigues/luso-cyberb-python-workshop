{
 "cells": [
  {
   "cell_type": "markdown",
   "id": "92307d2f",
   "metadata": {},
   "source": [
    "# 🖥️ Python Laboratory 3️: Operators & String Manipulation\n",
    "<br>\n",
    "\n",
    "In this session, we'll dive into two essential concepts: Python Operators and String Manipulation. These might seem like simple building blocks, but they are critical for developing efficient, clean, and functional code. \n",
    "\n",
    "By the end of this session, you’ll have a solid grasp of:\n",
    "- **Python Operators**: Arithmetic, comparison, logical, and assignment operators.\n",
    "- **String Manipulation Techniques**: Slicing, concatenation, formatting, and common string methods.\n",
    "\n",
    "Let’s explore why mastering these topics is important. 🔍\n",
    "<br>\n",
    "\n"
   ]
  },
  {
   "cell_type": "markdown",
   "id": "f40289e1",
   "metadata": {},
   "source": [
    "## Python Operators ➕❔\n",
    "\n",
    "<br>\n",
    "\n",
    "![Jupyter Image](https://img.freepik.com/premium-vector/number-seamless-pattern-abstract-math-background-school-univerity_87543-6510.jpg)\n",
    "\n",
    "\n",
    "### Why Learn Python Operators? 🤔\n",
    "\n",
    "**Operators** allow you to perform various \"operations\" (_duh_ -.-) on variables and values. From simple mathematical calculations (like addition and subtraction) to more complex comparisons and logical operations.\n",
    "\n",
    "Python's operators are the foundation of nearly **everything you do in programming**. Whether you're analyzing data 📊, controlling program flow 🚦, or building more complex logic 🧠, operators are essential tools you will use constantly.\n",
    "\n",
    "Think of operators as the verbs of programming ⚙️ - they describe the actions you're asking Python to perform. Without them, your programs wouldn't function!"
   ]
  },
  {
   "cell_type": "markdown",
   "id": "4f31428a",
   "metadata": {},
   "source": [
    "In Python, there are a total of **7 groups of operators**, each with its own purpose:\n",
    "\n",
    "1. **Arithmetic Operators** ➕\n",
    "2. **Assignment Operators** 📝\n",
    "3. **Comparison Operators** 🔄\n",
    "4. **Logical Operators** ⚖️\n",
    "5. **Identity Operators** 👤\n",
    "6. **Membership Operators** 🔍\n",
    "7. **Bitwise Operators** 🧠\n",
    "\n",
    "However, we will **not explore Bitwise operators** in this session. Bitwise operators are used to perform comparisons at the **binary level** (ones and zeros), which is more relevant for low-level computing and less applicable in everyday programming tasks that we'll focus on. For now, our goal is to understand operators that are more **human-readable** and help us perform common tasks in Python.\n",
    "\n",
    "So, let’s start with the more **intuitive** operators—the **Arithmetic Operators**. 🎯\n",
    "<br>\n",
    "\n",
    "---\n",
    "\n",
    "### Arithmetic Operators ➕➖✖️➗\n",
    "\n",
    "**Arithmetic operators** are the most familiar operators because they perform basic mathematical operations like addition, subtraction, multiplication, and division. These operations are the foundation for many programs, whether you're calculating totals, percentages, or solving equations.\n",
    "\n",
    "Here’s a breakdown of the **arithmetic operators** in Python:\n",
    "\n",
    "- `+` **Addition**: Adds two numbers together."
   ]
  },
  {
   "cell_type": "code",
   "execution_count": null,
   "id": "47e4085a",
   "metadata": {},
   "outputs": [],
   "source": [
    "result = 3 + 2\n",
    "print('Result:', result)"
   ]
  },
  {
   "cell_type": "markdown",
   "id": "68d83747",
   "metadata": {},
   "source": [
    "- `-` **Subtraction**: Subtracts one number from another."
   ]
  },
  {
   "cell_type": "code",
   "execution_count": null,
   "id": "f8a2b8aa",
   "metadata": {},
   "outputs": [],
   "source": [
    "result = 5 - 1\n",
    "print('Result:', result)"
   ]
  },
  {
   "cell_type": "markdown",
   "id": "acdef0de",
   "metadata": {},
   "source": [
    "- `*` **Multiplication**: Multiplies two numbers."
   ]
  },
  {
   "cell_type": "code",
   "execution_count": null,
   "id": "e663f9de",
   "metadata": {},
   "outputs": [],
   "source": [
    "result = 4 * 3\n",
    "print('Result:', result)"
   ]
  },
  {
   "cell_type": "markdown",
   "id": "bfbcaaee",
   "metadata": {},
   "source": [
    "- `/` **Division**: Divides one number by another, returning a float."
   ]
  },
  {
   "cell_type": "code",
   "execution_count": null,
   "id": "ffb0bea5",
   "metadata": {
    "scrolled": true
   },
   "outputs": [],
   "source": [
    "result = 10 / 2\n",
    "print('Result:', result)"
   ]
  },
  {
   "cell_type": "markdown",
   "id": "1e9a3679",
   "metadata": {},
   "source": [
    "<div style=\"border: 2px solid #84bd7b; padding: 10px; background-color: #d8f5d3; border-radius: 5px;\">\n",
    "\n",
    "### Infobox ℹ️\n",
    "\n",
    "**Division:**\n",
    "\n",
    "- In Python, when we divide two numbers, the result is always of type `float` (even if the result is a whole number).\n",
    "  \n",
    "- If we want to work with whole numbers, we need to either use **floor division** (`//`) or convert the result to an integer using `int()`.\n",
    "\n",
    "</div>"
   ]
  },
  {
   "cell_type": "markdown",
   "id": "73f1b4e1",
   "metadata": {},
   "source": [
    "- `//` **Floor Division**: Divides one number by another and returns the largest integer smaller or equal to the result."
   ]
  },
  {
   "cell_type": "code",
   "execution_count": null,
   "id": "615418d7",
   "metadata": {},
   "outputs": [],
   "source": [
    "result = 10 // 3\n",
    "print('Result:', result)"
   ]
  },
  {
   "cell_type": "markdown",
   "id": "8c2f04a3",
   "metadata": {},
   "source": [
    "- `%` **Modulus**: Returns the remainder when one number is divided by another."
   ]
  },
  {
   "cell_type": "code",
   "execution_count": null,
   "id": "0c1af107",
   "metadata": {},
   "outputs": [],
   "source": [
    "result = 10 % 3\n",
    "print('Result:', result)"
   ]
  },
  {
   "cell_type": "markdown",
   "id": "57847dc3",
   "metadata": {},
   "source": [
    "- `**` **Exponentiation**: Raises one number to the power of another."
   ]
  },
  {
   "cell_type": "code",
   "execution_count": null,
   "id": "dba5e875",
   "metadata": {},
   "outputs": [],
   "source": [
    "result = 2 ** 3\n",
    "print('Result:', result)"
   ]
  },
  {
   "cell_type": "markdown",
   "id": "af0997a9",
   "metadata": {},
   "source": [
    "<br>\n",
    "\n",
    "---\n",
    "\n",
    "### Assignment Operators 📝\n",
    "\n",
    "**Assignment operators** are used to assign values to variables. The most common assignment operator is the simple `=` sign, - we already seen it - but Python provides several more operators that allow you to assign values while performing operations at the same time. These operators combine common tasks like adding, subtracting, or multiplying a variable with another value.\n",
    "\n",
    "Here are the most common assignment operators in Python:\n",
    "- **`+=`** **Addition Assignment**: Adds the value on the right to the variable and reassigns the result to the variable."
   ]
  },
  {
   "cell_type": "code",
   "execution_count": null,
   "id": "3553136a",
   "metadata": {},
   "outputs": [],
   "source": [
    "x = 10\n",
    "x += 5 # same as x = x + 5\n",
    "\n",
    "print('x:', x)"
   ]
  },
  {
   "cell_type": "markdown",
   "id": "58d093e9",
   "metadata": {},
   "source": [
    "- **`-=`** **Subtraction Assignment**: Subtracts the value on the right from the variable and reassigns the result to the variable."
   ]
  },
  {
   "cell_type": "code",
   "execution_count": null,
   "id": "d537c04b",
   "metadata": {},
   "outputs": [],
   "source": [
    "x = 10\n",
    "x -= 3 # same as x = x - 3\n",
    "\n",
    "print('x:', x)"
   ]
  },
  {
   "cell_type": "markdown",
   "id": "5d7cc806",
   "metadata": {},
   "source": [
    "- **`*=`** **Multiplication Assignment**: Multiplies the variable by the value on the right and reassigns the result."
   ]
  },
  {
   "cell_type": "code",
   "execution_count": null,
   "id": "91aa60ff",
   "metadata": {},
   "outputs": [],
   "source": [
    "x = 10\n",
    "x *= 2  # same as x = x * 2\n",
    "\n",
    "print('x:', x)"
   ]
  },
  {
   "cell_type": "markdown",
   "id": "d16a84c4",
   "metadata": {},
   "source": [
    "- **`/=`** **Division Assignment**: Divides the variable by the value on the right and reassigns the result."
   ]
  },
  {
   "cell_type": "code",
   "execution_count": null,
   "id": "54228845",
   "metadata": {},
   "outputs": [],
   "source": [
    "x = 10\n",
    "x /= 2  # same as x = x / 4\n",
    "\n",
    "print('x:', x)"
   ]
  },
  {
   "cell_type": "markdown",
   "id": "95b12767",
   "metadata": {},
   "source": [
    "- **`//=`** **Floor Division Assignment**: Performs floor division on the variable and reassigns the result."
   ]
  },
  {
   "cell_type": "code",
   "execution_count": null,
   "id": "8395d1bd",
   "metadata": {},
   "outputs": [],
   "source": [
    "x = 10\n",
    "x //= 3  # same as x = x // 2\n",
    "\n",
    "print('x:', x)"
   ]
  },
  {
   "cell_type": "markdown",
   "id": "89c1f97a",
   "metadata": {},
   "source": [
    "- **`%=`** **Modulus Assignment**: Divides the variable by the value on the right and reassigns the remainder"
   ]
  },
  {
   "cell_type": "code",
   "execution_count": null,
   "id": "6bc3f1ca",
   "metadata": {},
   "outputs": [],
   "source": [
    "x = 10\n",
    "x %= 3  # same as x = x % 2, now x is \n",
    "\n",
    "print('x:', x)"
   ]
  },
  {
   "cell_type": "markdown",
   "id": "6649434c",
   "metadata": {},
   "source": [
    "-  `**=` **Exponentiation Assignment**: Raises the variable to the power of the value on the right and reassigns the result."
   ]
  },
  {
   "cell_type": "code",
   "execution_count": null,
   "id": "fb79a4e9",
   "metadata": {
    "scrolled": true
   },
   "outputs": [],
   "source": [
    "x = 2\n",
    "x **= 3  # same as x = x ** 3\n",
    "\n",
    "print('x:', x)"
   ]
  },
  {
   "cell_type": "markdown",
   "id": "ff0d5fc5",
   "metadata": {},
   "source": [
    "<br>\n",
    "\n",
    "---\n",
    "\n",
    "### Comparison Operators 🔄\n",
    "\n",
    "**Comparison operators** in Python are used to compare two values. These comparisons always result in either `True` or `False` depending on the outcome of the comparison. They are fundamental when writing conditions, performing decision-making tasks, and controlling the flow of your programs 🚦.\n",
    "\n",
    "Let's explore the **comparison operators**:\n",
    "\n",
    "- **`==` Equal to**: Checks if two values are equal."
   ]
  },
  {
   "cell_type": "code",
   "execution_count": null,
   "id": "065dbac8",
   "metadata": {},
   "outputs": [],
   "source": [
    "result_num = 5 == 5\n",
    "\n",
    "result_str = 'Dog' == 'Dog'\n",
    "\n",
    "print('result_num:', result_num)\n",
    "print('result_str:', result_str)"
   ]
  },
  {
   "cell_type": "markdown",
   "id": "11ccadfa",
   "metadata": {},
   "source": [
    "- **`!=` Not equal to**: Checks if two values are not equal."
   ]
  },
  {
   "cell_type": "code",
   "execution_count": null,
   "id": "093f7b9f",
   "metadata": {},
   "outputs": [],
   "source": [
    "result_num = 10 != 3\n",
    "\n",
    "result_str = 'Cat' != 'cat'\n",
    "\n",
    "print('result_num:', result_num)\n",
    "print('result_str:', result_str)"
   ]
  },
  {
   "cell_type": "markdown",
   "id": "66678c0b",
   "metadata": {},
   "source": [
    "- **`>` Greater than**: Checks if the value on the left is greater than the value on the right."
   ]
  },
  {
   "cell_type": "code",
   "execution_count": null,
   "id": "25bc463a",
   "metadata": {},
   "outputs": [],
   "source": [
    "result_num = 100 > 1\n",
    "\n",
    "print('result_num:', result_num)"
   ]
  },
  {
   "cell_type": "markdown",
   "id": "68217680",
   "metadata": {},
   "source": [
    "- **`<` Less than**: Checks if the value on the left is less than the value on the right."
   ]
  },
  {
   "cell_type": "code",
   "execution_count": null,
   "id": "e67b21b1",
   "metadata": {},
   "outputs": [],
   "source": [
    "result_num = 2.45 < 2.5\n",
    "\n",
    "print('result_num:', result_num)"
   ]
  },
  {
   "cell_type": "markdown",
   "id": "bc809f8c",
   "metadata": {},
   "source": [
    "- **`>=` Greater than or equal to**: Checks if the value on the left is greater than or equal to the value on the right."
   ]
  },
  {
   "cell_type": "code",
   "execution_count": null,
   "id": "e30ac048",
   "metadata": {},
   "outputs": [],
   "source": [
    "result_num = 5 >= 5.0\n",
    "\n",
    "print('result_num:', result_num)"
   ]
  },
  {
   "cell_type": "markdown",
   "id": "00a982c8",
   "metadata": {},
   "source": [
    "- **`<=` Less than or equal to**: Checks if the value on the left is less than or equal to the value on the right"
   ]
  },
  {
   "cell_type": "code",
   "execution_count": null,
   "id": "34a7b841",
   "metadata": {
    "scrolled": true
   },
   "outputs": [],
   "source": [
    "result_num = 3.14 <= 3.14159265359\n",
    "\n",
    "print('result_num:', result_num)"
   ]
  },
  {
   "cell_type": "markdown",
   "id": "24b8d4ef",
   "metadata": {},
   "source": [
    "<br>\n",
    "\n",
    "---\n",
    "\n",
    "### Logical Operators ⚖️\n",
    "\n",
    "**Logical operators** are used to combine conditional statements. They are essential when you need to evaluate multiple conditions at once, allowing you to create more complex decision-making logic in your programs.\n",
    "\n",
    "In Python, there are three logical operators:\n",
    "\n",
    "- **`and`**: Returns `True` if **both** statements are `True`."
   ]
  },
  {
   "cell_type": "code",
   "execution_count": null,
   "id": "e79f7741",
   "metadata": {},
   "outputs": [],
   "source": [
    "true_statement =  (5 > 3) and (8 > 6)\n",
    "\n",
    "false_statement = (5 > 3) and (8 < 6)\n",
    "\n",
    "print('true_statement:',true_statement)\n",
    "print('false_statement:',false_statement)"
   ]
  },
  {
   "cell_type": "markdown",
   "id": "fea9fb33",
   "metadata": {},
   "source": [
    "- **`or`**: Returns `True` if **at least one** of the statements is `True`."
   ]
  },
  {
   "cell_type": "code",
   "execution_count": null,
   "id": "6e4f2bfb",
   "metadata": {
    "scrolled": false
   },
   "outputs": [],
   "source": [
    "true_statement =  (5 > 3) or (8 < 6)\n",
    "\n",
    "false_statement = (5 < 3) or (8 < 6)\n",
    "\n",
    "print('true_statement:',true_statement)\n",
    "print('false_statement:',false_statement)"
   ]
  },
  {
   "cell_type": "markdown",
   "id": "bd0a098d",
   "metadata": {},
   "source": [
    "<div style=\"border: 2px solid #84bd7b; padding: 10px; background-color: #d8f5d3; border-radius: 5px;\">\n",
    "\n",
    "### Infobox ℹ️\n",
    "\n",
    "**Grouping Conditions with Parentheses** 🧠\n",
    "\n",
    "When combining multiple conditions in Python using **logical operators** (`and`, `or`, `not`), it’s a good practice to **group each condition inside parentheses**. This ensures Python evaluates them correctly, just like in mathematical operations where parentheses are used to control the order of operations.\n",
    "\n",
    "For example:\n",
    "\n",
    "```python\n",
    "(10 > 5) and (15 != 20)  # Grouping conditions with parentheses\n",
    "```\n",
    "\n",
    "Grouping conditions with parentheses makes your code easier to read and understand, and ensures Python evaluates the conditions in the right order! 🎯\n",
    "\n",
    "</div>"
   ]
  },
  {
   "cell_type": "markdown",
   "id": "2cf42170",
   "metadata": {},
   "source": [
    "- **`not`**: Reverses the result — returns `True` if the condition is `False`."
   ]
  },
  {
   "cell_type": "code",
   "execution_count": null,
   "id": "8269709f",
   "metadata": {},
   "outputs": [],
   "source": [
    "true_statement =  not(5 > 3)\n",
    "\n",
    "false_statement = not(5 < 3)\n",
    "\n",
    "print('true_statement:',true_statement)\n",
    "print('false_statement:',false_statement)"
   ]
  },
  {
   "cell_type": "markdown",
   "id": "28b66080",
   "metadata": {},
   "source": [
    "<div style=\"border: 2px solid #FFE700; padding: 10px; background-color: #FEFFA7; border-radius: 5px;\">\n",
    "\n",
    "### Tip 💡\n",
    "\n",
    "**Why Are Logical Operators Important?** 🤔\n",
    "\n",
    "**Logical operators** allow you to combine multiple comparisons and conditions, helping you create more flexible and complex decision-making logic in your programs. This is especially useful when you have more than one condition to check.\n",
    "\n",
    "For example:\n",
    "- Use **`and`** when **all conditions** need to be true for the block of code to run.\n",
    "- Use **`or`** when **at least one condition** needs to be true.\n",
    "- Use **`not`** when you want to **negate** a condition.\n",
    "    \n",
    "</div>\n",
    "\n",
    "##### Logical Operator Table:\n",
    "\n",
    "| Expression            | Result |\n",
    "|-----------------------|--------|\n",
    "| `True and True`        | True   |\n",
    "| `True and False`       | False  |\n",
    "| `False and False`      | False  |\n",
    "| `True or False`        | True   |\n",
    "| `False or False`       | False  |\n",
    "| `not True`             | False  |\n",
    "| `not False`            | True   |\n"
   ]
  },
  {
   "cell_type": "markdown",
   "id": "d404c9b8",
   "metadata": {},
   "source": [
    "<br>\n",
    "\n",
    "---\n",
    "\n",
    "### Identity Operators 👤\n",
    "\n",
    "**Identity operators** are used to compare whether two variables point to the **same object in memory**. In Python, everything is an object, and identity operators allow you to check if two variables refer to the **exact same object**.\n",
    "\n",
    "We will explore the concept of memory referencing in more detail in the next session. 🔍\n",
    "\n",
    "For now, let's look at a very practical and common use of the **`is`** operator: checking types. The **`is`** operator can be used to check whether a variable is of a certain **type**. This is especially useful when you want to ensure that variables are of the correct type to perform specific operations. ⚙️"
   ]
  },
  {
   "cell_type": "code",
   "execution_count": null,
   "id": "272a6f17",
   "metadata": {},
   "outputs": [],
   "source": [
    "x = 100\n",
    "y = \"Hello!\" \n",
    "\n",
    "print('Is x of type int ?', type(x) is int) \n",
    "print('Is y of type str ?', type(y) is str) "
   ]
  },
  {
   "cell_type": "markdown",
   "id": "817f09ce",
   "metadata": {},
   "source": [
    "<br>\n",
    "\n",
    "---\n",
    "\n",
    "### Membership Operators 🔍\n",
    "\n",
    "**Membership operators** are used to check whether a value or variable is present in a sequence (like a list, string, tuple, etc.). These operators help you verify whether an item exists within a collection.\n",
    "\n",
    "Here are the two membership operators:\n",
    "\n",
    "- **`in`**: Returns `True` if the specified value is found in the sequence."
   ]
  },
  {
   "cell_type": "code",
   "execution_count": null,
   "id": "1707b014",
   "metadata": {},
   "outputs": [],
   "source": [
    "sentence = \"Birds of a feather flock together.\"\n",
    "\n",
    "print('Birds' in sentence)  \n",
    "print('all' in sentence) "
   ]
  },
  {
   "cell_type": "markdown",
   "id": "5181a2dc",
   "metadata": {},
   "source": [
    "- **`not in`**: Returns `True` if the specified value is **not** found in the sequence."
   ]
  },
  {
   "cell_type": "code",
   "execution_count": null,
   "id": "56ace4f7",
   "metadata": {},
   "outputs": [],
   "source": [
    "sentence = \"A bad workman blames his tools.\"\n",
    "\n",
    "print('Bad' not in sentence)  \n",
    "print('an' not in sentence) "
   ]
  },
  {
   "cell_type": "markdown",
   "id": "0dfb4897",
   "metadata": {},
   "source": [
    "<div style=\"border: 2px solid #84bd7b; padding: 10px; background-color: #d8f5d3; border-radius: 5px;\">\n",
    "\n",
    "### Infobox ℹ️\n",
    "\n",
    "**Are membership operators used only in strings?**\n",
    "\n",
    "No! Although the example only involves strings, these operators are very useful for working with other data structures we'll explore in the next session, such as **Lists** and **Dictionaries**.\n",
    "\n",
    "</div>"
   ]
  },
  {
   "cell_type": "markdown",
   "id": "d374dade",
   "metadata": {},
   "source": [
    "<div style=\"border: 2px solid #ababab; padding: 10px; background-color: #ebedeb; border-radius: 5px;\">\n",
    "\n",
    "# Exercises 🏃\n",
    "\n",
    "</div>"
   ]
  },
  {
   "cell_type": "markdown",
   "id": "83774e40",
   "metadata": {},
   "source": [
    "### Exercise 1: Convert English to Python Code 📝\n",
    "\n",
    "You are given a set of comparison and logical phrases written in English. Your task is to **convert each phrase** into its **Python code equivalent** using comparison (`==`, `!=`, `<`, `>`, etc.) and logical operators (`and`, `or`, `not`).\n",
    "\n",
    "#### Expected Output:\n",
    "\n",
    "For example, for the phrase **\"Check if 10 is greater than 5\"**, the code would be:\n",
    "\n",
    "```python\n",
    "result = 10 > 5\n",
    "```\n",
    "\n",
    "Now, try to convert the rest of the phrases into Python code and print the results!"
   ]
  },
  {
   "cell_type": "code",
   "execution_count": null,
   "id": "b3ef7f9b",
   "metadata": {},
   "outputs": [],
   "source": [
    "import exercises\n",
    "\n",
    "# Phrase 1: \"Check if 15 is not equal to 20.\"\n",
    "result_1 = (15 != 20)\n",
    "\n",
    "# Phrase 2: \"Check if 8 is less than or equal to 12 and 15 is greater than 10.\"\n",
    "result_2 = (8 <= 12) and (15 > 10)\n",
    "\n",
    "# Phrase 3: \"Check if 3 is greater than 7 or 20 is equal to 20.\"\n",
    "result_3 = (3 > 7) or (20 == 20)\n",
    "\n",
    "# Phrase 4: \"Check if 5 is not greater than 10.\"\n",
    "result_4 = \n",
    "\n",
    "x = 10\n",
    "\n",
    "# Phrase 1: \"Check if x is greater than 10 and x is less than 20, or x is equal to 5.\"\n",
    "result_5 = (x > 10 and x < 20) or (x == 5)\n",
    "\n",
    "# Phrase 2: \"Check if x is not equal to 15 and x is greater than 0, or x is less than -5.\"\n",
    "result_6 = (x != 15 and x > 0) or (x < -5)\n",
    "\n",
    "# Phrase 3: \"Check if x is greater than 50 or x is equal to 25, and x is less than 100.\"\n",
    "result_7 = (x > 50 or x == 25) and (x < 100)\n",
    "\n",
    "# Phrase 4: \"Check if x is less than 0 or x is greater than 10, and x is not equal to 5.\"\n",
    "result_8 = (x < 0 or x > 10) and (x != 5)\n",
    "\n",
    "# Phrase 5: \"Check if x is greater than or equal to 10 and x is less than 50, or x is greater than 100.\"\n",
    "result_9 = (x >= 10 and x < 50) or (x > 100)\n",
    "\n",
    "# Phrase 6: \"Check if x is less than 5 or x is greater than or equal to 15, and x is less than 30.\"\n",
    "result_10 = (x < 5 or x >= 15) and (x < 30)\n",
    "\n",
    "# Phrase 7: \"Check if x is not equal to 0 and x is greater than 1, or x is equal to -1.\"\n",
    "result_11 = (x != 0 and x > 1) or (x == -1)\n",
    "\n",
    "# Phrase 8: \"Check if x is greater than 20 or x is less than 10, and x is not 0.\"\n",
    "result_12 = (x > 20 or x < 10) and (x != 0)\n",
    "\n",
    "# Phrase 9: \"Check if x is less than or equal to 50 and x is greater than 10, or x is exactly 75.\"\n",
    "result_13 = (x <= 50 and x > 10) or (x == 75)\n",
    "\n",
    "# Phrase 10: \"Check if x is greater than or equal to 5 or x is less than -5, and x is not 10.\"\n",
    "result_14 = (x >= 5 or x < -5) and (x != 10)\n",
    "\n",
    "exercises.check_solution_n1_lab3()"
   ]
  },
  {
   "cell_type": "markdown",
   "id": "9601364c",
   "metadata": {},
   "source": [
    "### Exercise 2: Write Mathematical Expressions 🧮\n",
    "\n",
    "You are given three variables: `x`, `y`, and `z`. Write the following mathematical expressions in Python.\n",
    "\n",
    "#### Expected Output:\n",
    "\n",
    "For example, for the expression $(x + y) \\cdot z $, the code would:\n",
    "```python\n",
    "   expression_1 = (x + y) * z\n",
    "```\n"
   ]
  },
  {
   "cell_type": "code",
   "execution_count": null,
   "id": "a6082ae2",
   "metadata": {},
   "outputs": [],
   "source": [
    "# Variables x, y and z\n",
    "\n",
    "x, y, z =  2, -5, 4"
   ]
  },
  {
   "cell_type": "markdown",
   "id": "0820aa07",
   "metadata": {},
   "source": [
    "**Expression 1**: $ \\frac{x}{z} + y + 1$"
   ]
  },
  {
   "cell_type": "code",
   "execution_count": null,
   "id": "7f57d168",
   "metadata": {},
   "outputs": [],
   "source": [
    "expression_1 = (x / z) + y + 1\n",
    "\n",
    "print('expression_1 =', expression_1)"
   ]
  },
  {
   "cell_type": "markdown",
   "id": "727751cc",
   "metadata": {},
   "source": [
    "**Expression 2**: $ \\frac{x - y}{z} $"
   ]
  },
  {
   "cell_type": "code",
   "execution_count": null,
   "id": "d1897add",
   "metadata": {},
   "outputs": [],
   "source": [
    "expression_2 = (x - y) / z\n",
    "\n",
    "print('expression_2 =', expression_2)"
   ]
  },
  {
   "cell_type": "markdown",
   "id": "c5103863",
   "metadata": {},
   "source": [
    "**Expression 3**: $ (x \\cdot z) + 2y $"
   ]
  },
  {
   "cell_type": "code",
   "execution_count": null,
   "id": "6b1e8b4f",
   "metadata": {},
   "outputs": [],
   "source": [
    "expression_3 = (x * z) + 2*y\n",
    "\n",
    "print('expression_3 =', expression_3)"
   ]
  },
  {
   "cell_type": "markdown",
   "id": "bcdb64a9",
   "metadata": {},
   "source": [
    "**Expression 4**: $ (x + y - z) \\cdot 2 $"
   ]
  },
  {
   "cell_type": "code",
   "execution_count": null,
   "id": "425d5e6f",
   "metadata": {},
   "outputs": [],
   "source": [
    "expression_4 = (x + y + z) * 2\n",
    "\n",
    "print('expression_4 =', expression_4)"
   ]
  },
  {
   "cell_type": "markdown",
   "id": "d98561a9",
   "metadata": {},
   "source": [
    "**Expression 5**: $ x^4 + 3x^3 - 5x^2 + 7x - 2 $"
   ]
  },
  {
   "cell_type": "code",
   "execution_count": null,
   "id": "5901cf9d",
   "metadata": {},
   "outputs": [],
   "source": [
    "expression_5 = x**4 + 3*x**3 - 5*x**2 + 7*x - 2\n",
    "\n",
    "print('expression_5 =', expression_5)"
   ]
  },
  {
   "cell_type": "markdown",
   "id": "552c9fb9",
   "metadata": {},
   "source": [
    "**Expression 6**: $ x^2 \\cdot y^3 - z $"
   ]
  },
  {
   "cell_type": "code",
   "execution_count": null,
   "id": "26ae358d",
   "metadata": {},
   "outputs": [],
   "source": [
    "expression_6 = (x**2 * y**3) - z\n",
    "\n",
    "print('expression_6 =', expression_6)"
   ]
  },
  {
   "cell_type": "markdown",
   "id": "496693d0",
   "metadata": {},
   "source": [
    "**Expression 7**: $ \\frac{x^2 + y^3}{z} $"
   ]
  },
  {
   "cell_type": "code",
   "execution_count": null,
   "id": "bc58eea3",
   "metadata": {},
   "outputs": [],
   "source": [
    "expression_7 = (x**2 + y**3) / z\n",
    "\n",
    "print('expression_7 =', expression_7)"
   ]
  },
  {
   "cell_type": "markdown",
   "id": "d8504fd8",
   "metadata": {},
   "source": [
    "**Expression 8**: $ x^3 - 2x^2 + xy + z^2 $"
   ]
  },
  {
   "cell_type": "code",
   "execution_count": null,
   "id": "589306df",
   "metadata": {},
   "outputs": [],
   "source": [
    "expression_8 = x**3 - 2*x**2 + x*y + z**2\n",
    "\n",
    "print('expression_8 =', expression_8)"
   ]
  },
  {
   "cell_type": "markdown",
   "id": "8e77793c",
   "metadata": {},
   "source": [
    "**Expression 9**: $ x^3 - 2x^2 + xy + z^2 $"
   ]
  },
  {
   "cell_type": "code",
   "execution_count": null,
   "id": "d3c5168f",
   "metadata": {},
   "outputs": [],
   "source": [
    "expression_9 = (x + y)**3 - (y + z)**2\n",
    "\n",
    "print('expression_9 =', expression_9)"
   ]
  },
  {
   "cell_type": "code",
   "execution_count": null,
   "id": "b699f46c",
   "metadata": {},
   "outputs": [],
   "source": [
    "# Run to check solution\n",
    "exercises.check_solution_n2_lab3(x, y, z, expression_1, ..., expression_9)"
   ]
  },
  {
   "cell_type": "markdown",
   "id": "36c0f103",
   "metadata": {},
   "source": [
    "### Exercise 3: Modify the Variable to Make the Expression `True` ✔️\n",
    "\n",
    "You are given several expressions that currently evaluate to `False`. Your task is to **modify the variable values** to make the expression evaluate to `True`. \n",
    "\n",
    "**Example**:\n",
    "```python\n",
    "x = 5\n",
    "result = (x > 10)  # Modify x to make this True\n",
    "```\n",
    "\n",
    "You could modify `x = 11` to make the expression `True`."
   ]
  },
  {
   "cell_type": "code",
   "execution_count": null,
   "id": "611d90c6",
   "metadata": {},
   "outputs": [],
   "source": [
    "# Expression 1: Modify x\n",
    "x = None\n",
    "\n",
    "result_1 = (x > 20)\n",
    "\n",
    "\n",
    "# Expression 2: Modify y\n",
    "y = \"python\"\n",
    "phrase = \"Learning Python is fun!\"\n",
    "\n",
    "result_2 = (y in phrase)\n",
    "\n",
    "\n",
    "# Expression 3: Modify z\n",
    "x = 5\n",
    "z = None\n",
    "\n",
    "result_3 = (z != x) and (z >= 5)\n",
    "\n",
    "\n",
    "# Expression 4: Modify z\n",
    "x = 10\n",
    "y = 5\n",
    "z = None\n",
    "\n",
    "result_4 = ((x + y + z) == 30)\n",
    "\n",
    "\n",
    "# Expression 5: Modify x\n",
    "x = None\n",
    "\n",
    "result_5 = (x**3 == 8) and (2*x + 18 == 22)\n",
    "\n",
    "\n",
    "# Expression 6: Modify x\n",
    "x = \"hello\"\n",
    "\n",
    "result_6 = (type(x) is int)\n",
    "\n",
    "\n",
    "# Expression 7: Modify a and b\n",
    "a = None\n",
    "b = None\n",
    "\n",
    "result_7 = (a / b == 4)\n",
    "\n",
    "\n",
    "# Expression 8: Modify x so that x is between 5 and 10 (inclusive)\n",
    "x = None\n",
    "result_8 = (5 <= x <= 10 != 8) # Idiomatic Python\n",
    "\n",
    "\n",
    "# Expression 9: Modify a, b, c\n",
    "a = None\n",
    "b = None\n",
    "c = \"...\"\n",
    "sentence = \"Let's write some code!\"\n",
    "\n",
    "result_9 = ((a / b == 7) or (b * 3 == 21)) and (c in sentence) and (type(a) is int)"
   ]
  },
  {
   "cell_type": "code",
   "execution_count": null,
   "id": "6eca81fc",
   "metadata": {
    "scrolled": false
   },
   "outputs": [],
   "source": [
    "# Run to check solution\n",
    "exercises.check_solution_n3_lab3(x, y, z, expression_1, ..., expression_9)"
   ]
  },
  {
   "cell_type": "markdown",
   "id": "7dc97c51",
   "metadata": {},
   "source": [
    "## Python Strings Manipulation 🧵\n",
    "\n",
    "<br>\n",
    "\n",
    "![String Manipulation](https://cdn.sanity.io/images/oaglaatp/production/093675c2dcb5693a30989db797466cc1e4d1a6ae-5001x2501.jpg?w=5001&h=2501&auto=format)\n",
    "\n",
    "### Why Learn String Manipulation? ✂️\n",
    "\n",
    "Strings are everywhere in programming! Whether you're working with user input, formatting data, or displaying results, you'll almost certainly encounter strings. **String manipulation** refers to techniques that allow you to modify, combine, or break down strings to fit your needs.\n",
    "\n",
    "Why is this important? 🌟\n",
    "\n",
    "Imagine you're building an application that asks users for their names or processes large sets of text data. Being able to manipulate strings means you can:\n",
    "- Format text to display information cleanly.\n",
    "- Combine or split text in useful ways.\n",
    "- Search, replace, and edit parts of strings with ease."
   ]
  },
  {
   "cell_type": "markdown",
   "id": "0a2f474e",
   "metadata": {},
   "source": [
    "### Strings in Python\n",
    "\n",
    "We’ve already had a brief introduction to the **`str`** (string) type in Python, but now we’ll dive deeper into this very useful type and how we can **manipulate strings** to suit our needs.\n",
    "\n",
    "A **string** is a **sequence of characters** enclosed within quotation marks. Python allows you to use **single quotes** (`'`) or **double quotes** (`\"`), and they are functionally equivalent. So, what’s the difference between the two? Well, the main difference comes down to convenience when you’re dealing with quotes inside your string.\n",
    "\n",
    "#### Example:\n"
   ]
  },
  {
   "cell_type": "code",
   "execution_count": 57,
   "id": "192d6fee",
   "metadata": {},
   "outputs": [
    {
     "name": "stdout",
     "output_type": "stream",
     "text": [
      "It's a beautiful day!\n",
      "She said, \"Hello!\"\n"
     ]
    }
   ],
   "source": [
    "# Using double quotes for a string containing single quotes\n",
    "phrase_1 = \"It's a beautiful day!\"\n",
    "\n",
    "# Using single quotes for a string containing double quotes\n",
    "phrase_2 = 'She said, \"Hello!\"'\n",
    "\n",
    "print(phrase_1)\n",
    "print(phrase_2)"
   ]
  },
  {
   "cell_type": "markdown",
   "id": "25bc469f",
   "metadata": {},
   "source": [
    "By choosing the appropriate quotation marks, you can avoid the need to **escape** internal quotes using backslashes (`\\`)."
   ]
  },
  {
   "cell_type": "code",
   "execution_count": 62,
   "id": "e158c8c7",
   "metadata": {
    "scrolled": true
   },
   "outputs": [
    {
     "name": "stdout",
     "output_type": "stream",
     "text": [
      "Don't put too many irons in the fire.\n"
     ]
    }
   ],
   "source": [
    "# Using a escape for using internal single quotes\n",
    "phrase_3 = 'Don\\'t put too many irons in the fire.'\n",
    "\n",
    "print(phrase_3)"
   ]
  },
  {
   "cell_type": "markdown",
   "id": "d8b3685a",
   "metadata": {},
   "source": []
  },
  {
   "cell_type": "markdown",
   "id": "31e2d840",
   "metadata": {},
   "source": []
  },
  {
   "cell_type": "markdown",
   "id": "ea81e725",
   "metadata": {},
   "source": [
    "Here's a more refined and complete version of your explanation:\n",
    "\n",
    "---\n",
    "\n",
    "However, working with **escape characters** like backslashes (`\\`) can pose some problems when dealing with certain text, such as file paths. For example, if we want to define a file path like `C:\\Users\\Documents\\new_folder`, we would need to escape the backslashes, because in Python, the backslash is used as an escape character.\n",
    "\n",
    "#### Example:\n",
    "```python\n",
    "path = \"C:\\\\Users\\\\Documents\\\\new_folder\"\n",
    "```\n",
    "Notice how we have to **double** each backslash (`\\\\`) to make sure Python doesn't treat it as an escape sequence. This can quickly become cumbersome and hard to read in complex file paths or regular expressions.\n",
    "\n",
    "### Raw Strings to the Rescue\n",
    "\n",
    "This is where **raw strings** come in handy! Raw strings make it easier to work with backslashes by treating them **literally**, so you don't have to escape them. To create a raw string, you simply prefix the string with an `r`.\n",
    "\n",
    "#### Example:\n",
    "```python\n",
    "path = r\"C:\\Users\\Documents\\new_folder\"  # No need to escape the backslashes\n",
    "```\n",
    "\n",
    "By using the `r` prefix, Python treats the string as-is, which eliminates the need to escape backslashes. This is particularly useful when working with:\n",
    "- **File paths** in Windows systems.\n",
    "- **Regular expressions** that contain many special characters.\n",
    "\n",
    "---\n",
    "\n",
    "This version now clearly explains the benefits of raw strings in a practical context. Would you like to expand further on string manipulation techniques from here? 😊"
   ]
  },
  {
   "cell_type": "markdown",
   "id": "91bfe496",
   "metadata": {},
   "source": []
  },
  {
   "cell_type": "code",
   "execution_count": null,
   "id": "693a9881",
   "metadata": {},
   "outputs": [],
   "source": []
  },
  {
   "cell_type": "markdown",
   "id": "9650b95c",
   "metadata": {},
   "source": [
    "This is where raw strings come in handy. These types of strings, can create a raw string by prefixing the string with an r... No need for backslashes in these cases."
   ]
  },
  {
   "cell_type": "markdown",
   "id": "c8ca91fd",
   "metadata": {},
   "source": [
    "### Multi-line Strings\n",
    "\n",
    "In addition to using single or double quotes, Python provides a way to define **multi-line strings**. These are strings that span multiple lines, which is useful for paragraphs of text or longer descriptions.\n",
    "\n",
    "To create a **multi-line string**, you can use **triple quotes**: either triple double quotes (`\"\"\" \"\"\"\"`) or triple single quotes (`''' '''`)."
   ]
  },
  {
   "cell_type": "code",
   "execution_count": 63,
   "id": "6332145e",
   "metadata": {},
   "outputs": [
    {
     "name": "stdout",
     "output_type": "stream",
     "text": [
      "This is a multi-line string.\n",
      "You can write across multiple lines\n",
      "without needing to insert special characters.\n"
     ]
    }
   ],
   "source": [
    "multi_line = \"\"\"This is a multi-line string.\n",
    "You can write across multiple lines\n",
    "without needing to insert special characters.\"\"\"\n",
    "\n",
    "# This will print the text across multiple lines exactly as written\n",
    "print(multi_line)"
   ]
  },
  {
   "cell_type": "markdown",
   "id": "32b0ccff",
   "metadata": {},
   "source": []
  },
  {
   "cell_type": "markdown",
   "id": "ae763e43",
   "metadata": {},
   "source": []
  },
  {
   "cell_type": "markdown",
   "id": "c67684ae",
   "metadata": {},
   "source": []
  },
  {
   "cell_type": "code",
   "execution_count": null,
   "id": "d2b6cc53",
   "metadata": {},
   "outputs": [],
   "source": []
  },
  {
   "cell_type": "markdown",
   "id": "356bcfe6",
   "metadata": {},
   "source": [
    "An interesting notion about strings is that they are not more than a chain of characters, in other words, strings can be seen as a line of successive squares (emojis letters), each containing a specific characters, (like letters, numbers, and special cases like spaces, etc...). This means we can, if we want, access each square of a string, using square brakects. There are various ways of idnexig in Python, but we will save those for the next class. However this alone already allows us to do some interesting manipulations...\n",
    "\n"
   ]
  },
  {
   "cell_type": "markdown",
   "id": "e2c47af5",
   "metadata": {},
   "source": [
    "Here’s a more complete version of your explanation, with added details and clarity:\n",
    "\n",
    "---\n",
    "\n",
    "\n",
    "```python\n",
    "\"\n",
    "\n",
    "\n",
    "```\n",
    "\n",
    "\n",
    "### Multi-line Strings\n",
    "\n",
    "In addition to using single or double quotes, Python provides a way to define **multi-line strings**. These are strings that span multiple lines, which is useful for paragraphs of text or longer descriptions.\n",
    "\n",
    "To create a **multi-line string**, you can use **triple quotes**: either triple double quotes (`\"\"\" \"\"\"\"`) or triple single quotes (`''' '''`).\n",
    "\n",
    "#### Example:\n",
    "\n",
    "```python\n",
    "multi_line = \"\"\"This is a multi-line string.\n",
    "You can write across multiple lines\n",
    "without needing to insert special characters.\"\"\"\n",
    "```\n",
    "\n",
    "This will print the text across multiple lines exactly as written.\n",
    "\n",
    "### Raw Strings\n",
    "\n",
    "There’s also another type of string known as a **raw string**. Raw strings are useful when you’re working with special characters, such as backslashes (`\\`) in file paths or regular expressions. You can create a raw string by prefixing the string with an `r`.\n",
    "\n",
    "#### Example:\n",
    "\n",
    "```python\n",
    "path = r\"C:\\Users\\Documents\\new_folder\"  # No need to escape backslashes\n",
    "```\n",
    "\n",
    "Without the `r` prefix, you’d need to escape the backslashes like this:\n",
    "\n",
    "```python\n",
    "path = \"C:\\\\Users\\\\Documents\\\\new_folder\"\n",
    "```\n",
    "\n",
    "### String Immutability\n",
    "\n",
    "Strings in Python are **immutable**, which means once a string is created, it cannot be changed. Any operations that modify a string will actually create a new string rather than altering the original one.\n",
    "\n",
    "#### Example:\n",
    "\n",
    "```python\n",
    "greeting = \"Hello\"\n",
    "new_greeting = greeting + \" World\"  # Creates a new string\n",
    "```\n",
    "\n",
    "In this case, `greeting` remains `\"Hello\"`, while `new_greeting` is `\"Hello World\"`.\n",
    "\n",
    "---\n",
    "\n",
    "This updated version explains the different types of strings in Python, including single vs. double quotes, multi-line strings, and raw strings, as well as the concept of string immutability. Would you like to continue with more advanced string manipulation techniques, such as slicing, formatting, or methods like `.replace()` and `.split()`? 😊"
   ]
  },
  {
   "cell_type": "code",
   "execution_count": null,
   "id": "678484b8",
   "metadata": {},
   "outputs": [],
   "source": []
  },
  {
   "cell_type": "code",
   "execution_count": null,
   "id": "7f043374",
   "metadata": {},
   "outputs": [],
   "source": []
  },
  {
   "cell_type": "code",
   "execution_count": null,
   "id": "109c1e06",
   "metadata": {},
   "outputs": [],
   "source": []
  }
 ],
 "metadata": {
  "kernelspec": {
   "display_name": "python_workshop",
   "language": "python",
   "name": "python_workshop"
  },
  "language_info": {
   "codemirror_mode": {
    "name": "ipython",
    "version": 3
   },
   "file_extension": ".py",
   "mimetype": "text/x-python",
   "name": "python",
   "nbconvert_exporter": "python",
   "pygments_lexer": "ipython3",
   "version": "3.13.0"
  }
 },
 "nbformat": 4,
 "nbformat_minor": 5
}
