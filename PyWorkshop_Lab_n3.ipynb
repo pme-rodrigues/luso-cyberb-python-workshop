{
 "cells": [
  {
   "cell_type": "markdown",
   "id": "92307d2f",
   "metadata": {},
   "source": [
    "# 🖥️ Python Laboratory 3️: Operators & String Manipulation\n",
    "<br>\n",
    "\n",
    "In this session, we'll dive into two essential concepts: Python Operators and String Manipulation. These might seem like simple building blocks, but they are critical for developing efficient, clean, and functional code. \n",
    "\n",
    "By the end of this session, you’ll have a solid grasp of:\n",
    "- **Python Operators**: Arithmetic, comparison, logical, and assignment operators.\n",
    "- **String Manipulation Techniques**: Slicing, concatenation, formatting, and common string methods.\n",
    "\n",
    "Let’s explore why mastering these topics is important. 🔍\n",
    "<br>\n",
    "\n"
   ]
  },
  {
   "cell_type": "markdown",
   "id": "f40289e1",
   "metadata": {},
   "source": [
    "## Python Operators ➕❔\n",
    "\n",
    "<br>\n",
    "\n",
    "![Jupyter Image](https://img.freepik.com/premium-vector/number-seamless-pattern-abstract-math-background-school-univerity_87543-6510.jpg)\n",
    "\n",
    "\n",
    "### Why Learn Python Operators? 🤔\n",
    "\n",
    "**Operators** allow you to perform various \"operations\" (_duh_ -.-) on variables and values. From simple mathematical calculations (like addition and subtraction) to more complex comparisons and logical operations.\n",
    "\n",
    "Python's operators are the foundation of nearly **everything you do in programming**. Whether you're analyzing data 📊, controlling program flow 🚦, or building more complex logic 🧠, operators are essential tools you will use constantly.\n",
    "\n",
    "Think of operators as the verbs of programming ⚙️ - they describe the actions you're asking Python to perform. Without them, your programs wouldn't function!"
   ]
  },
  {
   "cell_type": "markdown",
   "id": "4f31428a",
   "metadata": {},
   "source": [
    "In Python, there are a total of **7 groups of operators**, each with its own purpose:\n",
    "\n",
    "1. **Arithmetic Operators** ➕\n",
    "2. **Assignment Operators** 📝\n",
    "3. **Comparison Operators** 🔄\n",
    "4. **Logical Operators** ⚖️\n",
    "5. **Identity Operators** 👤\n",
    "6. **Membership Operators** 🔍\n",
    "7. **Bitwise Operators** 🧠\n",
    "\n",
    "However, we will **not explore Bitwise operators** in this session. Bitwise operators are used to perform comparisons at the **binary level** (ones and zeros), which is more relevant for low-level computing and less applicable in everyday programming tasks that we'll focus on. For now, our goal is to understand operators that are more **human-readable** and help us perform common tasks in Python.\n",
    "\n",
    "So, let’s start with the more **intuitive** operators—the **Arithmetic Operators**. 🎯\n",
    "<br>\n",
    "\n",
    "---\n",
    "\n",
    "### Arithmetic Operators ➕➖✖️➗\n",
    "\n",
    "**Arithmetic operators** are the most familiar operators because they perform basic mathematical operations like addition, subtraction, multiplication, and division. These operations are the foundation for many programs, whether you're calculating totals, percentages, or solving equations.\n",
    "\n",
    "Here’s a breakdown of the **arithmetic operators** in Python:\n",
    "\n",
    "- `+` **Addition**: Adds two numbers together."
   ]
  },
  {
   "cell_type": "code",
   "execution_count": 1,
   "id": "47e4085a",
   "metadata": {},
   "outputs": [
    {
     "name": "stdout",
     "output_type": "stream",
     "text": [
      "Result: 5\n"
     ]
    }
   ],
   "source": [
    "result = 3 + 2\n",
    "print('Result:', result)"
   ]
  },
  {
   "cell_type": "markdown",
   "id": "68d83747",
   "metadata": {},
   "source": [
    "- `-` **Subtraction**: Subtracts one number from another."
   ]
  },
  {
   "cell_type": "code",
   "execution_count": 5,
   "id": "f8a2b8aa",
   "metadata": {},
   "outputs": [
    {
     "name": "stdout",
     "output_type": "stream",
     "text": [
      "Result: 4\n"
     ]
    }
   ],
   "source": [
    "result = 5 - 1\n",
    "print('Result:', result)"
   ]
  },
  {
   "cell_type": "markdown",
   "id": "acdef0de",
   "metadata": {},
   "source": [
    "- `*` **Multiplication**: Multiplies two numbers."
   ]
  },
  {
   "cell_type": "code",
   "execution_count": 6,
   "id": "e663f9de",
   "metadata": {},
   "outputs": [
    {
     "name": "stdout",
     "output_type": "stream",
     "text": [
      "Result: 12\n"
     ]
    }
   ],
   "source": [
    "result = 4 * 3\n",
    "print('Result:', result)"
   ]
  },
  {
   "cell_type": "markdown",
   "id": "bfbcaaee",
   "metadata": {},
   "source": [
    "- `/` **Division**: Divides one number by another, returning a float."
   ]
  },
  {
   "cell_type": "code",
   "execution_count": 7,
   "id": "ffb0bea5",
   "metadata": {
    "scrolled": true
   },
   "outputs": [
    {
     "name": "stdout",
     "output_type": "stream",
     "text": [
      "Result: 5.0\n"
     ]
    }
   ],
   "source": [
    "result = 10 / 2\n",
    "print('Result:', result)"
   ]
  },
  {
   "cell_type": "markdown",
   "id": "1e9a3679",
   "metadata": {},
   "source": [
    "<div style=\"border: 2px solid #84bd7b; padding: 10px; background-color: #d8f5d3; border-radius: 5px;\">\n",
    "\n",
    "### Infobox ℹ️\n",
    "\n",
    "**Division:**\n",
    "\n",
    "- In Python, when we divide two numbers, the result is always of type `float` (even if the result is a whole number).\n",
    "  \n",
    "- If we want to work with whole numbers, we need to either use **floor division** (`//`) or convert the result to an integer using `int()`.\n",
    "\n",
    "</div>"
   ]
  },
  {
   "cell_type": "markdown",
   "id": "73f1b4e1",
   "metadata": {},
   "source": [
    "- `//` **Floor Division**: Divides one number by another and returns the largest integer smaller or equal to the result."
   ]
  },
  {
   "cell_type": "code",
   "execution_count": 9,
   "id": "615418d7",
   "metadata": {},
   "outputs": [
    {
     "name": "stdout",
     "output_type": "stream",
     "text": [
      "Result: 3\n"
     ]
    }
   ],
   "source": [
    "result = 10 // 3\n",
    "print('Result:', result)"
   ]
  },
  {
   "cell_type": "markdown",
   "id": "8c2f04a3",
   "metadata": {},
   "source": [
    "- `%` **Modulus**: Returns the remainder when one number is divided by another."
   ]
  },
  {
   "cell_type": "code",
   "execution_count": 3,
   "id": "0c1af107",
   "metadata": {},
   "outputs": [
    {
     "name": "stdout",
     "output_type": "stream",
     "text": [
      "Result: 1\n"
     ]
    }
   ],
   "source": [
    "result = 10 % 3\n",
    "print('Result:', result)"
   ]
  },
  {
   "cell_type": "markdown",
   "id": "57847dc3",
   "metadata": {},
   "source": [
    "- `**` **Exponentiation**: Raises one number to the power of another."
   ]
  },
  {
   "cell_type": "code",
   "execution_count": 2,
   "id": "dba5e875",
   "metadata": {},
   "outputs": [
    {
     "name": "stdout",
     "output_type": "stream",
     "text": [
      "Result: 8\n"
     ]
    }
   ],
   "source": [
    "result = 2 ** 3\n",
    "print('Result:', result)"
   ]
  },
  {
   "cell_type": "markdown",
   "id": "af0997a9",
   "metadata": {},
   "source": [
    "<br>\n",
    "\n",
    "---\n",
    "\n",
    "### Assignment Operators 📝\n",
    "\n",
    "**Assignment operators** are used to assign values to variables. The most common assignment operator is the simple `=` sign, - we already seen it - but Python provides several more operators that allow you to assign values while performing operations at the same time. These operators combine common tasks like adding, subtracting, or multiplying a variable with another value.\n",
    "\n",
    "Here are the most common assignment operators in Python:\n",
    "- **`+=`** **Addition Assignment**: Adds the value on the right to the variable and reassigns the result to the variable."
   ]
  },
  {
   "cell_type": "code",
   "execution_count": 69,
   "id": "3553136a",
   "metadata": {},
   "outputs": [
    {
     "name": "stdout",
     "output_type": "stream",
     "text": [
      "x: 15\n"
     ]
    }
   ],
   "source": [
    "x = 10\n",
    "x += 5 # same as x = x + 5\n",
    "\n",
    "print('x:', x)"
   ]
  },
  {
   "cell_type": "markdown",
   "id": "58d093e9",
   "metadata": {},
   "source": [
    "- **`-=`** **Subtraction Assignment**: Subtracts the value on the right from the variable and reassigns the result to the variable."
   ]
  },
  {
   "cell_type": "code",
   "execution_count": 31,
   "id": "d537c04b",
   "metadata": {},
   "outputs": [
    {
     "name": "stdout",
     "output_type": "stream",
     "text": [
      "x: 7\n"
     ]
    }
   ],
   "source": [
    "x = 10\n",
    "x -= 3 # same as x = x - 3\n",
    "\n",
    "print('x:', x)"
   ]
  },
  {
   "cell_type": "markdown",
   "id": "5d7cc806",
   "metadata": {},
   "source": [
    "- **`*=`** **Multiplication Assignment**: Multiplies the variable by the value on the right and reassigns the result."
   ]
  },
  {
   "cell_type": "code",
   "execution_count": 32,
   "id": "91aa60ff",
   "metadata": {},
   "outputs": [
    {
     "name": "stdout",
     "output_type": "stream",
     "text": [
      "x: 20\n"
     ]
    }
   ],
   "source": [
    "x = 10\n",
    "x *= 2  # same as x = x * 2\n",
    "\n",
    "print('x:', x)"
   ]
  },
  {
   "cell_type": "markdown",
   "id": "d16a84c4",
   "metadata": {},
   "source": [
    "- **`/=`** **Division Assignment**: Divides the variable by the value on the right and reassigns the result."
   ]
  },
  {
   "cell_type": "code",
   "execution_count": 33,
   "id": "54228845",
   "metadata": {},
   "outputs": [
    {
     "name": "stdout",
     "output_type": "stream",
     "text": [
      "x: 5.0\n"
     ]
    }
   ],
   "source": [
    "x = 10\n",
    "x /= 2  # same as x = x / 4\n",
    "\n",
    "print('x:', x)"
   ]
  },
  {
   "cell_type": "markdown",
   "id": "95b12767",
   "metadata": {},
   "source": [
    "- **`//=`** **Floor Division Assignment**: Performs floor division on the variable and reassigns the result."
   ]
  },
  {
   "cell_type": "code",
   "execution_count": 34,
   "id": "8395d1bd",
   "metadata": {},
   "outputs": [
    {
     "name": "stdout",
     "output_type": "stream",
     "text": [
      "x: 3\n"
     ]
    }
   ],
   "source": [
    "x = 10\n",
    "x //= 3  # same as x = x // 2\n",
    "\n",
    "print('x:', x)"
   ]
  },
  {
   "cell_type": "markdown",
   "id": "89c1f97a",
   "metadata": {},
   "source": [
    "- **`%=`** **Modulus Assignment**: Divides the variable by the value on the right and reassigns the remainder"
   ]
  },
  {
   "cell_type": "code",
   "execution_count": 35,
   "id": "6bc3f1ca",
   "metadata": {},
   "outputs": [
    {
     "name": "stdout",
     "output_type": "stream",
     "text": [
      "x: 1\n"
     ]
    }
   ],
   "source": [
    "x = 10\n",
    "x %= 3  # same as x = x % 2, now x is \n",
    "\n",
    "print('x:', x)"
   ]
  },
  {
   "cell_type": "markdown",
   "id": "6649434c",
   "metadata": {},
   "source": [
    "-  `**=` **Exponentiation Assignment**: Raises the variable to the power of the value on the right and reassigns the result."
   ]
  },
  {
   "cell_type": "code",
   "execution_count": 36,
   "id": "fb79a4e9",
   "metadata": {
    "scrolled": true
   },
   "outputs": [
    {
     "name": "stdout",
     "output_type": "stream",
     "text": [
      "x: 8\n"
     ]
    }
   ],
   "source": [
    "x = 2\n",
    "x **= 3  # same as x = x ** 3\n",
    "\n",
    "print('x:', x)"
   ]
  },
  {
   "cell_type": "markdown",
   "id": "ff0d5fc5",
   "metadata": {},
   "source": [
    "<br>\n",
    "\n",
    "---\n",
    "\n",
    "### Comparison Operators 🔄\n",
    "\n",
    "**Comparison operators** in Python are used to compare two values. These comparisons always result in either `True` or `False` depending on the outcome of the comparison. They are fundamental when writing conditions, performing decision-making tasks, and controlling the flow of your programs 🚦.\n",
    "\n",
    "Let's explore the **comparison operators**:\n",
    "\n",
    "- **`==` Equal to**: Checks if two values are equal."
   ]
  },
  {
   "cell_type": "code",
   "execution_count": 48,
   "id": "065dbac8",
   "metadata": {},
   "outputs": [
    {
     "name": "stdout",
     "output_type": "stream",
     "text": [
      "result_num: True\n",
      "result_str: True\n"
     ]
    }
   ],
   "source": [
    "result_num = 5 == 5\n",
    "\n",
    "result_str = 'Dog' == 'Dog'\n",
    "\n",
    "print('result_num:', result_num)\n",
    "print('result_str:', result_str)"
   ]
  },
  {
   "cell_type": "markdown",
   "id": "11ccadfa",
   "metadata": {},
   "source": [
    "- **`!=` Not equal to**: Checks if two values are not equal."
   ]
  },
  {
   "cell_type": "code",
   "execution_count": 49,
   "id": "093f7b9f",
   "metadata": {},
   "outputs": [
    {
     "name": "stdout",
     "output_type": "stream",
     "text": [
      "result_num: True\n",
      "result_str: True\n"
     ]
    }
   ],
   "source": [
    "result_num = 10 != 3\n",
    "\n",
    "result_str = 'Cat' != 'cat'\n",
    "\n",
    "print('result_num:', result_num)\n",
    "print('result_str:', result_str)"
   ]
  },
  {
   "cell_type": "markdown",
   "id": "66678c0b",
   "metadata": {},
   "source": [
    "- **`>` Greater than**: Checks if the value on the left is greater than the value on the right."
   ]
  },
  {
   "cell_type": "code",
   "execution_count": 52,
   "id": "25bc463a",
   "metadata": {},
   "outputs": [
    {
     "name": "stdout",
     "output_type": "stream",
     "text": [
      "result_num: True\n"
     ]
    }
   ],
   "source": [
    "result_num = 100 > 1\n",
    "\n",
    "print('result_num:', result_num)"
   ]
  },
  {
   "cell_type": "markdown",
   "id": "68217680",
   "metadata": {},
   "source": [
    "- **`<` Less than**: Checks if the value on the left is less than the value on the right."
   ]
  },
  {
   "cell_type": "code",
   "execution_count": 56,
   "id": "e67b21b1",
   "metadata": {},
   "outputs": [
    {
     "name": "stdout",
     "output_type": "stream",
     "text": [
      "result_num: True\n"
     ]
    }
   ],
   "source": [
    "result_num = 2.45 < 2.5\n",
    "\n",
    "print('result_num:', result_num)"
   ]
  },
  {
   "cell_type": "markdown",
   "id": "bc809f8c",
   "metadata": {},
   "source": [
    "- **`>=` Greater than or equal to**: Checks if the value on the left is greater than or equal to the value on the right."
   ]
  },
  {
   "cell_type": "code",
   "execution_count": 59,
   "id": "e30ac048",
   "metadata": {},
   "outputs": [
    {
     "name": "stdout",
     "output_type": "stream",
     "text": [
      "result_num: True\n"
     ]
    }
   ],
   "source": [
    "result_num = 5 >= 5.0\n",
    "\n",
    "print('result_num:', result_num)"
   ]
  },
  {
   "cell_type": "markdown",
   "id": "00a982c8",
   "metadata": {},
   "source": [
    "- **`<=` Less than or equal to**: Checks if the value on the left is less than or equal to the value on the right"
   ]
  },
  {
   "cell_type": "code",
   "execution_count": 60,
   "id": "34a7b841",
   "metadata": {
    "scrolled": true
   },
   "outputs": [
    {
     "name": "stdout",
     "output_type": "stream",
     "text": [
      "result_num: True\n"
     ]
    }
   ],
   "source": [
    "result_num = 3.14 <= 3.14159265359\n",
    "\n",
    "print('result_num:', result_num)"
   ]
  },
  {
   "cell_type": "markdown",
   "id": "24b8d4ef",
   "metadata": {},
   "source": [
    "<br>\n",
    "\n",
    "---\n",
    "\n",
    "### Logical Operators ⚖️\n",
    "\n",
    "**Logical operators** are used to combine conditional statements. They are essential when you need to evaluate multiple conditions at once, allowing you to create more complex decision-making logic in your programs.\n",
    "\n",
    "In Python, there are three logical operators:\n",
    "\n",
    "- **`and`**: Returns `True` if **both** statements are `True`."
   ]
  },
  {
   "cell_type": "code",
   "execution_count": 66,
   "id": "e79f7741",
   "metadata": {},
   "outputs": [
    {
     "name": "stdout",
     "output_type": "stream",
     "text": [
      "true_statement: True\n",
      "false_statement: False\n"
     ]
    }
   ],
   "source": [
    "true_statement =  (5 > 3) and (8 > 6)\n",
    "\n",
    "false_statement = (5 > 3) and (8 < 6)\n",
    "\n",
    "print('true_statement:',true_statement)\n",
    "print('false_statement:',false_statement)"
   ]
  },
  {
   "cell_type": "markdown",
   "id": "fea9fb33",
   "metadata": {},
   "source": [
    "- **`or`**: Returns `True` if **at least one** of the statements is `True`."
   ]
  },
  {
   "cell_type": "code",
   "execution_count": 67,
   "id": "6e4f2bfb",
   "metadata": {
    "scrolled": true
   },
   "outputs": [
    {
     "name": "stdout",
     "output_type": "stream",
     "text": [
      "true_statement: True\n",
      "false_statement: False\n"
     ]
    }
   ],
   "source": [
    "true_statement =  (5 > 3) or (8 < 6)\n",
    "\n",
    "false_statement = (5 < 3) or (8 < 6)\n",
    "\n",
    "print('true_statement:',true_statement)\n",
    "print('false_statement:',false_statement)"
   ]
  },
  {
   "cell_type": "markdown",
   "id": "2cf42170",
   "metadata": {},
   "source": [
    "- **`not`**: Reverses the result — returns `True` if the condition is `False`."
   ]
  },
  {
   "cell_type": "code",
   "execution_count": 68,
   "id": "8269709f",
   "metadata": {},
   "outputs": [
    {
     "name": "stdout",
     "output_type": "stream",
     "text": [
      "true_statement: False\n",
      "false_statement: True\n"
     ]
    }
   ],
   "source": [
    "true_statement =  not(5 > 3)\n",
    "\n",
    "false_statement = not(5 < 3)\n",
    "\n",
    "print('true_statement:',true_statement)\n",
    "print('false_statement:',false_statement)"
   ]
  },
  {
   "cell_type": "markdown",
   "id": "28b66080",
   "metadata": {},
   "source": [
    "<div style=\"border: 2px solid #84bd7b; padding: 10px; background-color: #d8f5d3; border-radius: 5px;\">\n",
    "\n",
    "### Infobox ℹ️\n",
    "\n",
    "**Why Are Logical Operators Important?** 🤔\n",
    "\n",
    "**Logical operators** allow you to combine multiple comparisons and conditions, helping you create more flexible and complex decision-making logic in your programs. This is especially useful when you have more than one condition to check.\n",
    "\n",
    "For example:\n",
    "- Use **`and`** when **all conditions** need to be true for the block of code to run.\n",
    "- Use **`or`** when **at least one condition** needs to be true.\n",
    "- Use **`not`** when you want to **negate** a condition.\n",
    "    \n",
    "</div>\n",
    "\n",
    "##### Logical Operator Table:\n",
    "\n",
    "| Expression            | Result |\n",
    "|-----------------------|--------|\n",
    "| `True and True`        | True   |\n",
    "| `True and False`       | False  |\n",
    "| `False and False`      | False  |\n",
    "| `True or False`        | True   |\n",
    "| `False or False`       | False  |\n",
    "| `not True`             | False  |\n",
    "| `not False`            | True   |\n"
   ]
  },
  {
   "cell_type": "markdown",
   "id": "d404c9b8",
   "metadata": {},
   "source": [
    "<br>\n",
    "\n",
    "---\n",
    "\n",
    "### Identity Operators 👤\n",
    "\n",
    "**Identity operators** are used to compare whether two variables point to the **same object in memory**. In Python, everything is an object, and identity operators allow you to check if two variables refer to the **exact same object**.\n",
    "\n",
    "We will explore the concept of memory referencing in more detail in the next session. 🔍\n",
    "\n",
    "For now, let's look at a very practical and common use of the **`is`** operator: checking types. The **`is`** operator can be used to check whether a variable is of a certain **type**. This is especially useful when you want to ensure that variables are of the correct type to perform specific operations. ⚙️"
   ]
  },
  {
   "cell_type": "code",
   "execution_count": 84,
   "id": "272a6f17",
   "metadata": {},
   "outputs": [
    {
     "name": "stdout",
     "output_type": "stream",
     "text": [
      "Is x of type int ? True\n",
      "Is y of type str ? True\n"
     ]
    }
   ],
   "source": [
    "x = 100\n",
    "y = \"Hello!\" \n",
    "\n",
    "print('Is x of type int ?', type(x) is int) \n",
    "print('Is y of type str ?', type(y) is str) "
   ]
  },
  {
   "cell_type": "markdown",
   "id": "817f09ce",
   "metadata": {},
   "source": [
    "<br>\n",
    "\n",
    "---\n",
    "\n",
    "### Membership Operators 🔍\n",
    "\n",
    "**Membership operators** are used to check whether a value or variable is present in a sequence (like a list, string, tuple, etc.). These operators help you verify whether an item exists within a collection.\n",
    "\n",
    "Here are the two membership operators:\n",
    "\n",
    "- **`in`**: Returns `True` if the specified value is found in the sequence."
   ]
  },
  {
   "cell_type": "code",
   "execution_count": 87,
   "id": "1707b014",
   "metadata": {},
   "outputs": [
    {
     "name": "stdout",
     "output_type": "stream",
     "text": [
      "True\n",
      "False\n"
     ]
    }
   ],
   "source": [
    "sentence = \"Birds of a feather flock together.\"\n",
    "\n",
    "print('Birds' in sentence)  \n",
    "print('all' in sentence) "
   ]
  },
  {
   "cell_type": "markdown",
   "id": "5181a2dc",
   "metadata": {},
   "source": [
    "- **`not in`**: Returns `True` if the specified value is **not** found in the sequence."
   ]
  },
  {
   "cell_type": "code",
   "execution_count": 90,
   "id": "56ace4f7",
   "metadata": {},
   "outputs": [
    {
     "name": "stdout",
     "output_type": "stream",
     "text": [
      "True\n",
      "False\n"
     ]
    }
   ],
   "source": [
    "sentence = \"A bad workman blames his tools.\"\n",
    "\n",
    "print('Bad' not in sentence)  \n",
    "print('an' not in sentence) "
   ]
  },
  {
   "cell_type": "markdown",
   "id": "0dfb4897",
   "metadata": {},
   "source": [
    "<div style=\"border: 2px solid #84bd7b; padding: 10px; background-color: #d8f5d3; border-radius: 5px;\">\n",
    "\n",
    "### Infobox ℹ️\n",
    "\n",
    "**Are membership operators used only in strings?**\n",
    "\n",
    "No! Although the example only involves strings, these operators are very useful for working with other data structures we'll explore in the next session, such as **Lists** and **Dictionaries**.\n",
    "\n",
    "</div>"
   ]
  },
  {
   "cell_type": "markdown",
   "id": "d374dade",
   "metadata": {},
   "source": [
    "<div style=\"border: 2px solid #ababab; padding: 10px; background-color: #ebedeb; border-radius: 5px;\">\n",
    "\n",
    "# Exercises 🏃\n",
    "\n",
    "</div>"
   ]
  },
  {
   "cell_type": "markdown",
   "id": "83774e40",
   "metadata": {},
   "source": []
  },
  {
   "cell_type": "markdown",
   "id": "91b1ddc1",
   "metadata": {},
   "source": []
  },
  {
   "cell_type": "markdown",
   "id": "3788f413",
   "metadata": {},
   "source": []
  },
  {
   "cell_type": "markdown",
   "id": "7dc97c51",
   "metadata": {},
   "source": [
    "### Why Learn String Manipulation? ✂️\n",
    "\n",
    "Strings are everywhere in programming! Whether you're working with user input, formatting data, or displaying results, you'll almost certainly encounter strings. **String manipulation** refers to techniques that allow you to modify, combine, or break down strings to fit your needs.\n",
    "\n",
    "Why is this important? 🌟\n",
    "\n",
    "Imagine you're building an application that asks users for their names or processes large sets of text data. Being able to manipulate strings means you can:\n",
    "- Format text to display information cleanly.\n",
    "- Combine or split text in useful ways.\n",
    "- Search, replace, and edit parts of strings with ease.\n",
    "\n",
    "String manipulation empowers you to make your programs more interactive, user-friendly, and flexible. 🎯"
   ]
  },
  {
   "cell_type": "markdown",
   "id": "3ee785b8",
   "metadata": {},
   "source": [
    "Multi-line Strings:\n",
    "\n",
    "    For multi-line strings, Python uses triple quotes (\"\"\" \"\"\" or ''' '''), and you can use either single or double quotes for this purpose:"
   ]
  },
  {
   "cell_type": "code",
   "execution_count": null,
   "id": "192d6fee",
   "metadata": {},
   "outputs": [],
   "source": []
  },
  {
   "cell_type": "code",
   "execution_count": null,
   "id": "237bb8c3",
   "metadata": {},
   "outputs": [],
   "source": []
  },
  {
   "cell_type": "code",
   "execution_count": null,
   "id": "e844fa82",
   "metadata": {},
   "outputs": [],
   "source": []
  },
  {
   "cell_type": "code",
   "execution_count": null,
   "id": "678484b8",
   "metadata": {},
   "outputs": [],
   "source": []
  },
  {
   "cell_type": "code",
   "execution_count": null,
   "id": "7f043374",
   "metadata": {},
   "outputs": [],
   "source": []
  },
  {
   "cell_type": "code",
   "execution_count": null,
   "id": "109c1e06",
   "metadata": {},
   "outputs": [],
   "source": []
  }
 ],
 "metadata": {
  "kernelspec": {
   "display_name": "python_workshop",
   "language": "python",
   "name": "python_workshop"
  },
  "language_info": {
   "codemirror_mode": {
    "name": "ipython",
    "version": 3
   },
   "file_extension": ".py",
   "mimetype": "text/x-python",
   "name": "python",
   "nbconvert_exporter": "python",
   "pygments_lexer": "ipython3",
   "version": "3.13.0"
  }
 },
 "nbformat": 4,
 "nbformat_minor": 5
}
