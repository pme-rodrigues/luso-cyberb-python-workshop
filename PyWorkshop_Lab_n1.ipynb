{
 "cells": [
  {
   "cell_type": "markdown",
   "metadata": {},
   "source": [
    "# ✨ Supersonic Introduction To Jupyter Notebooks 🚀\n",
    "<br>\n",
    "\n",
    "![Jupyter Image](https://external-content.duckduckgo.com/iu/?u=https%3A%2F%2Fs3-ap-south-1.amazonaws.com%2Fav-blog-media%2Fwp-content%2Fuploads%2F2018%2F04%2Fjupyter.png&f=1&nofb=1&ipt=8618de0f85f46e058120f6d22ab7934f1ba5b159124c7303acd3dd7a344d38aa&ipo=images)"
   ]
  },
  {
   "cell_type": "markdown",
   "metadata": {},
   "source": [
    "## What is Jupyter Notebook ❔\n",
    "\n",
    "Jupyter Notebook is an open-source web application that allows you to create and share documents that contain **live code**, **equations**, **visualizations**, and **explanatory text**.\n",
    "\n",
    "It's widely used for:\n",
    "- **Data cleaning and transformation** 🧹\n",
    "- **Numerical simulation** 🧮\n",
    "- **Statistical modeling** 📊\n",
    "- **Machine learning** 🤖\n",
    "- **Visualization** 📈\n",
    "\n",
    "### Key Features 🔑:\n",
    "- **Interactive coding**: Write and execute code in a step-by-step manner.\n",
    "- **Markdown support**: Use markdown to write notes, explanations, and documentation alongside your code.\n",
    "- **Rich output**: Display charts, plots, tables, and even images within the notebook itself.\n",
    "- **Supports multiple languages**: The most common is Python, but Jupyter also supports other languages like **R** and Julia.\n",
    "\n",
    "### Why is it popular 📸?\n",
    "Jupyter Notebook is popular among data scientists, researchers, and educators because it allows for an **interactive, narrative-driven** coding experience. It’s a great tool for **experimenting** with code, **documenting** your process, and **sharing** your findings."
   ]
  },
  {
   "cell_type": "markdown",
   "metadata": {},
   "source": [
    "<br>"
   ]
  },
  {
   "cell_type": "markdown",
   "metadata": {},
   "source": [
    "## Exploring Jupyter Notebooks 🔍\n",
    "\n",
    "In Jupyter Notebooks, there are 3 types of cells you can work with:\n",
    "\n",
    "1️⃣ **Code cells**: These are the most common and are used to write and run Python code. Once you write your code, hit Shift + Enter or press the \"Run\" button <img src=\"images/runButton.PNG\" alt=\"Run Code\" style=\"vertical-align: middle; height: 15px;\"> to execute it. The output will be displayed right below the cell.\n",
    "\n",
    "2️⃣ **Markdown cells**: These allow you to write formatted text. You can use Markdown syntax to style your text, add lists, headers, or even embed images and links. For example, the text you're reading right now is inside a markdown cell. Double-click this cell to see its raw contents and edit as you like. After making changes, press the \"Run\" button to render the formatted version again.\n",
    "\n",
    "3️⃣ **Raw cells**: These contain text that is not meant to be executed or formatted. They can be useful for adding notes or other information without rendering it as Markdown or running it as code."
   ]
  },
  {
   "cell_type": "markdown",
   "metadata": {},
   "source": [
    "### Adding and Editing Cells\n",
    "\n",
    "To create new cells in Jupyter, follow these steps:\n",
    "\n",
    "- Go to the **Insert** tab in the menu and select **Insert Cell Above** or **Insert Cell Below** to add a new cell to your notebook.\n",
    "  \n",
    "- You can change the type of the cell (e.g., from code to markdown) using the dropdown menu <img src=\"images/dropDown.PNG\" alt=\"Drop Down\" style=\"vertical-align: middle; height: 22px;\"> at the top of the notebook interface. Select **Code**, **Markdown**, or any other type based on what you need."
   ]
  },
  {
   "cell_type": "markdown",
   "metadata": {},
   "source": [
    "### Shortcut Tip 💡\n",
    "\n",
    "<div style=\"border: 2px solid #FFF100; padding: 10px; background-color: #f9f9f9; border-radius: 5px;\">\n",
    "    \n",
    "**Keyboard shortcuts:**\n",
    "\n",
    "- Press `B` (while in command mode) to create a new cell **below** the current one.\n",
    "- Once the new cell is created, press `M` to switch the cell type to Markdown, or keep it as a code cell by default.\n",
    "\n",
    "</div>\n",
    "<br>\n",
    "Now, give it a try! Insert a new cell using either the menu or the shortcuts, and experiment with switching between cell types ⬇️."
   ]
  },
  {
   "cell_type": "markdown",
   "metadata": {},
   "source": [
    "<br>\n",
    "<br>\n",
    "<br>"
   ]
  },
  {
   "cell_type": "markdown",
   "metadata": {},
   "source": [
    "However, there are many more keyboard shortcuts available in Jupyter Notebooks! You can check the full list by navigating to **Help -> Keyboard Shortcuts** in the menu bar.\n",
    "\n",
    "Now, try deleting the following cell by pressing `D` twice, or explore other shortcuts by creating and editing cells!\n",
    "\n",
    "<div style=\"border: 2px solid red; padding: 10px; background-color: #f9f9f9; border-radius: 5px;\">\n",
    "\n",
    "### Delete Me! 🗑️\n",
    "\n",
    "**Delete me! Delete me! Delete me!**  \n",
    "\n",
    "🗣️ *I'm just taking up space here!*\n",
    "\n",
    "**Please press 🇩 + 🇩 and make me disappear!** \n",
    "\n",
    "💨 *I won't mind, I promise!*\n",
    "</div>\n",
    "\n"
   ]
  },
  {
   "cell_type": "markdown",
   "metadata": {},
   "source": [
    "You can always **undo** the previous operation if you delete something by accident (or just miss it! 😢) by going to the **Edit -> Undo Delete Cells** option in the menu.\n",
    "\n",
    "Alternatively, you can use the keyboard shortcut `Z` to **undo** your last action. So, if you’ve accidentally deleted a cell or made a mistake, don't worry—just press `Z` to bring it back! 🧙‍♂️✨"
   ]
  },
  {
   "cell_type": "markdown",
   "metadata": {},
   "source": [
    "<br>"
   ]
  },
  {
   "cell_type": "markdown",
   "metadata": {},
   "source": [
    "### Formatting Text in Jupyter Notebooks ✍️\n",
    "\n",
    "Jupyter Notebooks provide various text formatting options, mainly using **Markdown**. Let’s explore some of the key ways to format your text:\n",
    "\n",
    "#### 1️⃣ Headings and Titles\n",
    "You can define different title levels by using the `#` symbol, with the number of `#` signs corresponding to the heading level. Here’s an example:\n",
    "\n",
    "```\n",
    "# Title 1\n",
    "## Title 2\n",
    "### Title 3\n",
    "#### Title 4\n",
    "##### Title 5\n",
    "```\n",
    "\n",
    "Each additional `#` reduces the size of the heading, allowing for a structured hierarchy in your notebook!\n",
    "\n",
    "<div style=\"border: 2px solid blue; padding: 10px; background-color: #f9f9f9; border-radius: 5px;\">\n",
    "\n",
    "# Title 1\n",
    "## Title 2\n",
    "### Title 3\n",
    "#### Title 4\n",
    "##### Title 5\n",
    "\n",
    "</div>\n",
    "\n",
    "<br>\n",
    "\n",
    "#### 2️⃣ **Bold** and _Italic_ Text\n",
    "To emphasize parts of your text, you can use the following syntax:\n",
    "\n",
    "- **Bold**: Surround the text with double asterisks `**` or underscores `__`.  \n",
    "  Example: `**This is bold**` ➡️ **This is bold**\n",
    "  \n",
    "- _Italic_: Wrap your text with single asterisks `*` or underscores `_`.  \n",
    "  Example: `*This is italic*` ➡️ *This is italic*\n",
    "\n",
    "<br>\n",
    "\n",
    "#### 3️⃣ Hyperlinks 🔗\n",
    "You can insert hyperlinks to external websites or even link to specific sections within your notebook, which greatly improves navigation!\n",
    "\n",
    "For external links:  \n",
    "```\n",
    "[Jupyter website](https://jupyter.org)\n",
    "```\n",
    "➡️ [Jupyter website](https://jupyter.org)\n",
    "\n",
    "For internal links (to a specific section within the notebook), use the section title name in parentheses after a `#`, like this:\n",
    "```\n",
    "[Go to the introduction](#Introduction)\n",
    "```\n",
    "\n",
    "<br>\n",
    "\n",
    "#### 4️⃣ Bullet Points and Numbered Lists\n",
    "Jupyter also supports lists, which can help organize information clearly. \n",
    "\n",
    "For bullet points, use the `+` or `-` symbols:\n",
    "\n",
    "- Example 1  \n",
    "- Example 2\n",
    "\n",
    "For numbered lists, simply use numbers followed by a period (`.`):\n",
    "\n",
    "1. First item  \n",
    "2. Second item\n",
    "\n",
    "<br>\n",
    "\n",
    "#### 5️⃣ Inserting Images 📷\n",
    "You can also add images to your notebook, either from an online source or from your local machine:\n",
    "\n",
    "- To insert an image from the web:\n",
    "\n",
    "  ```\n",
    "  ![Image description](https://www.example.com/image.jpg)\n",
    "  ```\n",
    "  \n",
    "![Image description](https://infosecjupyterbook.com/_static/logo.png)\n",
    "\n",
    "\n",
    "- To insert an image from your computer, you’ll need to provide the relative file path:\n",
    "   \n",
    "  ```\n",
    "  ![Local Image](images/your_image.png)\n",
    "  ```\n",
    "![Local Image](images/dropDown.PNG)\n",
    "\n",
    "Make sure the image is in the correct folder path relative to your notebook!"
   ]
  },
  {
   "cell_type": "markdown",
   "metadata": {},
   "source": [
    "### Save Your Work! 💾\n",
    "\n",
    "While working with Jupyter Notebooks, it's essential to **save your progress** regularly because Jupyter doesn't automatically save your work for you. To save your notebook, simply click the **Save** button <img src=\"images/save.PNG\" alt=\"Save Button\" style=\"vertical-align: middle; height: 22px;\"> in the toolbar, or use the shortcut `Ctrl + S` (or `Cmd + S` on Mac).\n",
    "\n",
    "It's a good habit to save frequently, especially before running complex operations or closing your notebook, to avoid losing any important changes.\n",
    "\n",
    "<br>\n",
    "\n",
    "### Exporting Your Work 📁\n",
    "\n",
    "Jupyter Notebooks offer multiple export options, allowing you to share your work in different formats. One of the easiest ways to share your notebook is by exporting it as an **HTML** file, which can be viewed directly in a web browser.\n",
    "\n",
    "To export your notebook as an HTML file:\n",
    "\n",
    "1. Go to the **File** menu.\n",
    "2. Select **Download as**.\n",
    "3. Choose **HTML (.html)**.\n",
    "\n",
    "This will download an HTML version of your notebook, which is great for sharing or displaying your work online without requiring the recipient to have Jupyter installed!\n",
    "\n",
    "You can also export your notebook in other formats, such as PDF or a Python script, using the same **Download as** menu. Each format serves a different purpose, so feel free to explore!\n"
   ]
  },
  {
   "cell_type": "code",
   "execution_count": null,
   "metadata": {},
   "outputs": [],
   "source": []
  }
 ],
 "metadata": {
  "kernelspec": {
   "display_name": "pyworkshop",
   "language": "python",
   "name": "pyworkshop"
  },
  "language_info": {
   "codemirror_mode": {
    "name": "ipython",
    "version": 3
   },
   "file_extension": ".py",
   "mimetype": "text/x-python",
   "name": "python",
   "nbconvert_exporter": "python",
   "pygments_lexer": "ipython3",
   "version": "3.12.3"
  }
 },
 "nbformat": 4,
 "nbformat_minor": 4
}
